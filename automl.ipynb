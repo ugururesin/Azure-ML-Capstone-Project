{
  "cells": [
    {
      "cell_type": "markdown",
      "source": [
        "# Automated ML\n",
        "TODO: Import Dependencies. In the cell below, import all the dependencies that you will need to complete the project."
      ],
      "metadata": {}
    },
    {
      "cell_type": "code",
      "source": [
        "import azureml.automl\n",
        "from azureml.core import Workspace, Experiment, Model\n",
        "from azureml.core.compute import ComputeTarget, AmlCompute\n",
        "from azureml.core.compute_target import ComputeTargetException\n",
        "from azureml.widgets import RunDetails\n",
        "from azureml.data.dataset_factory import TabularDatasetFactory\n",
        "from azureml.core.dataset import Dataset\n",
        "from azureml.train.automl.utilities import get_primary_metrics\n",
        "from azureml.train.automl import AutoMLConfig\n",
        "from azureml.core.model import InferenceConfig\n",
        "from azureml.core.webservice import AciWebservice\n",
        "from azureml.core.webservice import Webservice\n",
        "from azureml.core.model import Model\n",
        "from azureml.core.environment import Environment\n",
        "from azureml.automl.core.shared import constants\n",
        "\n",
        "\n",
        "import os\n",
        "import json\n",
        "import joblib\n",
        "import logging\n",
        "import numpy as np\n",
        "import pandas as pd\n",
        "from matplotlib import pyplot as plt\n",
        "from sklearn.model_selection import train_test_split"
      ],
      "outputs": [],
      "execution_count": 1,
      "metadata": {
        "gather": {
          "logged": 1648402504332
        },
        "jupyter": {
          "outputs_hidden": false,
          "source_hidden": false
        },
        "nteract": {
          "transient": {
            "deleting": false
          }
        }
      }
    },
    {
      "cell_type": "markdown",
      "source": [
        "## Initializing a Workspace"
      ],
      "metadata": {}
    },
    {
      "cell_type": "code",
      "source": [
        "ws = Workspace.from_config()\n",
        "print(ws.name, ws.resource_group, ws.location, ws.subscription_id, sep = '\\n')"
      ],
      "outputs": [
        {
          "output_type": "stream",
          "name": "stdout",
          "text": "quick-starts-ws-190123\naml-quickstarts-190123\nsouthcentralus\na0a76bad-11a1-4a2d-9887-97a29122c8ed\n"
        }
      ],
      "execution_count": 2,
      "metadata": {
        "gather": {
          "logged": 1648402505597
        },
        "jupyter": {
          "outputs_hidden": false,
          "source_hidden": false
        },
        "nteract": {
          "transient": {
            "deleting": false
          }
        }
      }
    },
    {
      "cell_type": "markdown",
      "source": [
        "TODO: In this markdown cell, give an overview of the dataset you are using. Also mention the task you will be performing."
      ],
      "metadata": {}
    },
    {
      "cell_type": "markdown",
      "source": [
        "## Creating an AML Experiment"
      ],
      "metadata": {
        "nteract": {
          "transient": {
            "deleting": false
          }
        }
      }
    },
    {
      "cell_type": "code",
      "source": [
        "# choose a name for experiment\n",
        "experiment_name = 'automl-heart-failure'\n",
        "experiment = Experiment(ws, experiment_name)\n",
        "run = experiment.start_logging()\n",
        "\n",
        "experiment"
      ],
      "outputs": [
        {
          "output_type": "execute_result",
          "execution_count": 3,
          "data": {
            "text/plain": "Experiment(Name: automl-heart-failure,\nWorkspace: quick-starts-ws-190123)",
            "text/html": "<table style=\"width:100%\"><tr><th>Name</th><th>Workspace</th><th>Report Page</th><th>Docs Page</th></tr><tr><td>automl-heart-failure</td><td>quick-starts-ws-190123</td><td><a href=\"https://ml.azure.com/experiments/id/314fc7c4-fd85-4abf-b5f2-7b50c58acd05?wsid=/subscriptions/a0a76bad-11a1-4a2d-9887-97a29122c8ed/resourcegroups/aml-quickstarts-190123/workspaces/quick-starts-ws-190123&amp;tid=660b3398-b80e-49d2-bc5b-ac1dc93b5254\" target=\"_blank\" rel=\"noopener\">Link to Azure Machine Learning studio</a></td><td><a href=\"https://docs.microsoft.com/en-us/python/api/azureml-core/azureml.core.experiment.Experiment?view=azure-ml-py\" target=\"_blank\" rel=\"noopener\">Link to Documentation</a></td></tr></table>"
          },
          "metadata": {}
        }
      ],
      "execution_count": 3,
      "metadata": {
        "gather": {
          "logged": 1648402513963
        },
        "jupyter": {
          "outputs_hidden": false,
          "source_hidden": false
        },
        "nteract": {
          "transient": {
            "deleting": false
          }
        }
      }
    },
    {
      "cell_type": "markdown",
      "source": [
        "## Creating a Compute Cluster"
      ],
      "metadata": {
        "nteract": {
          "transient": {
            "deleting": false
          }
        }
      }
    },
    {
      "cell_type": "code",
      "source": [
        "amlcompute_cluster_name = \"hf-compute\"\n",
        "\n",
        "try:\n",
        "    compute_target = ComputeTarget(workspace = ws, name = amlcompute_cluster_name)\n",
        "    print('Found existing cluster, use it.')\n",
        "except ComputeTargetException:\n",
        "    compute_config = AmlCompute.provisioning_configuration(vm_size = 'STANDARD_DS3_V2', max_nodes=4)\n",
        "    compute_target = ComputeTarget.create(ws, amlcompute_cluster_name, compute_config)\n",
        "\n",
        "compute_target.wait_for_completion(show_output=True, min_node_count = 1, timeout_in_minutes = 10)"
      ],
      "outputs": [
        {
          "output_type": "stream",
          "name": "stdout",
          "text": "InProgress.\nSucceededProvisioning operation finished, operation \"Succeeded\"\nSucceeded......................................................................................................................\nAmlCompute wait for completion finished\n\nWait timeout has been reached\nCurrent provisioning state of AmlCompute is \"Succeeded\" and current node count is \"0\"\n"
        }
      ],
      "execution_count": 4,
      "metadata": {
        "gather": {
          "logged": 1648403123572
        },
        "jupyter": {
          "outputs_hidden": false,
          "source_hidden": false
        },
        "nteract": {
          "transient": {
            "deleting": false
          }
        }
      }
    },
    {
      "cell_type": "markdown",
      "source": [
        "## Data Wrangling"
      ],
      "metadata": {}
    },
    {
      "cell_type": "markdown",
      "source": [
        "## Data Gathering\n",
        "\n",
        "### Overview\n",
        "In this project, the Heart Failure Prediction dataset from Kaggle is used. The description of the dataset is provided below.\n",
        "\n",
        "**The dataset has the following features:**  \n",
        "* age: Age (numeric)\n",
        "* anaemia: Decrease of red blood cells or hemoglobin (boolean)\n",
        "* creatinine_phosphokinase: Level of the CPK enzyme in the blood (mcg/L)\n",
        "* diabetes: If the patient has diabetes (boolean)\n",
        "* ejection_fraction: Percentage of blood leaving the heart at each contraction (percentage)\n",
        "* high_blood_pressure: If the patient has hypertension (boolean)\n",
        "* platelets: Platelets in the blood (kiloplatelets/mL)\n",
        "* serum_creatinine: Level of serum creatinine in the blood (mg/dL)\n",
        "* serum_sodium: Level of serum sodium in the blood (mEq/L)\n",
        "* sex: Woman or man (binary)\n",
        "\n",
        "**The task:**  \n",
        "Developing a ML model to predict death events using 12 clinical features."
      ],
      "metadata": {}
    },
    {
      "cell_type": "markdown",
      "source": [
        "TODO: Get data. In the cell below, write code to access the data you will be using in this project. Remember that the dataset needs to be external."
      ],
      "metadata": {}
    },
    {
      "cell_type": "code",
      "source": [
        "### Gathering the Dataset\n",
        "data_path = \"https://raw.githubusercontent.com/ugururesin/Azure-ML-Capstone-Project/main/dataset/heart_failure_clinical_records_dataset.csv\"\n",
        "\n",
        "\n",
        "exist = False\n",
        "key = \"heart-failure\"\n",
        "description_text = \"heart failure dataset for binary classification\"\n",
        "\n",
        "if key in ws.datasets.keys(): \n",
        "        exist = True\n",
        "        dataset = ws.datasets[key] \n",
        "        \n",
        "\n",
        "if not exist:\n",
        "        #Creating automl dataset and registering it into the workspace\n",
        "        dataset = Dataset.Tabular.from_delimited_files(data_path)        \n",
        "        \n",
        "        #Register Dataset in Workspace\n",
        "        dataset = dataset.register(workspace=ws,\n",
        "                                   name=key,\n",
        "                                   description=description_text)"
      ],
      "outputs": [],
      "execution_count": 5,
      "metadata": {
        "gather": {
          "logged": 1648403133785
        }
      }
    },
    {
      "cell_type": "markdown",
      "source": [
        "## Data Assesing"
      ],
      "metadata": {}
    },
    {
      "cell_type": "code",
      "source": [
        "df = dataset.to_pandas_dataframe()\n",
        "df.head()"
      ],
      "outputs": [
        {
          "output_type": "execute_result",
          "execution_count": 6,
          "data": {
            "text/plain": "    age  anaemia  creatinine_phosphokinase  diabetes  ejection_fraction  \\\n0  75.0        0                       582         0                 20   \n1  55.0        0                      7861         0                 38   \n2  65.0        0                       146         0                 20   \n3  50.0        1                       111         0                 20   \n4  65.0        1                       160         1                 20   \n\n   high_blood_pressure  platelets  serum_creatinine  serum_sodium  sex  \\\n0                    1  265000.00               1.9           130    1   \n1                    0  263358.03               1.1           136    1   \n2                    0  162000.00               1.3           129    1   \n3                    0  210000.00               1.9           137    1   \n4                    0  327000.00               2.7           116    0   \n\n   smoking  time  DEATH_EVENT  \n0        0     4            1  \n1        0     6            1  \n2        1     7            1  \n3        0     7            1  \n4        0     8            1  ",
            "text/html": "<div>\n<style scoped>\n    .dataframe tbody tr th:only-of-type {\n        vertical-align: middle;\n    }\n\n    .dataframe tbody tr th {\n        vertical-align: top;\n    }\n\n    .dataframe thead th {\n        text-align: right;\n    }\n</style>\n<table border=\"1\" class=\"dataframe\">\n  <thead>\n    <tr style=\"text-align: right;\">\n      <th></th>\n      <th>age</th>\n      <th>anaemia</th>\n      <th>creatinine_phosphokinase</th>\n      <th>diabetes</th>\n      <th>ejection_fraction</th>\n      <th>high_blood_pressure</th>\n      <th>platelets</th>\n      <th>serum_creatinine</th>\n      <th>serum_sodium</th>\n      <th>sex</th>\n      <th>smoking</th>\n      <th>time</th>\n      <th>DEATH_EVENT</th>\n    </tr>\n  </thead>\n  <tbody>\n    <tr>\n      <th>0</th>\n      <td>75.0</td>\n      <td>0</td>\n      <td>582</td>\n      <td>0</td>\n      <td>20</td>\n      <td>1</td>\n      <td>265000.00</td>\n      <td>1.9</td>\n      <td>130</td>\n      <td>1</td>\n      <td>0</td>\n      <td>4</td>\n      <td>1</td>\n    </tr>\n    <tr>\n      <th>1</th>\n      <td>55.0</td>\n      <td>0</td>\n      <td>7861</td>\n      <td>0</td>\n      <td>38</td>\n      <td>0</td>\n      <td>263358.03</td>\n      <td>1.1</td>\n      <td>136</td>\n      <td>1</td>\n      <td>0</td>\n      <td>6</td>\n      <td>1</td>\n    </tr>\n    <tr>\n      <th>2</th>\n      <td>65.0</td>\n      <td>0</td>\n      <td>146</td>\n      <td>0</td>\n      <td>20</td>\n      <td>0</td>\n      <td>162000.00</td>\n      <td>1.3</td>\n      <td>129</td>\n      <td>1</td>\n      <td>1</td>\n      <td>7</td>\n      <td>1</td>\n    </tr>\n    <tr>\n      <th>3</th>\n      <td>50.0</td>\n      <td>1</td>\n      <td>111</td>\n      <td>0</td>\n      <td>20</td>\n      <td>0</td>\n      <td>210000.00</td>\n      <td>1.9</td>\n      <td>137</td>\n      <td>1</td>\n      <td>0</td>\n      <td>7</td>\n      <td>1</td>\n    </tr>\n    <tr>\n      <th>4</th>\n      <td>65.0</td>\n      <td>1</td>\n      <td>160</td>\n      <td>1</td>\n      <td>20</td>\n      <td>0</td>\n      <td>327000.00</td>\n      <td>2.7</td>\n      <td>116</td>\n      <td>0</td>\n      <td>0</td>\n      <td>8</td>\n      <td>1</td>\n    </tr>\n  </tbody>\n</table>\n</div>"
          },
          "metadata": {}
        }
      ],
      "execution_count": 6,
      "metadata": {
        "gather": {
          "logged": 1648403135348
        }
      }
    },
    {
      "cell_type": "code",
      "source": [
        "#Creating training and testing datasets\n",
        "x = df.drop('DEATH_EVENT', axis=1)\n",
        "y = df['DEATH_EVENT']\n",
        "\n",
        "x_train, x_test, y_train, y_test = train_test_split(x, y, test_size = 0.2)\n",
        "\n",
        "train_df = pd.concat([x_train, y_train], axis=1)\n",
        "test_df = pd.concat([x_test, y_test], axis=1)\n",
        "\n",
        "train_df.head()"
      ],
      "outputs": [
        {
          "output_type": "execute_result",
          "execution_count": 7,
          "data": {
            "text/plain": "      age  anaemia  creatinine_phosphokinase  diabetes  ejection_fraction  \\\n137  68.0        1                       646         0                 25   \n70   41.0        0                       148         0                 40   \n192  50.0        1                       121         1                 40   \n10   75.0        1                        81         0                 38   \n88   44.0        0                        84         1                 40   \n\n     high_blood_pressure  platelets  serum_creatinine  serum_sodium  sex  \\\n137                    0   305000.0               2.1           130    1   \n70                     0   374000.0               0.8           140    1   \n192                    0   260000.0               0.7           130    1   \n10                     1   368000.0               4.0           131    1   \n88                     1   235000.0               0.7           139    1   \n\n     smoking  time  DEATH_EVENT  \n137        0   108            0  \n70         1    68            0  \n192        0   175            0  \n10         1    10            1  \n88         0    79            0  ",
            "text/html": "<div>\n<style scoped>\n    .dataframe tbody tr th:only-of-type {\n        vertical-align: middle;\n    }\n\n    .dataframe tbody tr th {\n        vertical-align: top;\n    }\n\n    .dataframe thead th {\n        text-align: right;\n    }\n</style>\n<table border=\"1\" class=\"dataframe\">\n  <thead>\n    <tr style=\"text-align: right;\">\n      <th></th>\n      <th>age</th>\n      <th>anaemia</th>\n      <th>creatinine_phosphokinase</th>\n      <th>diabetes</th>\n      <th>ejection_fraction</th>\n      <th>high_blood_pressure</th>\n      <th>platelets</th>\n      <th>serum_creatinine</th>\n      <th>serum_sodium</th>\n      <th>sex</th>\n      <th>smoking</th>\n      <th>time</th>\n      <th>DEATH_EVENT</th>\n    </tr>\n  </thead>\n  <tbody>\n    <tr>\n      <th>137</th>\n      <td>68.0</td>\n      <td>1</td>\n      <td>646</td>\n      <td>0</td>\n      <td>25</td>\n      <td>0</td>\n      <td>305000.0</td>\n      <td>2.1</td>\n      <td>130</td>\n      <td>1</td>\n      <td>0</td>\n      <td>108</td>\n      <td>0</td>\n    </tr>\n    <tr>\n      <th>70</th>\n      <td>41.0</td>\n      <td>0</td>\n      <td>148</td>\n      <td>0</td>\n      <td>40</td>\n      <td>0</td>\n      <td>374000.0</td>\n      <td>0.8</td>\n      <td>140</td>\n      <td>1</td>\n      <td>1</td>\n      <td>68</td>\n      <td>0</td>\n    </tr>\n    <tr>\n      <th>192</th>\n      <td>50.0</td>\n      <td>1</td>\n      <td>121</td>\n      <td>1</td>\n      <td>40</td>\n      <td>0</td>\n      <td>260000.0</td>\n      <td>0.7</td>\n      <td>130</td>\n      <td>1</td>\n      <td>0</td>\n      <td>175</td>\n      <td>0</td>\n    </tr>\n    <tr>\n      <th>10</th>\n      <td>75.0</td>\n      <td>1</td>\n      <td>81</td>\n      <td>0</td>\n      <td>38</td>\n      <td>1</td>\n      <td>368000.0</td>\n      <td>4.0</td>\n      <td>131</td>\n      <td>1</td>\n      <td>1</td>\n      <td>10</td>\n      <td>1</td>\n    </tr>\n    <tr>\n      <th>88</th>\n      <td>44.0</td>\n      <td>0</td>\n      <td>84</td>\n      <td>1</td>\n      <td>40</td>\n      <td>1</td>\n      <td>235000.0</td>\n      <td>0.7</td>\n      <td>139</td>\n      <td>1</td>\n      <td>0</td>\n      <td>79</td>\n      <td>0</td>\n    </tr>\n  </tbody>\n</table>\n</div>"
          },
          "metadata": {}
        }
      ],
      "execution_count": 7,
      "metadata": {
        "gather": {
          "logged": 1648403135593
        }
      }
    },
    {
      "cell_type": "code",
      "source": [
        "#Since pandas dataframe is not supported, the dataset needs to be converted to tabular dataset\n",
        "if not os.path.isdir('dataset'):\n",
        "    os.mkdir('dataset')\n",
        "\n",
        "pd.DataFrame(train_df).to_csv(\"dataset/train_data.csv\", index=False)\n",
        "pd.DataFrame(test_df).to_csv(\"dataset/test_data.csv\", index=False)\n",
        "\n",
        "ds = ws.get_default_datastore()\n",
        "ds.upload(src_dir = './dataset', target_path = 'heart-failure-dataset/train_data.csv')\n",
        "\n",
        "train_data = Dataset.Tabular.from_delimited_files(path = ds.path('heart-failure-dataset/train_data.csv'))"
      ],
      "outputs": [
        {
          "output_type": "stream",
          "name": "stderr",
          "text": "\"Datastore.upload\" is deprecated after version 1.0.69. Please use \"Dataset.File.upload_directory\" to upload your files             from a local directory and create FileDataset in single method call. See Dataset API change notice at https://aka.ms/dataset-deprecation.\n"
        }
      ],
      "execution_count": 8,
      "metadata": {
        "gather": {
          "logged": 1648403137878
        },
        "jupyter": {
          "outputs_hidden": false,
          "source_hidden": false
        },
        "nteract": {
          "transient": {
            "deleting": false
          }
        }
      }
    },
    {
      "cell_type": "code",
      "source": [
        "train_data"
      ],
      "outputs": [
        {
          "output_type": "execute_result",
          "execution_count": 9,
          "data": {
            "text/plain": "{\n  \"source\": [\n    \"('workspaceblobstore', 'heart-failure-dataset/train_data.csv')\"\n  ],\n  \"definition\": [\n    \"GetDatastoreFiles\",\n    \"ParseDelimited\",\n    \"DropColumns\",\n    \"SetColumnTypes\"\n  ]\n}"
          },
          "metadata": {}
        }
      ],
      "execution_count": 9,
      "metadata": {
        "gather": {
          "logged": 1648403138164
        },
        "jupyter": {
          "outputs_hidden": false,
          "source_hidden": false
        },
        "nteract": {
          "transient": {
            "deleting": false
          }
        }
      }
    },
    {
      "cell_type": "markdown",
      "source": [
        "### Checking the target feature"
      ],
      "metadata": {
        "nteract": {
          "transient": {
            "deleting": false
          }
        }
      }
    },
    {
      "cell_type": "code",
      "source": [
        "df['DEATH_EVENT'].value_counts()"
      ],
      "outputs": [
        {
          "output_type": "execute_result",
          "execution_count": 10,
          "data": {
            "text/plain": "0    203\n1     96\nName: DEATH_EVENT, dtype: int64"
          },
          "metadata": {}
        }
      ],
      "execution_count": 10,
      "metadata": {
        "gather": {
          "logged": 1648403138406
        },
        "jupyter": {
          "outputs_hidden": false,
          "source_hidden": false
        },
        "nteract": {
          "transient": {
            "deleting": false
          }
        }
      }
    },
    {
      "cell_type": "code",
      "source": [
        "get_primary_metrics(\"classification\")"
      ],
      "outputs": [
        {
          "output_type": "execute_result",
          "execution_count": 11,
          "data": {
            "text/plain": "['norm_macro_recall',\n 'average_precision_score_weighted',\n 'precision_score_weighted',\n 'accuracy',\n 'AUC_weighted']"
          },
          "metadata": {}
        }
      ],
      "execution_count": 11,
      "metadata": {
        "gather": {
          "logged": 1648403138608
        },
        "jupyter": {
          "outputs_hidden": false,
          "source_hidden": false
        },
        "nteract": {
          "transient": {
            "deleting": false
          }
        }
      }
    },
    {
      "cell_type": "markdown",
      "source": [
        "## AutoML Configuration\n",
        "\n",
        "TODO: Explain why you chose the automl settings and cofiguration you used below.\n",
        "\n",
        "* **experiment_timeout_minutes**: 15 minutes is set since the dataset is small.\n",
        "\n",
        "* **iterations**: 50 is set since the dataset is small.  \n",
        "\n",
        "* **max_concurrent_iterations**: Represents the maximum number of iterations that would be executed in parallel.\n",
        "\n",
        "* **n_cross_validations**: To avoid overfitting and ensure randomness.\n",
        "\n",
        "* **primary_metric**: Accuracy is selected to be able to compare with HyperDrive's results.\n",
        "\n",
        "* **task**: Classification is selected since the response variable is binary (0 or 1).  \n",
        "\n",
        "* **enable_early_stopping**: Activated to avoid overfitting."
      ],
      "metadata": {}
    },
    {
      "cell_type": "code",
      "source": [
        "# TODO: Put your automl settings here\n",
        "automl_settings = {\n",
        "    \"experiment_timeout_minutes\": 15,\n",
        "    \"iterations\": 50,\n",
        "    \"max_concurrent_iterations\": 3,\n",
        "    \"n_cross_validations\": 3,\n",
        "    \"primary_metric\" : 'accuracy',\n",
        "    \"featurization\" : 'auto',\n",
        "    \"verbosity\": logging.INFO\n",
        "}\n",
        "\n",
        "# TODO: Put your automl config here\n",
        "automl_config = AutoMLConfig(\n",
        "    task = \"classification\", \n",
        "    training_data = train_data,\n",
        "    label_column_name=\"DEATH_EVENT\",\n",
        "    enable_early_stopping= True,\n",
        "    debug_log = \"automl_errors.log\",\n",
        "    compute_target = compute_target,\n",
        "    **automl_settings\n",
        ")\n",
        "                             "
      ],
      "outputs": [],
      "execution_count": 12,
      "metadata": {
        "gather": {
          "logged": 1648403138835
        },
        "jupyter": {
          "outputs_hidden": false,
          "source_hidden": false
        },
        "nteract": {
          "transient": {
            "deleting": false
          }
        }
      }
    },
    {
      "cell_type": "code",
      "source": [
        "# TODO: Submit your experiment\n",
        "remote_run = experiment.submit(automl_config, show_output=True)\n",
        "remote_run.wait_for_completion(show_output=True)"
      ],
      "outputs": [
        {
          "output_type": "stream",
          "name": "stdout",
          "text": "Submitting remote run.\nNo run_configuration provided, running on hf-compute with default configuration\nRunning on remote compute: hf-compute\n"
        },
        {
          "output_type": "display_data",
          "data": {
            "text/plain": "<IPython.core.display.HTML object>",
            "text/html": "<table style=\"width:100%\"><tr><th>Experiment</th><th>Id</th><th>Type</th><th>Status</th><th>Details Page</th><th>Docs Page</th></tr><tr><td>automl-heart-failure</td><td>AutoML_5ca316bf-18ce-4c57-8b57-c73a2bf3acb6</td><td>automl</td><td>NotStarted</td><td><a href=\"https://ml.azure.com/runs/AutoML_5ca316bf-18ce-4c57-8b57-c73a2bf3acb6?wsid=/subscriptions/a0a76bad-11a1-4a2d-9887-97a29122c8ed/resourcegroups/aml-quickstarts-190123/workspaces/quick-starts-ws-190123&amp;tid=660b3398-b80e-49d2-bc5b-ac1dc93b5254\" target=\"_blank\" rel=\"noopener\">Link to Azure Machine Learning studio</a></td><td><a href=\"https://docs.microsoft.com/en-us/python/api/overview/azure/ml/intro?view=azure-ml-py\" target=\"_blank\" rel=\"noopener\">Link to Documentation</a></td></tr></table>"
          },
          "metadata": {}
        },
        {
          "output_type": "stream",
          "name": "stdout",
          "text": "\nCurrent status: FeaturesGeneration. Generating features for the dataset.\nCurrent status: DatasetCrossValidationSplit. Generating individually featurized CV splits.\nCurrent status: ModelSelection. Beginning model selection.\n\n********************************************************************************************\nDATA GUARDRAILS: \n\nTYPE:         Class balancing detection\nSTATUS:       PASSED\nDESCRIPTION:  Your inputs were analyzed, and all classes are balanced in your training data.\n              Learn more about imbalanced data: https://aka.ms/AutomatedMLImbalancedData\n\n********************************************************************************************\n\nTYPE:         Missing feature values imputation\nSTATUS:       PASSED\nDESCRIPTION:  No feature missing values were detected in the training data.\n              Learn more about missing value imputation: https://aka.ms/AutomatedMLFeaturization\n\n********************************************************************************************\n\nTYPE:         High cardinality feature detection\nSTATUS:       PASSED\nDESCRIPTION:  Your inputs were analyzed, and no high cardinality features were detected.\n              Learn more about high cardinality feature handling: https://aka.ms/AutomatedMLFeaturization\n\n********************************************************************************************\n\n********************************************************************************************\nITER: The iteration being evaluated.\nPIPELINE: A summary description of the pipeline being evaluated.\nDURATION: Time taken for the current iteration.\nMETRIC: The result of computing score on the fitted pipeline.\nBEST: The best observed score thus far.\n********************************************************************************************\n\n ITER   PIPELINE                                       DURATION            METRIC      BEST\n    0   MaxAbsScaler LightGBM                          0:00:08             0.9431    0.9431\n    1   MaxAbsScaler XGBoostClassifier                 0:00:08             0.9047    0.9431\n    2   MaxAbsScaler ExtremeRandomTrees                0:00:09             0.8311    0.9431\n    3   SparseNormalizer XGBoostClassifier             0:00:08             0.8930    0.9431\n    4   MaxAbsScaler LightGBM                          0:00:08             0.8578    0.9431\n    5   MaxAbsScaler LightGBM                          0:00:08             0.7858    0.9431\n    6   StandardScalerWrapper XGBoostClassifier        0:00:08             0.8762    0.9431\n    7   MaxAbsScaler LogisticRegression                0:00:08             0.8444    0.9431\n    8   StandardScalerWrapper ExtremeRandomTrees       0:00:08             0.6889    0.9431\n    9   StandardScalerWrapper XGBoostClassifier        0:00:08             0.8477    0.9431\n   10   SparseNormalizer LightGBM                      0:00:08             0.8645    0.9431\n   11   StandardScalerWrapper XGBoostClassifier        0:00:08             0.8879    0.9431\n   12   MaxAbsScaler LogisticRegression                0:00:08             0.8461    0.9431\n   13   MaxAbsScaler SGD                               0:00:09             0.8278    0.9431\n   14   StandardScalerWrapper XGBoostClassifier        0:00:08             0.8645    0.9431\n   15   SparseNormalizer RandomForest                  0:00:10             0.9063    0.9431\n   16   StandardScalerWrapper LogisticRegression       0:00:08             0.8160    0.9431\n   17   StandardScalerWrapper RandomForest             0:00:08             0.8879    0.9431\n   18   StandardScalerWrapper XGBoostClassifier        0:00:08             0.9113    0.9431\n   19   TruncatedSVDWrapper RandomForest               0:00:10             0.8879    0.9431\n   21   StandardScalerWrapper XGBoostClassifier        0:00:04             0.9197    0.9431\n   22   SparseNormalizer XGBoostClassifier             0:00:04             0.9063    0.9431\n   23   StandardScalerWrapper LogisticRegression       0:00:04             0.8495    0.9431\n   20   TruncatedSVDWrapper RandomForest               0:00:04             0.9280    0.9431\n   24   SparseNormalizer XGBoostClassifier             0:00:04             0.8779    0.9431\n   25   StandardScalerWrapper LightGBM                 0:00:04             0.8478    0.9431\n   26   StandardScalerWrapper XGBoostClassifier        0:00:04             0.8913    0.9431\n   27   SparseNormalizer XGBoostClassifier             0:00:04             0.9030    0.9431\n   28   SparseNormalizer XGBoostClassifier             0:00:04             0.8712    0.9431\n   29   MaxAbsScaler LogisticRegression                0:00:04             0.8277    0.9431\n"
        }
      ],
      "execution_count": 13,
      "metadata": {
        "gather": {
          "logged": 1648398853232
        },
        "jupyter": {
          "outputs_hidden": false,
          "source_hidden": false
        },
        "nteract": {
          "transient": {
            "deleting": false
          }
        }
      }
    },
    {
      "cell_type": "markdown",
      "source": [
        "## Run Details\n",
        "\n",
        "OPTIONAL: Write about the different models trained and their performance. Why do you think some models did better than others?\n",
        "\n",
        "TODO: In the cell below, use the `RunDetails` widget to show the different experiments."
      ],
      "metadata": {}
    },
    {
      "cell_type": "code",
      "source": [
        "RunDetails(remote_run).show()"
      ],
      "outputs": [
        {
          "output_type": "display_data",
          "data": {
            "text/plain": "_AutoMLWidget(widget_settings={'childWidgetDisplay': 'popup', 'send_telemetry': False, 'log_level': 'INFO', 's…",
            "application/vnd.jupyter.widget-view+json": {
              "version_major": 2,
              "version_minor": 0,
              "model_id": "cb1aea49f905444485ee3a1ce3cf4d20"
            }
          },
          "metadata": {}
        },
        {
          "output_type": "display_data",
          "data": {
            "application/aml.mini.widget.v1": "{\"status\": \"Completed\", \"workbench_run_details_uri\": \"https://ml.azure.com/runs/AutoML_5ca316bf-18ce-4c57-8b57-c73a2bf3acb6?wsid=/subscriptions/a0a76bad-11a1-4a2d-9887-97a29122c8ed/resourcegroups/aml-quickstarts-190123/workspaces/quick-starts-ws-190123&tid=660b3398-b80e-49d2-bc5b-ac1dc93b5254\", \"run_id\": \"AutoML_5ca316bf-18ce-4c57-8b57-c73a2bf3acb6\", \"run_properties\": {\"run_id\": \"AutoML_5ca316bf-18ce-4c57-8b57-c73a2bf3acb6\", \"created_utc\": \"2022-03-27T17:45:46.559983Z\", \"properties\": {\"num_iterations\": \"50\", \"training_type\": \"TrainFull\", \"acquisition_function\": \"EI\", \"primary_metric\": \"accuracy\", \"train_split\": \"0\", \"acquisition_parameter\": \"0\", \"num_cross_validation\": \"3\", \"target\": \"hf-compute\", \"AMLSettingsJsonString\": \"{\\\"path\\\":null,\\\"name\\\":\\\"automl-heart-failure\\\",\\\"subscription_id\\\":\\\"a0a76bad-11a1-4a2d-9887-97a29122c8ed\\\",\\\"resource_group\\\":\\\"aml-quickstarts-190123\\\",\\\"workspace_name\\\":\\\"quick-starts-ws-190123\\\",\\\"region\\\":\\\"southcentralus\\\",\\\"compute_target\\\":\\\"hf-compute\\\",\\\"spark_service\\\":null,\\\"azure_service\\\":\\\"remote\\\",\\\"many_models\\\":false,\\\"pipeline_fetch_max_batch_size\\\":1,\\\"enable_batch_run\\\":true,\\\"enable_run_restructure\\\":false,\\\"start_auxiliary_runs_before_parent_complete\\\":false,\\\"enable_code_generation\\\":false,\\\"iterations\\\":50,\\\"primary_metric\\\":\\\"accuracy\\\",\\\"task_type\\\":\\\"classification\\\",\\\"positive_label\\\":null,\\\"data_script\\\":null,\\\"test_size\\\":0.0,\\\"test_include_predictions_only\\\":false,\\\"validation_size\\\":0.0,\\\"n_cross_validations\\\":3,\\\"y_min\\\":null,\\\"y_max\\\":null,\\\"num_classes\\\":null,\\\"featurization\\\":\\\"auto\\\",\\\"_ignore_package_version_incompatibilities\\\":false,\\\"is_timeseries\\\":false,\\\"max_cores_per_iteration\\\":1,\\\"max_concurrent_iterations\\\":3,\\\"iteration_timeout_minutes\\\":null,\\\"mem_in_mb\\\":null,\\\"enforce_time_on_windows\\\":false,\\\"experiment_timeout_minutes\\\":15,\\\"experiment_exit_score\\\":null,\\\"whitelist_models\\\":null,\\\"blacklist_algos\\\":[\\\"TensorFlowLinearClassifier\\\",\\\"TensorFlowDNN\\\"],\\\"supported_models\\\":[\\\"RandomForest\\\",\\\"AveragedPerceptronClassifier\\\",\\\"BernoulliNaiveBayes\\\",\\\"LightGBM\\\",\\\"TabnetClassifier\\\",\\\"MultinomialNaiveBayes\\\",\\\"LinearSVM\\\",\\\"ExtremeRandomTrees\\\",\\\"SVM\\\",\\\"LogisticRegression\\\",\\\"TensorFlowLinearClassifier\\\",\\\"XGBoostClassifier\\\",\\\"GradientBoosting\\\",\\\"DecisionTree\\\",\\\"TensorFlowDNN\\\",\\\"KNN\\\",\\\"SGD\\\"],\\\"private_models\\\":[],\\\"auto_blacklist\\\":true,\\\"blacklist_samples_reached\\\":false,\\\"exclude_nan_labels\\\":true,\\\"verbosity\\\":20,\\\"_debug_log\\\":\\\"azureml_automl.log\\\",\\\"show_warnings\\\":false,\\\"model_explainability\\\":true,\\\"service_url\\\":null,\\\"sdk_url\\\":null,\\\"sdk_packages\\\":null,\\\"enable_onnx_compatible_models\\\":false,\\\"enable_split_onnx_featurizer_estimator_models\\\":false,\\\"vm_type\\\":\\\"STANDARD_DS3_V2\\\",\\\"telemetry_verbosity\\\":20,\\\"send_telemetry\\\":true,\\\"enable_dnn\\\":false,\\\"scenario\\\":\\\"SDK-1.13.0\\\",\\\"environment_label\\\":null,\\\"save_mlflow\\\":false,\\\"enable_categorical_indicators\\\":false,\\\"force_text_dnn\\\":false,\\\"enable_feature_sweeping\\\":true,\\\"enable_early_stopping\\\":true,\\\"early_stopping_n_iters\\\":10,\\\"arguments\\\":null,\\\"dataset_id\\\":\\\"ad1a5d3b-795e-4798-bb5d-808382cf4bfd\\\",\\\"hyperdrive_config\\\":null,\\\"validation_dataset_id\\\":null,\\\"run_source\\\":null,\\\"metrics\\\":null,\\\"enable_metric_confidence\\\":false,\\\"enable_ensembling\\\":true,\\\"enable_stack_ensembling\\\":true,\\\"ensemble_iterations\\\":15,\\\"enable_tf\\\":false,\\\"enable_subsampling\\\":false,\\\"subsample_seed\\\":null,\\\"enable_nimbusml\\\":false,\\\"enable_streaming\\\":false,\\\"force_streaming\\\":false,\\\"track_child_runs\\\":true,\\\"allowed_private_models\\\":[],\\\"label_column_name\\\":\\\"DEATH_EVENT\\\",\\\"weight_column_name\\\":null,\\\"cv_split_column_names\\\":null,\\\"enable_local_managed\\\":false,\\\"_local_managed_run_id\\\":null,\\\"cost_mode\\\":1,\\\"lag_length\\\":0,\\\"metric_operation\\\":\\\"maximize\\\",\\\"preprocess\\\":true}\", \"DataPrepJsonString\": \"{\\\\\\\"training_data\\\\\\\": {\\\\\\\"datasetId\\\\\\\": \\\\\\\"ad1a5d3b-795e-4798-bb5d-808382cf4bfd\\\\\\\"}, \\\\\\\"datasets\\\\\\\": 0}\", \"EnableSubsampling\": \"False\", \"runTemplate\": \"AutoML\", \"azureml.runsource\": \"automl\", \"display_task_type\": \"classification\", \"dependencies_versions\": \"{\\\"azureml-widgets\\\": \\\"1.38.0\\\", \\\"azureml-train\\\": \\\"1.38.0\\\", \\\"azureml-train-restclients-hyperdrive\\\": \\\"1.38.0\\\", \\\"azureml-train-core\\\": \\\"1.38.0\\\", \\\"azureml-train-automl-client\\\": \\\"1.38.0\\\", \\\"azureml-tensorboard\\\": \\\"1.38.0\\\", \\\"azureml-telemetry\\\": \\\"1.38.0\\\", \\\"azureml-sdk\\\": \\\"1.38.0\\\", \\\"azureml-samples\\\": \\\"0+unknown\\\", \\\"azureml-responsibleai\\\": \\\"1.38.0\\\", \\\"azureml-pipeline\\\": \\\"1.38.0\\\", \\\"azureml-pipeline-steps\\\": \\\"1.38.0\\\", \\\"azureml-pipeline-core\\\": \\\"1.38.0\\\", \\\"azureml-opendatasets\\\": \\\"1.38.0\\\", \\\"azureml-mlflow\\\": \\\"1.38.0\\\", \\\"azureml-interpret\\\": \\\"1.38.0\\\", \\\"azureml-inference-server-http\\\": \\\"0.4.2\\\", \\\"azureml-explain-model\\\": \\\"1.38.0\\\", \\\"azureml-defaults\\\": \\\"1.38.0\\\", \\\"azureml-dataset-runtime\\\": \\\"1.38.0\\\", \\\"azureml-dataprep\\\": \\\"2.26.0\\\", \\\"azureml-dataprep-rslex\\\": \\\"2.2.0\\\", \\\"azureml-dataprep-native\\\": \\\"38.0.0\\\", \\\"azureml-datadrift\\\": \\\"1.38.0\\\", \\\"azureml-core\\\": \\\"1.38.0\\\", \\\"azureml-contrib-services\\\": \\\"1.38.0\\\", \\\"azureml-contrib-server\\\": \\\"1.38.0\\\", \\\"azureml-contrib-reinforcementlearning\\\": \\\"1.38.0\\\", \\\"azureml-contrib-pipeline-steps\\\": \\\"1.38.0\\\", \\\"azureml-contrib-notebook\\\": \\\"1.38.0\\\", \\\"azureml-contrib-fairness\\\": \\\"1.38.0\\\", \\\"azureml-contrib-dataset\\\": \\\"1.38.0\\\", \\\"azureml-cli-common\\\": \\\"1.38.0\\\", \\\"azureml-automl-core\\\": \\\"1.38.0\\\", \\\"azureml-accel-models\\\": \\\"1.38.0\\\"}\", \"_aml_system_scenario_identification\": \"Remote.Parent\", \"ClientType\": \"SDK\", \"environment_cpu_name\": \"AzureML-AutoML\", \"environment_cpu_label\": \"py36\", \"environment_gpu_name\": \"AzureML-AutoML-GPU\", \"environment_gpu_label\": \"py36\", \"root_attribution\": \"automl\", \"attribution\": \"AutoML\", \"Orchestrator\": \"AutoML\", \"CancelUri\": \"https://southcentralus.api.azureml.ms/jasmine/v1.0/subscriptions/a0a76bad-11a1-4a2d-9887-97a29122c8ed/resourceGroups/aml-quickstarts-190123/providers/Microsoft.MachineLearningServices/workspaces/quick-starts-ws-190123/experimentids/314fc7c4-fd85-4abf-b5f2-7b50c58acd05/cancel/AutoML_5ca316bf-18ce-4c57-8b57-c73a2bf3acb6\", \"ClientSdkVersion\": \"1.38.0\", \"snapshotId\": \"00000000-0000-0000-0000-000000000000\", \"SetupRunId\": \"AutoML_5ca316bf-18ce-4c57-8b57-c73a2bf3acb6_setup\", \"SetupRunContainerId\": \"dcid.AutoML_5ca316bf-18ce-4c57-8b57-c73a2bf3acb6_setup\", \"FeaturizationRunJsonPath\": \"featurizer_container.json\", \"FeaturizationRunId\": \"AutoML_5ca316bf-18ce-4c57-8b57-c73a2bf3acb6_featurize\", \"ProblemInfoJsonString\": \"{\\\"dataset_num_categorical\\\": 0, \\\"is_sparse\\\": true, \\\"subsampling\\\": false, \\\"has_extra_col\\\": true, \\\"dataset_classes\\\": 2, \\\"dataset_features\\\": 54, \\\"dataset_samples\\\": 598, \\\"single_frequency_class_detected\\\": false}\", \"ModelExplainRunId\": \"AutoML_5ca316bf-18ce-4c57-8b57-c73a2bf3acb6_ModelExplain\"}, \"tags\": {\"model_explain_run\": \"best_run\", \"_aml_system_automl_run_workspace_id\": \"bc59915c-d2f7-447f-9fe7-c0e9fa4b1248\", \"_aml_system_azureml.automlComponent\": \"AutoML\", \"pipeline_id\": \"\", \"score\": \"\", \"predicted_cost\": \"\", \"fit_time\": \"\", \"training_percent\": \"\", \"iteration\": \"\", \"run_preprocessor\": \"\", \"run_algorithm\": \"\", \"dynamic_whitelisting_iterations\": \"<25>;<30>;\", \"_aml_system_azureml.automl_early_exit_message\": \"No scores improved over last 20 iterations, so experiment stopped early. This early stopping behavior can be disabled by setting enable_early_stopping = False in AutoMLConfig for notebook/python SDK runs.\", \"automl_best_child_run_id\": \"AutoML_5ca316bf-18ce-4c57-8b57-c73a2bf3acb6_34\", \"model_explain_best_run_child_id\": \"AutoML_5ca316bf-18ce-4c57-8b57-c73a2bf3acb6_34\"}, \"end_time_utc\": \"2022-03-27T18:00:50.493268Z\", \"status\": \"Completed\", \"log_files\": {}, \"log_groups\": [], \"run_duration\": \"0:15:03\", \"run_number\": \"1648403146\", \"run_queued_details\": {\"status\": \"Completed\", \"details\": null}}, \"child_runs\": [{\"run_id\": \"AutoML_5ca316bf-18ce-4c57-8b57-c73a2bf3acb6_setup\", \"run_number\": 1648403159, \"metric\": null, \"status\": \"Completed\", \"run_type\": \"azureml.scriptrun\", \"training_percent\": null, \"start_time\": \"2022-03-27T17:48:03.438862Z\", \"end_time\": \"2022-03-27T17:49:22.486734Z\", \"created_time\": \"2022-03-27T17:45:59.08344Z\", \"created_time_dt\": \"2022-03-27T17:45:59.08344Z\", \"duration\": \"0:03:23\", \"iteration\": null, \"goal\": null, \"run_name\": \"Completed\", \"run_properties\": null}, {\"run_id\": \"AutoML_5ca316bf-18ce-4c57-8b57-c73a2bf3acb6_featurize\", \"run_number\": 1648403362, \"metric\": null, \"status\": \"Completed\", \"run_type\": \"automl.featurization\", \"training_percent\": null, \"start_time\": \"2022-03-27T17:49:23.07196Z\", \"end_time\": \"2022-03-27T17:50:25.256384Z\", \"created_time\": \"2022-03-27T17:49:22.753307Z\", \"created_time_dt\": \"2022-03-27T17:49:22.753307Z\", \"duration\": \"0:01:02\", \"iteration\": null, \"goal\": null, \"run_name\": \"Completed\", \"run_properties\": null}, {\"run_id\": \"AutoML_5ca316bf-18ce-4c57-8b57-c73a2bf3acb6_0\", \"run_number\": 1648403426, \"metric\": null, \"status\": \"Completed\", \"run_type\": null, \"training_percent\": \"100\", \"start_time\": \"2022-03-27T17:50:43.791482Z\", \"end_time\": \"2022-03-27T17:50:52.177543Z\", \"created_time\": \"2022-03-27T17:50:26.532528Z\", \"created_time_dt\": \"2022-03-27T17:50:26.532528Z\", \"duration\": \"0:00:25\", \"iteration\": \"0\", \"goal\": \"accuracy_max\", \"run_name\": \"MaxAbsScaler, LightGBM\", \"run_properties\": \"copy=True\", \"primary_metric\": 0.94313233, \"best_metric\": 0.94313233}, {\"run_id\": \"AutoML_5ca316bf-18ce-4c57-8b57-c73a2bf3acb6_2\", \"run_number\": 1648403427, \"metric\": null, \"status\": \"Completed\", \"run_type\": null, \"training_percent\": \"100\", \"start_time\": \"2022-03-27T17:51:01.019795Z\", \"end_time\": \"2022-03-27T17:51:10.177563Z\", \"created_time\": \"2022-03-27T17:50:27.400085Z\", \"created_time_dt\": \"2022-03-27T17:50:27.400085Z\", \"duration\": \"0:00:42\", \"iteration\": \"2\", \"goal\": \"accuracy_max\", \"run_name\": \"MaxAbsScaler, ExtremeRandomTrees\", \"run_properties\": \"copy=True\", \"primary_metric\": 0.8311139, \"best_metric\": 0.94313233}, {\"run_id\": \"AutoML_5ca316bf-18ce-4c57-8b57-c73a2bf3acb6_4\", \"run_number\": 1648403428, \"metric\": null, \"status\": \"Completed\", \"run_type\": null, \"training_percent\": \"100\", \"start_time\": \"2022-03-27T17:51:18.764789Z\", \"end_time\": \"2022-03-27T17:51:26.872108Z\", \"created_time\": \"2022-03-27T17:50:28.282289Z\", \"created_time_dt\": \"2022-03-27T17:50:28.282289Z\", \"duration\": \"0:00:58\", \"iteration\": \"4\", \"goal\": \"accuracy_max\", \"run_name\": \"MaxAbsScaler, LightGBM\", \"run_properties\": \"copy=True\", \"primary_metric\": 0.85784757, \"best_metric\": 0.94313233}, {\"run_id\": \"AutoML_5ca316bf-18ce-4c57-8b57-c73a2bf3acb6_6\", \"run_number\": 1648403429, \"metric\": null, \"status\": \"Completed\", \"run_type\": null, \"training_percent\": \"100\", \"start_time\": \"2022-03-27T17:51:35.52633Z\", \"end_time\": \"2022-03-27T17:51:43.773329Z\", \"created_time\": \"2022-03-27T17:50:29.090972Z\", \"created_time_dt\": \"2022-03-27T17:50:29.090972Z\", \"duration\": \"0:01:14\", \"iteration\": \"6\", \"goal\": \"accuracy_max\", \"run_name\": \"StandardScalerWrapper, XGBoostClassifier\", \"run_properties\": \"\\n    copy=True,\\n    with_mean=False,\\n    with_std=False\\n\", \"primary_metric\": 0.87619765, \"best_metric\": 0.94313233}, {\"run_id\": \"AutoML_5ca316bf-18ce-4c57-8b57-c73a2bf3acb6_8\", \"run_number\": 1648403430, \"metric\": null, \"status\": \"Completed\", \"run_type\": null, \"training_percent\": \"100\", \"start_time\": \"2022-03-27T17:52:10.882842Z\", \"end_time\": \"2022-03-27T17:52:19.050733Z\", \"created_time\": \"2022-03-27T17:50:30.417548Z\", \"created_time_dt\": \"2022-03-27T17:50:30.417548Z\", \"duration\": \"0:01:48\", \"iteration\": \"8\", \"goal\": \"accuracy_max\", \"run_name\": \"StandardScalerWrapper, ExtremeRandomTrees\", \"run_properties\": \"\\n    copy=True,\\n    with_mean=False,\\n    with_std=False\\n\", \"primary_metric\": 0.68889447, \"best_metric\": 0.94313233}, {\"run_id\": \"AutoML_5ca316bf-18ce-4c57-8b57-c73a2bf3acb6_10\", \"run_number\": 1648403431, \"metric\": null, \"status\": \"Completed\", \"run_type\": null, \"training_percent\": \"100\", \"start_time\": \"2022-03-27T17:52:27.541729Z\", \"end_time\": \"2022-03-27T17:52:35.52969Z\", \"created_time\": \"2022-03-27T17:50:31.297868Z\", \"created_time_dt\": \"2022-03-27T17:50:31.297868Z\", \"duration\": \"0:02:04\", \"iteration\": \"10\", \"goal\": \"accuracy_max\", \"run_name\": \"SparseNormalizer, LightGBM\", \"run_properties\": \"copy=True, norm='l1'\", \"primary_metric\": 0.86452261, \"best_metric\": 0.94313233}, {\"run_id\": \"AutoML_5ca316bf-18ce-4c57-8b57-c73a2bf3acb6_worker_1\", \"run_number\": 1648403432, \"metric\": null, \"status\": \"Completed\", \"run_type\": \"azureml.scriptrun\", \"training_percent\": null, \"start_time\": \"2022-03-27T17:52:36.405279Z\", \"end_time\": \"2022-03-27T17:53:06.766599Z\", \"created_time\": \"2022-03-27T17:50:32.837294Z\", \"created_time_dt\": \"2022-03-27T17:50:32.837294Z\", \"duration\": \"0:02:33\", \"iteration\": null, \"goal\": null, \"run_name\": \"Completed\", \"run_properties\": null}, {\"run_id\": \"AutoML_5ca316bf-18ce-4c57-8b57-c73a2bf3acb6_14\", \"run_number\": 1648403433, \"metric\": null, \"status\": \"Completed\", \"run_type\": null, \"training_percent\": \"100\", \"start_time\": \"2022-03-27T17:53:15.662887Z\", \"end_time\": \"2022-03-27T17:53:23.874163Z\", \"created_time\": \"2022-03-27T17:50:33.002219Z\", \"created_time_dt\": \"2022-03-27T17:50:33.002219Z\", \"duration\": \"0:02:50\", \"iteration\": \"14\", \"goal\": \"accuracy_max\", \"run_name\": \"StandardScalerWrapper, XGBoostClassifier\", \"run_properties\": \"\\n    copy=True,\\n    with_mean=False,\\n    with_std=False\\n\", \"primary_metric\": 0.86450586, \"best_metric\": 0.94313233}, {\"run_id\": \"AutoML_5ca316bf-18ce-4c57-8b57-c73a2bf3acb6_17\", \"run_number\": 1648403434, \"metric\": null, \"status\": \"Completed\", \"run_type\": null, \"training_percent\": \"100\", \"start_time\": \"2022-03-27T17:53:41.943998Z\", \"end_time\": \"2022-03-27T17:53:50.293975Z\", \"created_time\": \"2022-03-27T17:50:34.275051Z\", \"created_time_dt\": \"2022-03-27T17:50:34.275051Z\", \"duration\": \"0:03:16\", \"iteration\": \"17\", \"goal\": \"accuracy_max\", \"run_name\": \"StandardScalerWrapper, RandomForest\", \"run_properties\": \"\\n    copy=True,\\n    with_mean=False,\\n    with_std=False\\n\", \"primary_metric\": 0.88791457, \"best_metric\": 0.94313233}, {\"run_id\": \"AutoML_5ca316bf-18ce-4c57-8b57-c73a2bf3acb6_worker_2\", \"run_number\": 1648403435, \"metric\": null, \"status\": \"Completed\", \"run_type\": \"azureml.scriptrun\", \"training_percent\": null, \"start_time\": \"2022-03-27T17:52:38.404589Z\", \"end_time\": \"2022-03-27T17:54:14.087571Z\", \"created_time\": \"2022-03-27T17:50:35.389376Z\", \"created_time_dt\": \"2022-03-27T17:50:35.389376Z\", \"duration\": \"0:03:38\", \"iteration\": null, \"goal\": null, \"run_name\": \"Completed\", \"run_properties\": null}, {\"run_id\": \"AutoML_5ca316bf-18ce-4c57-8b57-c73a2bf3acb6_21\", \"run_number\": 1648403632, \"metric\": null, \"status\": \"Completed\", \"run_type\": \"azureml.scriptrun\", \"training_percent\": \"100\", \"start_time\": \"2022-03-27T17:54:13.897614Z\", \"end_time\": \"2022-03-27T17:54:17.595694Z\", \"created_time\": \"2022-03-27T17:53:52.963362Z\", \"created_time_dt\": \"2022-03-27T17:53:52.963362Z\", \"duration\": \"0:00:24\", \"iteration\": \"21\", \"goal\": \"accuracy_max\", \"run_name\": \"StandardScalerWrapper, XGBoostClassifier\", \"run_properties\": \"\\n    copy=True,\\n    with_mean=False,\\n    with_std=False\\n\", \"primary_metric\": 0.91971524, \"best_metric\": 0.94313233}, {\"run_id\": \"AutoML_5ca316bf-18ce-4c57-8b57-c73a2bf3acb6_22\", \"run_number\": 1648403659, \"metric\": null, \"status\": \"Completed\", \"run_type\": \"azureml.scriptrun\", \"training_percent\": \"100\", \"start_time\": \"2022-03-27T17:54:54.857877Z\", \"end_time\": \"2022-03-27T17:54:58.503085Z\", \"created_time\": \"2022-03-27T17:54:19.95464Z\", \"created_time_dt\": \"2022-03-27T17:54:19.95464Z\", \"duration\": \"0:00:38\", \"iteration\": \"22\", \"goal\": \"accuracy_max\", \"run_name\": \"SparseNormalizer, XGBoostClassifier\", \"run_properties\": \"copy=True, norm='l1'\", \"primary_metric\": 0.90629816, \"best_metric\": 0.94313233}, {\"run_id\": \"AutoML_5ca316bf-18ce-4c57-8b57-c73a2bf3acb6_24\", \"run_number\": 1648403700, \"metric\": null, \"status\": \"Completed\", \"run_type\": \"azureml.scriptrun\", \"training_percent\": \"100\", \"start_time\": \"2022-03-27T17:56:15.935264Z\", \"end_time\": \"2022-03-27T17:56:19.592997Z\", \"created_time\": \"2022-03-27T17:55:00.199954Z\", \"created_time_dt\": \"2022-03-27T17:55:00.199954Z\", \"duration\": \"0:01:19\", \"iteration\": \"24\", \"goal\": \"accuracy_max\", \"run_name\": \"SparseNormalizer, XGBoostClassifier\", \"run_properties\": \"copy=True, norm='l2'\", \"primary_metric\": 0.8779062, \"best_metric\": 0.94313233}, {\"run_id\": \"AutoML_5ca316bf-18ce-4c57-8b57-c73a2bf3acb6_25\", \"run_number\": 1648403705, \"metric\": null, \"status\": \"Completed\", \"run_type\": \"azureml.scriptrun\", \"training_percent\": \"100\", \"start_time\": \"2022-03-27T17:56:18.938344Z\", \"end_time\": \"2022-03-27T17:56:22.703561Z\", \"created_time\": \"2022-03-27T17:55:05.529098Z\", \"created_time_dt\": \"2022-03-27T17:55:05.529098Z\", \"duration\": \"0:01:17\", \"iteration\": \"25\", \"goal\": \"accuracy_max\", \"run_name\": \"StandardScalerWrapper, LightGBM\", \"run_properties\": \"\\n    copy=True,\\n    with_mean=False,\\n    with_std=True\\n\", \"primary_metric\": 0.84784757, \"best_metric\": 0.94313233}, {\"run_id\": \"AutoML_5ca316bf-18ce-4c57-8b57-c73a2bf3acb6_26\", \"run_number\": 1648403719, \"metric\": null, \"status\": \"Completed\", \"run_type\": \"azureml.scriptrun\", \"training_percent\": \"100\", \"start_time\": \"2022-03-27T17:57:03.044297Z\", \"end_time\": \"2022-03-27T17:57:06.716418Z\", \"created_time\": \"2022-03-27T17:55:19.488647Z\", \"created_time_dt\": \"2022-03-27T17:55:19.488647Z\", \"duration\": \"0:01:47\", \"iteration\": \"26\", \"goal\": \"accuracy_max\", \"run_name\": \"StandardScalerWrapper, XGBoostClassifier\", \"run_properties\": \"\\n    copy=True,\\n    with_mean=False,\\n    with_std=False\\n\", \"primary_metric\": 0.89133166, \"best_metric\": 0.94313233}, {\"run_id\": \"AutoML_5ca316bf-18ce-4c57-8b57-c73a2bf3acb6_27\", \"run_number\": 1648403781, \"metric\": null, \"status\": \"Completed\", \"run_type\": \"azureml.scriptrun\", \"training_percent\": \"100\", \"start_time\": \"2022-03-27T17:57:05.719524Z\", \"end_time\": \"2022-03-27T17:57:09.484398Z\", \"created_time\": \"2022-03-27T17:56:21.192659Z\", \"created_time_dt\": \"2022-03-27T17:56:21.192659Z\", \"duration\": \"0:00:48\", \"iteration\": \"27\", \"goal\": \"accuracy_max\", \"run_name\": \"SparseNormalizer, XGBoostClassifier\", \"run_properties\": \"copy=True, norm='l1'\", \"primary_metric\": 0.90298157, \"best_metric\": 0.94313233}, {\"run_id\": \"AutoML_5ca316bf-18ce-4c57-8b57-c73a2bf3acb6_28\", \"run_number\": 1648403784, \"metric\": null, \"status\": \"Completed\", \"run_type\": \"azureml.scriptrun\", \"training_percent\": \"100\", \"start_time\": \"2022-03-27T17:58:27.197884Z\", \"end_time\": \"2022-03-27T17:58:30.863244Z\", \"created_time\": \"2022-03-27T17:56:24.116241Z\", \"created_time_dt\": \"2022-03-27T17:56:24.116241Z\", \"duration\": \"0:02:06\", \"iteration\": \"28\", \"goal\": \"accuracy_max\", \"run_name\": \"SparseNormalizer, XGBoostClassifier\", \"run_properties\": \"copy=True, norm='l1'\", \"primary_metric\": 0.87118928, \"best_metric\": 0.94313233}, {\"run_id\": \"AutoML_5ca316bf-18ce-4c57-8b57-c73a2bf3acb6_29\", \"run_number\": 1648403828, \"metric\": null, \"status\": \"Completed\", \"run_type\": \"azureml.scriptrun\", \"training_percent\": \"100\", \"start_time\": \"2022-03-27T17:58:27.401534Z\", \"end_time\": \"2022-03-27T17:58:31.151778Z\", \"created_time\": \"2022-03-27T17:57:08.319008Z\", \"created_time_dt\": \"2022-03-27T17:57:08.319008Z\", \"duration\": \"0:01:22\", \"iteration\": \"29\", \"goal\": \"accuracy_max\", \"run_name\": \"MaxAbsScaler, LogisticRegression\", \"run_properties\": \"copy=True\", \"primary_metric\": 0.82773032, \"best_metric\": 0.94313233}, {\"run_id\": \"AutoML_5ca316bf-18ce-4c57-8b57-c73a2bf3acb6_30\", \"run_number\": 1648403831, \"metric\": null, \"status\": \"Completed\", \"run_type\": \"azureml.scriptrun\", \"training_percent\": \"100\", \"start_time\": \"2022-03-27T17:59:01.640355Z\", \"end_time\": \"2022-03-27T17:59:05.335633Z\", \"created_time\": \"2022-03-27T17:57:11.978403Z\", \"created_time_dt\": \"2022-03-27T17:57:11.978403Z\", \"duration\": \"0:01:53\", \"iteration\": \"30\", \"goal\": \"accuracy_max\", \"run_name\": \"TruncatedSVDWrapper, LightGBM\", \"run_properties\": \"n_components=0.3563157894736842, random_state=None\", \"primary_metric\": 0.67887772, \"best_metric\": 0.94313233}, {\"run_id\": \"AutoML_5ca316bf-18ce-4c57-8b57-c73a2bf3acb6_32\", \"run_number\": 1648403912, \"metric\": null, \"status\": \"Completed\", \"run_type\": \"azureml.scriptrun\", \"training_percent\": \"100\", \"start_time\": \"2022-03-27T17:59:02.95852Z\", \"end_time\": \"2022-03-27T17:59:06.691064Z\", \"created_time\": \"2022-03-27T17:58:32.779295Z\", \"created_time_dt\": \"2022-03-27T17:58:32.779295Z\", \"duration\": \"0:00:33\", \"iteration\": \"32\", \"goal\": \"accuracy_max\", \"run_name\": \"SparseNormalizer, XGBoostClassifier\", \"run_properties\": \"copy=True, norm='max'\", \"primary_metric\": 0.88623953, \"best_metric\": 0.94313233}, {\"run_id\": \"AutoML_5ca316bf-18ce-4c57-8b57-c73a2bf3acb6_33\", \"run_number\": 1648403947, \"metric\": null, \"status\": \"Canceled\", \"run_type\": \"azureml.scriptrun\", \"training_percent\": \"100\", \"start_time\": \"2022-03-27T17:59:08.445656Z\", \"end_time\": \"2022-03-27T17:59:09.627648Z\", \"created_time\": \"2022-03-27T17:59:07.078147Z\", \"created_time_dt\": \"2022-03-27T17:59:07.078147Z\", \"duration\": \"0:00:02\", \"iteration\": \"33\", \"goal\": null, \"run_name\": \"Canceled\", \"run_properties\": null}, {\"run_id\": \"AutoML_5ca316bf-18ce-4c57-8b57-c73a2bf3acb6_34\", \"run_number\": 1648403950, \"metric\": null, \"status\": \"Completed\", \"run_type\": \"azureml.scriptrun\", \"training_percent\": \"100\", \"start_time\": \"2022-03-27T18:00:39.647609Z\", \"end_time\": \"2022-03-27T18:00:43.27339Z\", \"created_time\": \"2022-03-27T17:59:10.242688Z\", \"created_time_dt\": \"2022-03-27T17:59:10.242688Z\", \"duration\": \"0:01:33\", \"iteration\": \"34\", \"goal\": \"accuracy_max\", \"run_name\": \"VotingEnsemble\", \"run_properties\": \"\\n    estimators=[('0', Pipeline(\\n        memory=None,\\n        steps=[('maxabsscaler', MaxAbsScaler(\\n            copy=True\\n        \", \"primary_metric\": 0.96150754, \"best_metric\": 0.96150754}], \"children_metrics\": {\"categories\": [0], \"series\": {\"matthews_correlation\": [{\"categories\": [\"0\", \"2\", \"4\", \"6\", \"8\", \"10\", \"14\", \"17\", \"21\", \"22\", \"24\", \"25\", \"26\", \"27\", \"28\", \"29\", \"30\", \"32\", \"34\"], \"mode\": \"markers\", \"name\": \"matthews_correlation\", \"stepped\": false, \"type\": \"scatter\", \"data\": [0.8690991513258082, 0.6227557251037634, 0.6671110005641686, 0.7076974040821854, 0.12328888871690358, 0.6822421863238755, 0.6843664578699835, 0.7408013298854396, 0.813598281122004, 0.7815901969298737, 0.7118529459954286, 0.6582655807176754, 0.7478109198721924, 0.7722456740220146, 0.6969886950494067, 0.6239758761992201, 0.0, 0.7335492507648519, 0.9122630673291221]}, {\"categories\": [\"0\", \"2\", \"4\", \"6\", \"8\", \"10\", \"14\", \"17\", \"21\", \"22\", \"24\", \"25\", \"26\", \"27\", \"28\", \"29\", \"30\", \"32\", \"34\"], \"mode\": \"lines\", \"name\": \"matthews_correlation_max\", \"stepped\": true, \"type\": \"scatter\", \"data\": [0.8690991513258082, 0.8690991513258082, 0.8690991513258082, 0.8690991513258082, 0.8690991513258082, 0.8690991513258082, 0.8690991513258082, 0.8690991513258082, 0.8690991513258082, 0.8690991513258082, 0.8690991513258082, 0.8690991513258082, 0.8690991513258082, 0.8690991513258082, 0.8690991513258082, 0.8690991513258082, 0.8690991513258082, 0.8690991513258082, 0.9122630673291221]}], \"precision_score_macro\": [{\"categories\": [\"0\", \"2\", \"4\", \"6\", \"8\", \"10\", \"14\", \"17\", \"21\", \"22\", \"24\", \"25\", \"26\", \"27\", \"28\", \"29\", \"30\", \"32\", \"34\"], \"mode\": \"markers\", \"name\": \"precision_score_macro\", \"stepped\": false, \"type\": \"scatter\", \"data\": [0.9411679762620929, 0.807495130381994, 0.846841409637955, 0.8723313445319713, 0.6763350316276294, 0.8658895851800933, 0.8526016950168939, 0.8946896727261849, 0.9158387204237762, 0.899360193385884, 0.87574518176197, 0.8406184419713831, 0.8837309245554184, 0.9076063543971488, 0.8724289789452276, 0.8012470329922263, 0.33943886097152426, 0.8881294573801523, 0.9597566419754363]}, {\"categories\": [\"0\", \"2\", \"4\", \"6\", \"8\", \"10\", \"14\", \"17\", \"21\", \"22\", \"24\", \"25\", \"26\", \"27\", \"28\", \"29\", \"30\", \"32\", \"34\"], \"mode\": \"lines\", \"name\": \"precision_score_macro_max\", \"stepped\": true, \"type\": \"scatter\", \"data\": [0.9411679762620929, 0.9411679762620929, 0.9411679762620929, 0.9411679762620929, 0.9411679762620929, 0.9411679762620929, 0.9411679762620929, 0.9411679762620929, 0.9411679762620929, 0.9411679762620929, 0.9411679762620929, 0.9411679762620929, 0.9411679762620929, 0.9411679762620929, 0.9411679762620929, 0.9411679762620929, 0.9411679762620929, 0.9411679762620929, 0.9597566419754363]}], \"precision_score_weighted\": [{\"categories\": [\"0\", \"2\", \"4\", \"6\", \"8\", \"10\", \"14\", \"17\", \"21\", \"22\", \"24\", \"25\", \"26\", \"27\", \"28\", \"29\", \"30\", \"32\", \"34\"], \"mode\": \"markers\", \"name\": \"precision_score_weighted\", \"stepped\": false, \"type\": \"scatter\", \"data\": [0.9440926544192306, 0.8371382515479825, 0.8566129212674464, 0.8763253796933261, 0.6703667825770947, 0.8665171999010174, 0.8637351331767444, 0.8921839031711922, 0.9198050921234361, 0.9057501983078394, 0.8777375287442842, 0.857193447612555, 0.8924120572164567, 0.9040082200464439, 0.8717314908190948, 0.8385644102981207, 0.4615107707717819, 0.8867469321126903, 0.9617968199587974]}, {\"categories\": [\"0\", \"2\", \"4\", \"6\", \"8\", \"10\", \"14\", \"17\", \"21\", \"22\", \"24\", \"25\", \"26\", \"27\", \"28\", \"29\", \"30\", \"32\", \"34\"], \"mode\": \"lines\", \"name\": \"precision_score_weighted_max\", \"stepped\": true, \"type\": \"scatter\", \"data\": [0.9440926544192306, 0.9440926544192306, 0.9440926544192306, 0.9440926544192306, 0.9440926544192306, 0.9440926544192306, 0.9440926544192306, 0.9440926544192306, 0.9440926544192306, 0.9440926544192306, 0.9440926544192306, 0.9440926544192306, 0.9440926544192306, 0.9440926544192306, 0.9440926544192306, 0.9440926544192306, 0.9440926544192306, 0.9440926544192306, 0.9617968199587974]}], \"recall_score_micro\": [{\"categories\": [\"0\", \"2\", \"4\", \"6\", \"8\", \"10\", \"14\", \"17\", \"21\", \"22\", \"24\", \"25\", \"26\", \"27\", \"28\", \"29\", \"30\", \"32\", \"34\"], \"mode\": \"markers\", \"name\": \"recall_score_micro\", \"stepped\": false, \"type\": \"scatter\", \"data\": [0.9431323283082077, 0.8311139028475711, 0.8578475711892798, 0.8761976549413736, 0.688894472361809, 0.8645226130653265, 0.8645058626465661, 0.8879145728643216, 0.9197152428810721, 0.9062981574539363, 0.8779061976549413, 0.8478475711892797, 0.8913316582914573, 0.9029815745393636, 0.8711892797319933, 0.8277303182579564, 0.6788777219430485, 0.8862395309882748, 0.9615075376884422]}, {\"categories\": [\"0\", \"2\", \"4\", \"6\", \"8\", \"10\", \"14\", \"17\", \"21\", \"22\", \"24\", \"25\", \"26\", \"27\", \"28\", \"29\", \"30\", \"32\", \"34\"], \"mode\": \"lines\", \"name\": \"recall_score_micro_max\", \"stepped\": true, \"type\": \"scatter\", \"data\": [0.9431323283082077, 0.9431323283082077, 0.9431323283082077, 0.9431323283082077, 0.9431323283082077, 0.9431323283082077, 0.9431323283082077, 0.9431323283082077, 0.9431323283082077, 0.9431323283082077, 0.9431323283082077, 0.9431323283082077, 0.9431323283082077, 0.9431323283082077, 0.9431323283082077, 0.9431323283082077, 0.9431323283082077, 0.9431323283082077, 0.9615075376884422]}], \"AUC_weighted\": [{\"categories\": [\"0\", \"2\", \"4\", \"6\", \"8\", \"10\", \"14\", \"17\", \"21\", \"22\", \"24\", \"25\", \"26\", \"27\", \"28\", \"29\", \"30\", \"32\", \"34\"], \"mode\": \"markers\", \"name\": \"AUC_weighted\", \"stepped\": false, \"type\": \"scatter\", \"data\": [0.9712266710891345, 0.9060102700289971, 0.9324335159107745, 0.934517928043575, 0.8825822485553374, 0.9184002660363061, 0.926314259122906, 0.9698794759010166, 0.980233097477018, 0.9415527669815661, 0.9298357256150385, 0.930164141461678, 0.9522564312832552, 0.954370126752177, 0.9275844420354037, 0.9083800906063068, 0.9101408836283215, 0.9512806523096123, 0.9842872603615994]}, {\"categories\": [\"0\", \"2\", \"4\", \"6\", \"8\", \"10\", \"14\", \"17\", \"21\", \"22\", \"24\", \"25\", \"26\", \"27\", \"28\", \"29\", \"30\", \"32\", \"34\"], \"mode\": \"lines\", \"name\": \"AUC_weighted_max\", \"stepped\": true, \"type\": \"scatter\", \"data\": [0.9712266710891345, 0.9712266710891345, 0.9712266710891345, 0.9712266710891345, 0.9712266710891345, 0.9712266710891345, 0.9712266710891345, 0.9712266710891345, 0.980233097477018, 0.980233097477018, 0.980233097477018, 0.980233097477018, 0.980233097477018, 0.980233097477018, 0.980233097477018, 0.980233097477018, 0.980233097477018, 0.980233097477018, 0.9842872603615994]}], \"f1_score_micro\": [{\"categories\": [\"0\", \"2\", \"4\", \"6\", \"8\", \"10\", \"14\", \"17\", \"21\", \"22\", \"24\", \"25\", \"26\", \"27\", \"28\", \"29\", \"30\", \"32\", \"34\"], \"mode\": \"markers\", \"name\": \"f1_score_micro\", \"stepped\": false, \"type\": \"scatter\", \"data\": [0.9431323283082077, 0.8311139028475711, 0.8578475711892798, 0.8761976549413736, 0.688894472361809, 0.8645226130653265, 0.8645058626465661, 0.8879145728643216, 0.9197152428810721, 0.9062981574539363, 0.8779061976549413, 0.8478475711892797, 0.8913316582914573, 0.9029815745393636, 0.8711892797319933, 0.8277303182579564, 0.6788777219430485, 0.8862395309882748, 0.9615075376884422]}, {\"categories\": [\"0\", \"2\", \"4\", \"6\", \"8\", \"10\", \"14\", \"17\", \"21\", \"22\", \"24\", \"25\", \"26\", \"27\", \"28\", \"29\", \"30\", \"32\", \"34\"], \"mode\": \"lines\", \"name\": \"f1_score_micro_max\", \"stepped\": true, \"type\": \"scatter\", \"data\": [0.9431323283082077, 0.9431323283082077, 0.9431323283082077, 0.9431323283082077, 0.9431323283082077, 0.9431323283082077, 0.9431323283082077, 0.9431323283082077, 0.9431323283082077, 0.9431323283082077, 0.9431323283082077, 0.9431323283082077, 0.9431323283082077, 0.9431323283082077, 0.9431323283082077, 0.9431323283082077, 0.9431323283082077, 0.9431323283082077, 0.9615075376884422]}], \"f1_score_macro\": [{\"categories\": [\"0\", \"2\", \"4\", \"6\", \"8\", \"10\", \"14\", \"17\", \"21\", \"22\", \"24\", \"25\", \"26\", \"27\", \"28\", \"29\", \"30\", \"32\", \"34\"], \"mode\": \"markers\", \"name\": \"f1_score_macro\", \"stepped\": false, \"type\": \"scatter\", \"data\": [0.9333706450010405, 0.8093335462580914, 0.8311873679734051, 0.8488706527225367, 0.4382855638271601, 0.8345784994768617, 0.8400569414932719, 0.8634982081848733, 0.9056555593023421, 0.8895453905362835, 0.8521583229641161, 0.8215457033452703, 0.8719809869284215, 0.8822754777834811, 0.8432667912296309, 0.8088649942038469, 0.40422965935195654, 0.862753859917139, 0.9557307324462285]}, {\"categories\": [\"0\", \"2\", \"4\", \"6\", \"8\", \"10\", \"14\", \"17\", \"21\", \"22\", \"24\", \"25\", \"26\", \"27\", \"28\", \"29\", \"30\", \"32\", \"34\"], \"mode\": \"lines\", \"name\": \"f1_score_macro_max\", \"stepped\": true, \"type\": \"scatter\", \"data\": [0.9333706450010405, 0.9333706450010405, 0.9333706450010405, 0.9333706450010405, 0.9333706450010405, 0.9333706450010405, 0.9333706450010405, 0.9333706450010405, 0.9333706450010405, 0.9333706450010405, 0.9333706450010405, 0.9333706450010405, 0.9333706450010405, 0.9333706450010405, 0.9333706450010405, 0.9333706450010405, 0.9333706450010405, 0.9333706450010405, 0.9557307324462285]}], \"recall_score_macro\": [{\"categories\": [\"0\", \"2\", \"4\", \"6\", \"8\", \"10\", \"14\", \"17\", \"21\", \"22\", \"24\", \"25\", \"26\", \"27\", \"28\", \"29\", \"30\", \"32\", \"34\"], \"mode\": \"markers\", \"name\": \"recall_score_macro\", \"stepped\": false, \"type\": \"scatter\", \"data\": [0.9282906848607958, 0.8156542644742494, 0.8208680232102467, 0.8369072525433472, 0.5167025862068965, 0.8182545061908174, 0.8322504681055932, 0.8483617163605649, 0.8981001367163248, 0.8825330866427091, 0.8371804072763429, 0.8195019225750316, 0.8646893194983258, 0.865892423431856, 0.8261078592621596, 0.8232693277065145, 0.5, 0.8466144529965541, 0.9526192287428175]}, {\"categories\": [\"0\", \"2\", \"4\", \"6\", \"8\", \"10\", \"14\", \"17\", \"21\", \"22\", \"24\", \"25\", \"26\", \"27\", \"28\", \"29\", \"30\", \"32\", \"34\"], \"mode\": \"lines\", \"name\": \"recall_score_macro_max\", \"stepped\": true, \"type\": \"scatter\", \"data\": [0.9282906848607958, 0.9282906848607958, 0.9282906848607958, 0.9282906848607958, 0.9282906848607958, 0.9282906848607958, 0.9282906848607958, 0.9282906848607958, 0.9282906848607958, 0.9282906848607958, 0.9282906848607958, 0.9282906848607958, 0.9282906848607958, 0.9282906848607958, 0.9282906848607958, 0.9282906848607958, 0.9282906848607958, 0.9282906848607958, 0.9526192287428175]}], \"f1_score_weighted\": [{\"categories\": [\"0\", \"2\", \"4\", \"6\", \"8\", \"10\", \"14\", \"17\", \"21\", \"22\", \"24\", \"25\", \"26\", \"27\", \"28\", \"29\", \"30\", \"32\", \"34\"], \"mode\": \"markers\", \"name\": \"f1_score_weighted\", \"stepped\": false, \"type\": \"scatter\", \"data\": [0.9425826059921566, 0.8324130772523803, 0.8551275394288916, 0.8718718034348466, 0.5716933831380863, 0.8596539185321488, 0.8622051467783992, 0.8838904842668329, 0.9187618533514655, 0.904915376290559, 0.8745120744817086, 0.8458339046767022, 0.8901852596644301, 0.9001673563892071, 0.8668657382364913, 0.8304899726212202, 0.5492961251821842, 0.8829745325030397, 0.9613018411705531]}, {\"categories\": [\"0\", \"2\", \"4\", \"6\", \"8\", \"10\", \"14\", \"17\", \"21\", \"22\", \"24\", \"25\", \"26\", \"27\", \"28\", \"29\", \"30\", \"32\", \"34\"], \"mode\": \"lines\", \"name\": \"f1_score_weighted_max\", \"stepped\": true, \"type\": \"scatter\", \"data\": [0.9425826059921566, 0.9425826059921566, 0.9425826059921566, 0.9425826059921566, 0.9425826059921566, 0.9425826059921566, 0.9425826059921566, 0.9425826059921566, 0.9425826059921566, 0.9425826059921566, 0.9425826059921566, 0.9425826059921566, 0.9425826059921566, 0.9425826059921566, 0.9425826059921566, 0.9425826059921566, 0.9425826059921566, 0.9425826059921566, 0.9613018411705531]}], \"average_precision_score_macro\": [{\"categories\": [\"0\", \"2\", \"4\", \"6\", \"8\", \"10\", \"14\", \"17\", \"21\", \"22\", \"24\", \"25\", \"26\", \"27\", \"28\", \"29\", \"30\", \"32\", \"34\"], \"mode\": \"markers\", \"name\": \"average_precision_score_macro\", \"stepped\": false, \"type\": \"scatter\", \"data\": [0.9644318742683651, 0.8875714419919674, 0.9111451080422183, 0.9275407600792752, 0.8667657853219292, 0.9031270127624361, 0.9088576369479983, 0.9654555448415264, 0.9755279583288163, 0.9365360336043732, 0.9216632528598661, 0.9164281357216971, 0.9456850030179235, 0.9467965615803685, 0.9190919865637305, 0.8968511889837482, 0.8817263920320313, 0.9445764424150865, 0.9836537864325727]}, {\"categories\": [\"0\", \"2\", \"4\", \"6\", \"8\", \"10\", \"14\", \"17\", \"21\", \"22\", \"24\", \"25\", \"26\", \"27\", \"28\", \"29\", \"30\", \"32\", \"34\"], \"mode\": \"lines\", \"name\": \"average_precision_score_macro_max\", \"stepped\": true, \"type\": \"scatter\", \"data\": [0.9644318742683651, 0.9644318742683651, 0.9644318742683651, 0.9644318742683651, 0.9644318742683651, 0.9644318742683651, 0.9644318742683651, 0.9654555448415264, 0.9755279583288163, 0.9755279583288163, 0.9755279583288163, 0.9755279583288163, 0.9755279583288163, 0.9755279583288163, 0.9755279583288163, 0.9755279583288163, 0.9755279583288163, 0.9755279583288163, 0.9836537864325727]}], \"weighted_accuracy\": [{\"categories\": [\"0\", \"2\", \"4\", \"6\", \"8\", \"10\", \"14\", \"17\", \"21\", \"22\", \"24\", \"25\", \"26\", \"27\", \"28\", \"29\", \"30\", \"32\", \"34\"], \"mode\": \"markers\", \"name\": \"weighted_accuracy\", \"stepped\": false, \"type\": \"scatter\", \"data\": [0.9546573070149682, 0.8434950839841138, 0.886320751021992, 0.9065701329274306, 0.8205463363602301, 0.9003400482095637, 0.889671281346037, 0.9188309658123487, 0.9361886654262602, 0.9247792752767735, 0.9089971908999589, 0.8709545902683132, 0.9116818216498072, 0.9310878230893259, 0.9057359979789908, 0.8314863752028008, 0.8153479691141993, 0.916568376377048, 0.9683411132187437]}, {\"categories\": [\"0\", \"2\", \"4\", \"6\", \"8\", \"10\", \"14\", \"17\", \"21\", \"22\", \"24\", \"25\", \"26\", \"27\", \"28\", \"29\", \"30\", \"32\", \"34\"], \"mode\": \"lines\", \"name\": \"weighted_accuracy_max\", \"stepped\": true, \"type\": \"scatter\", \"data\": [0.9546573070149682, 0.9546573070149682, 0.9546573070149682, 0.9546573070149682, 0.9546573070149682, 0.9546573070149682, 0.9546573070149682, 0.9546573070149682, 0.9546573070149682, 0.9546573070149682, 0.9546573070149682, 0.9546573070149682, 0.9546573070149682, 0.9546573070149682, 0.9546573070149682, 0.9546573070149682, 0.9546573070149682, 0.9546573070149682, 0.9683411132187437]}], \"AUC_micro\": [{\"categories\": [\"0\", \"2\", \"4\", \"6\", \"8\", \"10\", \"14\", \"17\", \"21\", \"22\", \"24\", \"25\", \"26\", \"27\", \"28\", \"29\", \"30\", \"32\", \"34\"], \"mode\": \"markers\", \"name\": \"AUC_micro\", \"stepped\": false, \"type\": \"scatter\", \"data\": [0.9745678434046278, 0.9088340296541334, 0.9340189576441672, 0.9425970223815897, 0.84596461663426, 0.9261617793742584, 0.9373268288679579, 0.9662398632610287, 0.9795032755906838, 0.9501776370335766, 0.9388136890482564, 0.9224180759324258, 0.9551983436866073, 0.9587766605220406, 0.93660877734569, 0.9105125352474263, 0.8571088225886552, 0.9578550400663284, 0.9863999797984899]}, {\"categories\": [\"0\", \"2\", \"4\", \"6\", \"8\", \"10\", \"14\", \"17\", \"21\", \"22\", \"24\", \"25\", \"26\", \"27\", \"28\", \"29\", \"30\", \"32\", \"34\"], \"mode\": \"lines\", \"name\": \"AUC_micro_max\", \"stepped\": true, \"type\": \"scatter\", \"data\": [0.9745678434046278, 0.9745678434046278, 0.9745678434046278, 0.9745678434046278, 0.9745678434046278, 0.9745678434046278, 0.9745678434046278, 0.9745678434046278, 0.9795032755906838, 0.9795032755906838, 0.9795032755906838, 0.9795032755906838, 0.9795032755906838, 0.9795032755906838, 0.9795032755906838, 0.9795032755906838, 0.9795032755906838, 0.9795032755906838, 0.9863999797984899]}], \"accuracy\": [{\"categories\": [\"0\", \"2\", \"4\", \"6\", \"8\", \"10\", \"14\", \"17\", \"21\", \"22\", \"24\", \"25\", \"26\", \"27\", \"28\", \"29\", \"30\", \"32\", \"34\"], \"mode\": \"markers\", \"name\": \"accuracy\", \"stepped\": false, \"type\": \"scatter\", \"data\": [0.9431323283082077, 0.8311139028475711, 0.8578475711892798, 0.8761976549413736, 0.688894472361809, 0.8645226130653265, 0.8645058626465661, 0.8879145728643216, 0.9197152428810721, 0.9062981574539363, 0.8779061976549413, 0.8478475711892797, 0.8913316582914573, 0.9029815745393636, 0.8711892797319933, 0.8277303182579564, 0.6788777219430485, 0.8862395309882748, 0.9615075376884422]}, {\"categories\": [\"0\", \"2\", \"4\", \"6\", \"8\", \"10\", \"14\", \"17\", \"21\", \"22\", \"24\", \"25\", \"26\", \"27\", \"28\", \"29\", \"30\", \"32\", \"34\"], \"mode\": \"lines\", \"name\": \"accuracy_max\", \"stepped\": true, \"type\": \"scatter\", \"data\": [0.9431323283082077, 0.9431323283082077, 0.9431323283082077, 0.9431323283082077, 0.9431323283082077, 0.9431323283082077, 0.9431323283082077, 0.9431323283082077, 0.9431323283082077, 0.9431323283082077, 0.9431323283082077, 0.9431323283082077, 0.9431323283082077, 0.9431323283082077, 0.9431323283082077, 0.9431323283082077, 0.9431323283082077, 0.9431323283082077, 0.9615075376884422]}], \"recall_score_weighted\": [{\"categories\": [\"0\", \"2\", \"4\", \"6\", \"8\", \"10\", \"14\", \"17\", \"21\", \"22\", \"24\", \"25\", \"26\", \"27\", \"28\", \"29\", \"30\", \"32\", \"34\"], \"mode\": \"markers\", \"name\": \"recall_score_weighted\", \"stepped\": false, \"type\": \"scatter\", \"data\": [0.9431323283082077, 0.8311139028475711, 0.8578475711892798, 0.8761976549413736, 0.688894472361809, 0.8645226130653265, 0.8645058626465661, 0.8879145728643216, 0.9197152428810721, 0.9062981574539363, 0.8779061976549413, 0.8478475711892797, 0.8913316582914573, 0.9029815745393636, 0.8711892797319933, 0.8277303182579564, 0.6788777219430485, 0.8862395309882748, 0.9615075376884422]}, {\"categories\": [\"0\", \"2\", \"4\", \"6\", \"8\", \"10\", \"14\", \"17\", \"21\", \"22\", \"24\", \"25\", \"26\", \"27\", \"28\", \"29\", \"30\", \"32\", \"34\"], \"mode\": \"lines\", \"name\": \"recall_score_weighted_max\", \"stepped\": true, \"type\": \"scatter\", \"data\": [0.9431323283082077, 0.9431323283082077, 0.9431323283082077, 0.9431323283082077, 0.9431323283082077, 0.9431323283082077, 0.9431323283082077, 0.9431323283082077, 0.9431323283082077, 0.9431323283082077, 0.9431323283082077, 0.9431323283082077, 0.9431323283082077, 0.9431323283082077, 0.9431323283082077, 0.9431323283082077, 0.9431323283082077, 0.9431323283082077, 0.9615075376884422]}], \"precision_score_micro\": [{\"categories\": [\"0\", \"2\", \"4\", \"6\", \"8\", \"10\", \"14\", \"17\", \"21\", \"22\", \"24\", \"25\", \"26\", \"27\", \"28\", \"29\", \"30\", \"32\", \"34\"], \"mode\": \"markers\", \"name\": \"precision_score_micro\", \"stepped\": false, \"type\": \"scatter\", \"data\": [0.9431323283082077, 0.8311139028475711, 0.8578475711892798, 0.8761976549413736, 0.688894472361809, 0.8645226130653265, 0.8645058626465661, 0.8879145728643216, 0.9197152428810721, 0.9062981574539363, 0.8779061976549413, 0.8478475711892797, 0.8913316582914573, 0.9029815745393636, 0.8711892797319933, 0.8277303182579564, 0.6788777219430485, 0.8862395309882748, 0.9615075376884422]}, {\"categories\": [\"0\", \"2\", \"4\", \"6\", \"8\", \"10\", \"14\", \"17\", \"21\", \"22\", \"24\", \"25\", \"26\", \"27\", \"28\", \"29\", \"30\", \"32\", \"34\"], \"mode\": \"lines\", \"name\": \"precision_score_micro_max\", \"stepped\": true, \"type\": \"scatter\", \"data\": [0.9431323283082077, 0.9431323283082077, 0.9431323283082077, 0.9431323283082077, 0.9431323283082077, 0.9431323283082077, 0.9431323283082077, 0.9431323283082077, 0.9431323283082077, 0.9431323283082077, 0.9431323283082077, 0.9431323283082077, 0.9431323283082077, 0.9431323283082077, 0.9431323283082077, 0.9431323283082077, 0.9431323283082077, 0.9431323283082077, 0.9615075376884422]}], \"log_loss\": [{\"categories\": [\"0\", \"2\", \"4\", \"6\", \"8\", \"10\", \"14\", \"17\", \"21\", \"22\", \"24\", \"25\", \"26\", \"27\", \"28\", \"29\", \"30\", \"32\", \"34\"], \"mode\": \"markers\", \"name\": \"log_loss\", \"stepped\": false, \"type\": \"scatter\", \"data\": [0.19605691468295414, 0.5034791763742136, 0.35869341312308906, 0.43026353155502695, 0.5559513057132371, 0.36393177494401785, 0.42217574990340195, 0.31325252734100667, 0.2584848227080527, 0.3929809007081797, 0.4360084810258839, 0.3673174236602996, 0.41607324497476017, 0.31034770947953416, 0.4321239507988945, 0.3951908245656894, 0.5939010567691264, 0.284671898675452, 0.2720877060465034]}, {\"categories\": [\"0\", \"2\", \"4\", \"6\", \"8\", \"10\", \"14\", \"17\", \"21\", \"22\", \"24\", \"25\", \"26\", \"27\", \"28\", \"29\", \"30\", \"32\", \"34\"], \"mode\": \"lines\", \"name\": \"log_loss_min\", \"stepped\": true, \"type\": \"scatter\", \"data\": [0.19605691468295414, 0.19605691468295414, 0.19605691468295414, 0.19605691468295414, 0.19605691468295414, 0.19605691468295414, 0.19605691468295414, 0.19605691468295414, 0.19605691468295414, 0.19605691468295414, 0.19605691468295414, 0.19605691468295414, 0.19605691468295414, 0.19605691468295414, 0.19605691468295414, 0.19605691468295414, 0.19605691468295414, 0.19605691468295414, 0.19605691468295414]}], \"balanced_accuracy\": [{\"categories\": [\"0\", \"2\", \"4\", \"6\", \"8\", \"10\", \"14\", \"17\", \"21\", \"22\", \"24\", \"25\", \"26\", \"27\", \"28\", \"29\", \"30\", \"32\", \"34\"], \"mode\": \"markers\", \"name\": \"balanced_accuracy\", \"stepped\": false, \"type\": \"scatter\", \"data\": [0.9282906848607958, 0.8156542644742494, 0.8208680232102467, 0.8369072525433472, 0.5167025862068965, 0.8182545061908174, 0.8322504681055932, 0.8483617163605649, 0.8981001367163248, 0.8825330866427091, 0.8371804072763429, 0.8195019225750316, 0.8646893194983258, 0.865892423431856, 0.8261078592621596, 0.8232693277065145, 0.5, 0.8466144529965541, 0.9526192287428175]}, {\"categories\": [\"0\", \"2\", \"4\", \"6\", \"8\", \"10\", \"14\", \"17\", \"21\", \"22\", \"24\", \"25\", \"26\", \"27\", \"28\", \"29\", \"30\", \"32\", \"34\"], \"mode\": \"lines\", \"name\": \"balanced_accuracy_max\", \"stepped\": true, \"type\": \"scatter\", \"data\": [0.9282906848607958, 0.9282906848607958, 0.9282906848607958, 0.9282906848607958, 0.9282906848607958, 0.9282906848607958, 0.9282906848607958, 0.9282906848607958, 0.9282906848607958, 0.9282906848607958, 0.9282906848607958, 0.9282906848607958, 0.9282906848607958, 0.9282906848607958, 0.9282906848607958, 0.9282906848607958, 0.9282906848607958, 0.9282906848607958, 0.9526192287428175]}], \"average_precision_score_weighted\": [{\"categories\": [\"0\", \"2\", \"4\", \"6\", \"8\", \"10\", \"14\", \"17\", \"21\", \"22\", \"24\", \"25\", \"26\", \"27\", \"28\", \"29\", \"30\", \"32\", \"34\"], \"mode\": \"markers\", \"name\": \"average_precision_score_weighted\", \"stepped\": false, \"type\": \"scatter\", \"data\": [0.9721293301923382, 0.9126364970318052, 0.9319155449086041, 0.9415185581019325, 0.894042581269915, 0.9218890027132537, 0.9278913304160502, 0.9726754035025963, 0.9811910578151757, 0.9466925707899048, 0.9350723558586647, 0.9345654768573034, 0.9570892205717763, 0.9568810739778781, 0.9338809264810424, 0.915827385904152, 0.9093606399063962, 0.9534075715764416, 0.9865027700324128]}, {\"categories\": [\"0\", \"2\", \"4\", \"6\", \"8\", \"10\", \"14\", \"17\", \"21\", \"22\", \"24\", \"25\", \"26\", \"27\", \"28\", \"29\", \"30\", \"32\", \"34\"], \"mode\": \"lines\", \"name\": \"average_precision_score_weighted_max\", \"stepped\": true, \"type\": \"scatter\", \"data\": [0.9721293301923382, 0.9721293301923382, 0.9721293301923382, 0.9721293301923382, 0.9721293301923382, 0.9721293301923382, 0.9721293301923382, 0.9726754035025963, 0.9811910578151757, 0.9811910578151757, 0.9811910578151757, 0.9811910578151757, 0.9811910578151757, 0.9811910578151757, 0.9811910578151757, 0.9811910578151757, 0.9811910578151757, 0.9811910578151757, 0.9865027700324128]}], \"norm_macro_recall\": [{\"categories\": [\"0\", \"2\", \"4\", \"6\", \"8\", \"10\", \"14\", \"17\", \"21\", \"22\", \"24\", \"25\", \"26\", \"27\", \"28\", \"29\", \"30\", \"32\", \"34\"], \"mode\": \"markers\", \"name\": \"norm_macro_recall\", \"stepped\": false, \"type\": \"scatter\", \"data\": [0.8565813697215917, 0.6313085289484985, 0.6417360464204933, 0.6738145050866944, 0.03340517241379307, 0.6365090123816349, 0.6645009362111863, 0.69672343272113, 0.7962002734326498, 0.7650661732854184, 0.6743608145526858, 0.6390038451500631, 0.7293786389966518, 0.7317848468637123, 0.6522157185243193, 0.6465386554130289, 0.0, 0.6932289059931082, 0.9052384574856349]}, {\"categories\": [\"0\", \"2\", \"4\", \"6\", \"8\", \"10\", \"14\", \"17\", \"21\", \"22\", \"24\", \"25\", \"26\", \"27\", \"28\", \"29\", \"30\", \"32\", \"34\"], \"mode\": \"lines\", \"name\": \"norm_macro_recall_max\", \"stepped\": true, \"type\": \"scatter\", \"data\": [0.8565813697215917, 0.8565813697215917, 0.8565813697215917, 0.8565813697215917, 0.8565813697215917, 0.8565813697215917, 0.8565813697215917, 0.8565813697215917, 0.8565813697215917, 0.8565813697215917, 0.8565813697215917, 0.8565813697215917, 0.8565813697215917, 0.8565813697215917, 0.8565813697215917, 0.8565813697215917, 0.8565813697215917, 0.8565813697215917, 0.9052384574856349]}], \"AUC_macro\": [{\"categories\": [\"0\", \"2\", \"4\", \"6\", \"8\", \"10\", \"14\", \"17\", \"21\", \"22\", \"24\", \"25\", \"26\", \"27\", \"28\", \"29\", \"30\", \"32\", \"34\"], \"mode\": \"markers\", \"name\": \"AUC_macro\", \"stepped\": false, \"type\": \"scatter\", \"data\": [0.9712266710891345, 0.9060102700289971, 0.9324335159107745, 0.934517928043575, 0.8825822485553374, 0.9184002660363061, 0.926314259122906, 0.9698794759010169, 0.980233097477018, 0.941552766981566, 0.9298357256150384, 0.930164141461678, 0.9522564312832552, 0.954370126752177, 0.9275844420354037, 0.9083800906063068, 0.9101408836283215, 0.9512806523096123, 0.9842872603615994]}, {\"categories\": [\"0\", \"2\", \"4\", \"6\", \"8\", \"10\", \"14\", \"17\", \"21\", \"22\", \"24\", \"25\", \"26\", \"27\", \"28\", \"29\", \"30\", \"32\", \"34\"], \"mode\": \"lines\", \"name\": \"AUC_macro_max\", \"stepped\": true, \"type\": \"scatter\", \"data\": [0.9712266710891345, 0.9712266710891345, 0.9712266710891345, 0.9712266710891345, 0.9712266710891345, 0.9712266710891345, 0.9712266710891345, 0.9712266710891345, 0.980233097477018, 0.980233097477018, 0.980233097477018, 0.980233097477018, 0.980233097477018, 0.980233097477018, 0.980233097477018, 0.980233097477018, 0.980233097477018, 0.980233097477018, 0.9842872603615994]}], \"average_precision_score_micro\": [{\"categories\": [\"0\", \"2\", \"4\", \"6\", \"8\", \"10\", \"14\", \"17\", \"21\", \"22\", \"24\", \"25\", \"26\", \"27\", \"28\", \"29\", \"30\", \"32\", \"34\"], \"mode\": \"markers\", \"name\": \"average_precision_score_micro\", \"stepped\": false, \"type\": \"scatter\", \"data\": [0.9740484983907733, 0.9130075400196039, 0.9371575443451077, 0.9442672704491223, 0.8585821643172417, 0.9244852649369427, 0.936003495922978, 0.9678264240552573, 0.9804364562387003, 0.9475849742395014, 0.9361954778581011, 0.924430899794182, 0.9564764375977758, 0.9589113199054141, 0.9363473933567433, 0.9098519928615874, 0.8725867616484796, 0.9547943582491513, 0.9866891356632058]}, {\"categories\": [\"0\", \"2\", \"4\", \"6\", \"8\", \"10\", \"14\", \"17\", \"21\", \"22\", \"24\", \"25\", \"26\", \"27\", \"28\", \"29\", \"30\", \"32\", \"34\"], \"mode\": \"lines\", \"name\": \"average_precision_score_micro_max\", \"stepped\": true, \"type\": \"scatter\", \"data\": [0.9740484983907733, 0.9740484983907733, 0.9740484983907733, 0.9740484983907733, 0.9740484983907733, 0.9740484983907733, 0.9740484983907733, 0.9740484983907733, 0.9804364562387003, 0.9804364562387003, 0.9804364562387003, 0.9804364562387003, 0.9804364562387003, 0.9804364562387003, 0.9804364562387003, 0.9804364562387003, 0.9804364562387003, 0.9804364562387003, 0.9866891356632058]}]}, \"metricName\": null, \"primaryMetricName\": \"accuracy\", \"showLegend\": false}, \"run_metrics\": [{\"name\": \"experiment_status\", \"run_id\": \"AutoML_5ca316bf-18ce-4c57-8b57-c73a2bf3acb6\", \"categories\": [0, 1, 2, 3, 4, 5, 6, 7, 8, 9, 10, 11, 12, 13], \"series\": [{\"data\": [\"DatasetEvaluation\", \"FeaturesGeneration\", \"DatasetFeaturization\", \"DatasetFeaturizationCompleted\", \"DatasetCrossValidationSplit\", \"ModelSelection\", \"BestRunExplainModel\", \"ModelExplanationDataSetSetup\", \"PickSurrogateModel\", \"EngineeredFeatureExplanations\", \"EngineeredFeatureExplanations\", \"RawFeaturesExplanations\", \"RawFeaturesExplanations\", \"BestRunExplainModel\"]}]}, {\"name\": \"experiment_status_description\", \"run_id\": \"AutoML_5ca316bf-18ce-4c57-8b57-c73a2bf3acb6\", \"categories\": [0, 1, 2, 3, 4, 5, 6, 7, 8, 9, 10, 11, 12, 13], \"series\": [{\"data\": [\"Gathering dataset statistics.\", \"Generating features for the dataset.\", \"Beginning to fit featurizers and featurize the dataset.\", \"Completed fit featurizers and featurizing the dataset.\", \"Generating individually featurized CV splits.\", \"Beginning model selection.\", \"Best run model explanations started\", \"Model explanations data setup completed\", \"Choosing LightGBM as the surrogate model for explanations\", \"Computation of engineered features started\", \"Computation of engineered features completed\", \"Computation of raw features started\", \"Computation of raw features completed\", \"Best run model explanations completed\"]}]}, {\"name\": \"average_precision_score_macro\", \"run_id\": \"AutoML_5ca316bf-18ce-4c57-8b57-c73a2bf3acb6\", \"categories\": [0], \"series\": [{\"data\": [0.9836537864325727]}]}, {\"name\": \"balanced_accuracy\", \"run_id\": \"AutoML_5ca316bf-18ce-4c57-8b57-c73a2bf3acb6\", \"categories\": [0], \"series\": [{\"data\": [0.9526192287428175]}]}, {\"name\": \"weighted_accuracy\", \"run_id\": \"AutoML_5ca316bf-18ce-4c57-8b57-c73a2bf3acb6\", \"categories\": [0], \"series\": [{\"data\": [0.9683411132187437]}]}, {\"name\": \"norm_macro_recall\", \"run_id\": \"AutoML_5ca316bf-18ce-4c57-8b57-c73a2bf3acb6\", \"categories\": [0], \"series\": [{\"data\": [0.9052384574856349]}]}, {\"name\": \"recall_score_weighted\", \"run_id\": \"AutoML_5ca316bf-18ce-4c57-8b57-c73a2bf3acb6\", \"categories\": [0], \"series\": [{\"data\": [0.9615075376884422]}]}, {\"name\": \"f1_score_macro\", \"run_id\": \"AutoML_5ca316bf-18ce-4c57-8b57-c73a2bf3acb6\", \"categories\": [0], \"series\": [{\"data\": [0.9557307324462285]}]}, {\"name\": \"matthews_correlation\", \"run_id\": \"AutoML_5ca316bf-18ce-4c57-8b57-c73a2bf3acb6\", \"categories\": [0], \"series\": [{\"data\": [0.9122630673291221]}]}, {\"name\": \"accuracy\", \"run_id\": \"AutoML_5ca316bf-18ce-4c57-8b57-c73a2bf3acb6\", \"categories\": [0], \"series\": [{\"data\": [0.9615075376884422]}]}, {\"name\": \"average_precision_score_weighted\", \"run_id\": \"AutoML_5ca316bf-18ce-4c57-8b57-c73a2bf3acb6\", \"categories\": [0], \"series\": [{\"data\": [0.9865027700324128]}]}, {\"name\": \"precision_score_macro\", \"run_id\": \"AutoML_5ca316bf-18ce-4c57-8b57-c73a2bf3acb6\", \"categories\": [0], \"series\": [{\"data\": [0.9597566419754363]}]}, {\"name\": \"recall_score_macro\", \"run_id\": \"AutoML_5ca316bf-18ce-4c57-8b57-c73a2bf3acb6\", \"categories\": [0], \"series\": [{\"data\": [0.9526192287428175]}]}, {\"name\": \"average_precision_score_micro\", \"run_id\": \"AutoML_5ca316bf-18ce-4c57-8b57-c73a2bf3acb6\", \"categories\": [0], \"series\": [{\"data\": [0.9866891356632058]}]}, {\"name\": \"AUC_micro\", \"run_id\": \"AutoML_5ca316bf-18ce-4c57-8b57-c73a2bf3acb6\", \"categories\": [0], \"series\": [{\"data\": [0.9863999797984899]}]}, {\"name\": \"f1_score_micro\", \"run_id\": \"AutoML_5ca316bf-18ce-4c57-8b57-c73a2bf3acb6\", \"categories\": [0], \"series\": [{\"data\": [0.9615075376884422]}]}, {\"name\": \"precision_score_weighted\", \"run_id\": \"AutoML_5ca316bf-18ce-4c57-8b57-c73a2bf3acb6\", \"categories\": [0], \"series\": [{\"data\": [0.9617968199587974]}]}, {\"name\": \"precision_score_micro\", \"run_id\": \"AutoML_5ca316bf-18ce-4c57-8b57-c73a2bf3acb6\", \"categories\": [0], \"series\": [{\"data\": [0.9615075376884422]}]}, {\"name\": \"log_loss\", \"run_id\": \"AutoML_5ca316bf-18ce-4c57-8b57-c73a2bf3acb6\", \"categories\": [0], \"series\": [{\"data\": [0.2720877060465034]}]}, {\"name\": \"recall_score_micro\", \"run_id\": \"AutoML_5ca316bf-18ce-4c57-8b57-c73a2bf3acb6\", \"categories\": [0], \"series\": [{\"data\": [0.9615075376884422]}]}, {\"name\": \"f1_score_weighted\", \"run_id\": \"AutoML_5ca316bf-18ce-4c57-8b57-c73a2bf3acb6\", \"categories\": [0], \"series\": [{\"data\": [0.9613018411705531]}]}, {\"name\": \"AUC_macro\", \"run_id\": \"AutoML_5ca316bf-18ce-4c57-8b57-c73a2bf3acb6\", \"categories\": [0], \"series\": [{\"data\": [0.9842872603615994]}]}, {\"name\": \"AUC_weighted\", \"run_id\": \"AutoML_5ca316bf-18ce-4c57-8b57-c73a2bf3acb6\", \"categories\": [0], \"series\": [{\"data\": [0.9842872603615994]}]}], \"run_logs\": \"\\nRun is completed.\", \"graph\": {}, \"widget_settings\": {\"childWidgetDisplay\": \"popup\", \"send_telemetry\": false, \"log_level\": \"INFO\", \"sdk_version\": \"1.38.0\"}, \"loading\": false}"
          },
          "metadata": {}
        }
      ],
      "execution_count": 15,
      "metadata": {
        "gather": {
          "logged": 1648404312667
        },
        "jupyter": {
          "outputs_hidden": false,
          "source_hidden": false
        },
        "nteract": {
          "transient": {
            "deleting": false
          }
        }
      }
    },
    {
      "cell_type": "markdown",
      "source": [
        "## Best Model\n",
        "\n",
        "TODO: In the cell below, get the best model from the automl experiments and display all the properties of the model.\n",
        "\n"
      ],
      "metadata": {}
    },
    {
      "cell_type": "code",
      "source": [
        "best_run, fitted_model = remote_run.get_output()"
      ],
      "outputs": [
        {
          "output_type": "stream",
          "name": "stderr",
          "text": "WARNING:root:The model you attempted to retrieve requires 'azureml-train-automl-runtime' to be installed at '==1.38.0'. Please install 'azureml-train-automl-runtime==1.38.0' (e.g. `pip install azureml-train-automl-runtime==1.38.0`) and then rerun the previous command.\n"
        }
      ],
      "execution_count": 16,
      "metadata": {
        "gather": {
          "logged": 1648404328884
        },
        "jupyter": {
          "outputs_hidden": false,
          "source_hidden": false
        },
        "nteract": {
          "transient": {
            "deleting": false
          }
        }
      }
    },
    {
      "cell_type": "code",
      "source": [
        "print(best_run.get_details)"
      ],
      "outputs": [
        {
          "output_type": "stream",
          "name": "stdout",
          "text": "<bound method Run.get_details of Run(Experiment: automl-heart-failure,\nId: AutoML_5ca316bf-18ce-4c57-8b57-c73a2bf3acb6_34,\nType: azureml.scriptrun,\nStatus: Completed)>\n"
        }
      ],
      "execution_count": 20,
      "metadata": {
        "jupyter": {
          "source_hidden": false,
          "outputs_hidden": false
        },
        "nteract": {
          "transient": {
            "deleting": false
          }
        },
        "gather": {
          "logged": 1648404417986
        }
      }
    },
    {
      "cell_type": "code",
      "source": [
        "best_metrics = best_run.get_metrics()\n",
        "\n",
        "print(\"Best run id : {}\".format(best_run.id), \n",
        "      \"Accuracy : {}\".format(best_metrics['accuracy']), \n",
        "      \"Best metrics : {}\".format(best_metrics), \n",
        "      \"Best model : {}\".format(fitted_model), sep = '\\n\\n')"
      ],
      "outputs": [
        {
          "output_type": "stream",
          "name": "stdout",
          "text": "Best run id : AutoML_5ca316bf-18ce-4c57-8b57-c73a2bf3acb6_34\n\nAccuracy : 0.9615075376884422\n\nBest metrics : {'AUC_weighted': 0.9842872603615994, 'precision_score_weighted': 0.9617968199587974, 'AUC_macro': 0.9842872603615994, 'AUC_micro': 0.9863999797984899, 'recall_score_micro': 0.9615075376884422, 'precision_score_macro': 0.9597566419754363, 'log_loss': 0.2720877060465034, 'precision_score_micro': 0.9615075376884422, 'matthews_correlation': 0.9122630673291221, 'f1_score_micro': 0.9615075376884422, 'f1_score_weighted': 0.9613018411705531, 'recall_score_macro': 0.9526192287428175, 'average_precision_score_micro': 0.9866891356632058, 'recall_score_weighted': 0.9615075376884422, 'average_precision_score_weighted': 0.9865027700324128, 'norm_macro_recall': 0.9052384574856349, 'f1_score_macro': 0.9557307324462285, 'accuracy': 0.9615075376884422, 'average_precision_score_macro': 0.9836537864325727, 'weighted_accuracy': 0.9683411132187437, 'balanced_accuracy': 0.9526192287428175, 'confusion_matrix': 'aml://artifactId/ExperimentRun/dcid.AutoML_5ca316bf-18ce-4c57-8b57-c73a2bf3acb6_34/confusion_matrix', 'accuracy_table': 'aml://artifactId/ExperimentRun/dcid.AutoML_5ca316bf-18ce-4c57-8b57-c73a2bf3acb6_34/accuracy_table'}\n\nBest model : None\n"
        }
      ],
      "execution_count": 17,
      "metadata": {
        "gather": {
          "logged": 1648404355357
        },
        "jupyter": {
          "outputs_hidden": false,
          "source_hidden": false
        },
        "nteract": {
          "transient": {
            "deleting": false
          }
        }
      }
    },
    {
      "cell_type": "code",
      "source": [
        "#the fitted model\n",
        "_, fitted_model = remote_run.get_output()\n",
        "print(fitted_model)"
      ],
      "outputs": [
        {
          "output_type": "stream",
          "name": "stderr",
          "text": "WARNING:root:The model you attempted to retrieve requires 'azureml-train-automl-runtime' to be installed at '==1.38.0'. Please install 'azureml-train-automl-runtime==1.38.0' (e.g. `pip install azureml-train-automl-runtime==1.38.0`) and then rerun the previous command.\n"
        }
      ],
      "execution_count": 21,
      "metadata": {
        "gather": {
          "logged": 1648404434323
        }
      }
    },
    {
      "cell_type": "code",
      "source": [
        "#TODO: Save the best model\r\n",
        "model = best_run.register_model(model_name = \"heart-failure-best-model-automl\", model_path = './outputs/model.pkl')\r\n",
        "print(model)"
      ],
      "outputs": [
        {
          "output_type": "stream",
          "name": "stdout",
          "text": "Model(workspace=Workspace.create(name='quick-starts-ws-190123', subscription_id='a0a76bad-11a1-4a2d-9887-97a29122c8ed', resource_group='aml-quickstarts-190123'), name=heart-failure-best-model-automl, id=heart-failure-best-model-automl:1, version=1, tags={}, properties={})\n"
        }
      ],
      "execution_count": 22,
      "metadata": {
        "jupyter": {
          "source_hidden": false,
          "outputs_hidden": false
        },
        "nteract": {
          "transient": {
            "deleting": false
          }
        },
        "gather": {
          "logged": 1648404442161
        }
      }
    },
    {
      "cell_type": "markdown",
      "source": [
        "## Model Deployment\n",
        "\n",
        "Remember you have to deploy only one of the two models you trained but you still need to register both the models. Perform the steps in the rest of this notebook only if you wish to deploy this model.\n",
        "\n",
        "TODO: In the cell below, register the model, create an inference config and deploy the model as a web service."
      ],
      "metadata": {}
    },
    {
      "cell_type": "code",
      "source": [
        "# downloading score.py and env file\n",
        "best_run.download_file('outputs/scoring_file_v_1_0_0.py', 'inference/score.py')"
      ],
      "outputs": [],
      "execution_count": 23,
      "metadata": {
        "gather": {
          "logged": 1648404466032
        },
        "jupyter": {
          "outputs_hidden": false,
          "source_hidden": false
        },
        "nteract": {
          "transient": {
            "deleting": false
          }
        }
      }
    },
    {
      "cell_type": "markdown",
      "source": [
        "TODO: In the cell below, send a request to the web service you deployed to test it."
      ],
      "metadata": {
        "collapsed": true,
        "gather": {
          "logged": 1598431657736
        },
        "jupyter": {
          "outputs_hidden": false,
          "source_hidden": false
        },
        "nteract": {
          "transient": {
            "deleting": false
          }
        }
      }
    },
    {
      "cell_type": "code",
      "source": [
        "# registering the model\n",
        "model_name = best_run.properties['model_name']\n",
        "description = 'AutoML model trained on heart failure data so as to predict whether death event occurs based on the clinical values'\n",
        "tags = None\n",
        "model = remote_run.register_model(model_name = model_name, description = description, tags = tags)\n",
        "\n",
        "print(remote_run.model_id) # This will be written to the script file later in the notebook."
      ],
      "outputs": [
        {
          "output_type": "stream",
          "name": "stdout",
          "text": "AutoML5ca316bf134\n"
        }
      ],
      "execution_count": 24,
      "metadata": {
        "gather": {
          "logged": 1648404469564
        },
        "jupyter": {
          "outputs_hidden": false,
          "source_hidden": false
        },
        "nteract": {
          "transient": {
            "deleting": false
          }
        }
      }
    },
    {
      "cell_type": "code",
      "source": [
        "model_name = 'best_run_automl.pkl'\r\n",
        "model = remote_run.register_model(model_name = model_name)\r\n",
        "environment = best_run.get_environment()\r\n",
        "\r\n",
        "entry_script='inference/scoring.py'\r\n",
        "best_run.download_file('outputs/scoring_file_v_1_0_0.py', entry_script)\r\n",
        "\r\n",
        "#configuration for inference\r\n",
        "inference_config = InferenceConfig(entry_script = entry_script, environment = environment)\r\n",
        "\r\n",
        "#configuration for deployment and enabling the application insights\r\n",
        "deployment_config = AciWebservice.deploy_configuration(cpu_cores = 1, \r\n",
        "                                                    memory_gb = 1, \r\n",
        "                                                    auth_enabled= True, \r\n",
        "                                                    enable_app_insights= True)\r\n",
        "\r\n",
        "#deploying the model using azure container instance\r\n",
        "service = Model.deploy(ws, \"aciservice\", [model], inference_config, deployment_config)\r\n",
        "service.wait_for_deployment(show_output = True)"
      ],
      "outputs": [
        {
          "output_type": "stream",
          "name": "stdout",
          "text": "Tips: You can try get_logs(): https://aka.ms/debugimage#dockerlog or local deployment: https://aka.ms/debugimage#debug-locally to debug if deployment takes longer than 10 minutes.\nRunning\n2022-03-27 18:07:55+00:00 Creating Container Registry if not exists..\n2022-03-27 18:17:56+00:00 Registering the environment.\n2022-03-27 18:17:56+00:00 Use the existing image.\n2022-03-27 18:17:56+00:00 Generating deployment configuration.\n2022-03-27 18:17:57+00:00 Submitting deployment to compute..\n2022-03-27 18:18:00+00:00 Checking the status of deployment aciservice..\n2022-03-27 18:20:28+00:00 Checking the status of inference endpoint aciservice.\nSucceeded\nACI service creation operation finished, operation \"Succeeded\"\n"
        }
      ],
      "execution_count": 25,
      "metadata": {
        "jupyter": {
          "source_hidden": false,
          "outputs_hidden": false
        },
        "nteract": {
          "transient": {
            "deleting": false
          }
        },
        "gather": {
          "logged": 1648405234890
        }
      }
    },
    {
      "cell_type": "markdown",
      "source": [
        "### Consume the Model"
      ],
      "metadata": {
        "nteract": {
          "transient": {
            "deleting": false
          }
        }
      }
    },
    {
      "cell_type": "code",
      "source": [
        "%run endpoint.py"
      ],
      "outputs": [
        {
          "output_type": "stream",
          "name": "stdout",
          "text": "{\"result\": [1, 1]}\n"
        }
      ],
      "execution_count": 40,
      "metadata": {
        "jupyter": {
          "source_hidden": false,
          "outputs_hidden": false
        },
        "nteract": {
          "transient": {
            "deleting": false
          }
        }
      }
    },
    {
      "cell_type": "markdown",
      "source": [
        "TODO: In the cell below, print the logs of the web service and delete the service"
      ],
      "metadata": {
        "collapsed": true,
        "gather": {
          "logged": 1598432765711
        },
        "jupyter": {
          "outputs_hidden": false,
          "source_hidden": false
        },
        "nteract": {
          "transient": {
            "deleting": false
          }
        }
      }
    },
    {
      "cell_type": "code",
      "source": [
        "print(service.get_logs)"
      ],
      "outputs": [
        {
          "output_type": "stream",
          "name": "stdout",
          "text": "<bound method Webservice.get_logs of AciWebservice(workspace=Workspace.create(name='quick-starts-ws-190123', subscription_id='a0a76bad-11a1-4a2d-9887-97a29122c8ed', resource_group='aml-quickstarts-190123'), name=aciservice, image_id=None, compute_type=None, state=ACI, scoring_uri=Healthy, tags=http://5544066d-8189-4314-b211-340ae34e758b.southcentralus.azurecontainer.io/score, properties={}, created_by={'hasInferenceSchema': 'True', 'hasHttps': 'False'})>\n"
        }
      ],
      "execution_count": 44,
      "metadata": {
        "gather": {
          "logged": 1648407563582
        }
      }
    },
    {
      "cell_type": "markdown",
      "source": [],
      "metadata": {
        "nteract": {
          "transient": {
            "deleting": false
          }
        }
      }
    },
    {
      "cell_type": "code",
      "source": [
        "best_run.download_file('outputs/conda_env_v_1_0_0.yml', 'env.yml')\r\n",
        "best_run.register_model(model_name = 'best_aml_run.pkl', model_path='./outputs/')"
      ],
      "outputs": [
        {
          "output_type": "execute_result",
          "execution_count": 45,
          "data": {
            "text/plain": "Model(workspace=Workspace.create(name='quick-starts-ws-190123', subscription_id='a0a76bad-11a1-4a2d-9887-97a29122c8ed', resource_group='aml-quickstarts-190123'), name=best_aml_run.pkl, id=best_aml_run.pkl:1, version=1, tags={}, properties={})"
          },
          "metadata": {}
        }
      ],
      "execution_count": 45,
      "metadata": {
        "jupyter": {
          "source_hidden": false,
          "outputs_hidden": false
        },
        "nteract": {
          "transient": {
            "deleting": false
          }
        },
        "gather": {
          "logged": 1648407571888
        }
      }
    },
    {
      "cell_type": "code",
      "source": [
        "service.delete()\n",
        "compute_target.delete()"
      ],
      "outputs": [],
      "execution_count": 47,
      "metadata": {
        "jupyter": {
          "outputs_hidden": false,
          "source_hidden": false
        },
        "nteract": {
          "transient": {
            "deleting": false
          }
        },
        "gather": {
          "logged": 1648408153059
        }
      }
    },
    {
      "cell_type": "markdown",
      "source": [
        "**Submission Checklist**\n",
        "- I have registered the model.\n",
        "- I have deployed the model with the best accuracy as a webservice.\n",
        "- I have tested the webservice by sending a request to the model endpoint.\n",
        "- I have deleted the webservice and shutdown all the computes that I have used.\n",
        "- I have taken a screenshot showing the model endpoint as active.\n",
        "- The project includes a file containing the environment details.\n"
      ],
      "metadata": {}
    },
    {
      "cell_type": "markdown",
      "source": [],
      "metadata": {}
    }
  ],
  "metadata": {
    "kernel_info": {
      "name": "python3"
    },
    "kernelspec": {
      "name": "python3",
      "language": "python",
      "display_name": "Python 3"
    },
    "language_info": {
      "name": "python",
      "version": "3.8.1",
      "mimetype": "text/x-python",
      "codemirror_mode": {
        "name": "ipython",
        "version": 3
      },
      "pygments_lexer": "ipython3",
      "nbconvert_exporter": "python",
      "file_extension": ".py"
    },
    "microsoft": {
      "host": {
        "AzureML": {
          "notebookHasBeenCompleted": true
        }
      }
    },
    "nteract": {
      "version": "nteract-front-end@1.0.0"
    }
  },
  "nbformat": 4,
  "nbformat_minor": 2
}