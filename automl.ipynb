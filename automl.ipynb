{
  "cells": [
    {
      "cell_type": "markdown",
      "source": [
        "# Automated ML\n",
        "TODO: Import Dependencies. In the cell below, import all the dependencies that you will need to complete the project."
      ],
      "metadata": {}
    },
    {
      "cell_type": "code",
      "source": [
        "import azureml.automl\n",
        "from azureml.core import Workspace, Experiment, Model\n",
        "from azureml.core.compute import ComputeTarget, AmlCompute\n",
        "from azureml.core.compute_target import ComputeTargetException\n",
        "from azureml.widgets import RunDetails\n",
        "from azureml.data.dataset_factory import TabularDatasetFactory\n",
        "from azureml.core.dataset import Dataset\n",
        "from azureml.train.automl.utilities import get_primary_metrics\n",
        "from azureml.train.automl import AutoMLConfig\n",
        "from azureml.core.model import InferenceConfig\n",
        "from azureml.core.webservice import AciWebservice\n",
        "from azureml.core.webservice import Webservice\n",
        "from azureml.core.model import Model\n",
        "from azureml.core.environment import Environment\n",
        "from azureml.automl.core.shared import constants\n",
        "\n",
        "\n",
        "import os\n",
        "import json\n",
        "import joblib\n",
        "import logging\n",
        "import numpy as np\n",
        "import pandas as pd\n",
        "from matplotlib import pyplot as plt\n",
        "from sklearn.model_selection import train_test_split"
      ],
      "outputs": [],
      "execution_count": 1,
      "metadata": {
        "gather": {
          "logged": 1648381464896
        },
        "jupyter": {
          "outputs_hidden": false,
          "source_hidden": false
        },
        "nteract": {
          "transient": {
            "deleting": false
          }
        }
      }
    },
    {
      "cell_type": "markdown",
      "source": [
        "## Initializing a Workspace"
      ],
      "metadata": {}
    },
    {
      "cell_type": "code",
      "source": [
        "ws = Workspace.from_config()\n",
        "print(ws.name, ws.resource_group, ws.location, ws.subscription_id, sep = '\\n')"
      ],
      "outputs": [
        {
          "output_type": "stream",
          "name": "stdout",
          "text": "quick-starts-ws-190098\naml-quickstarts-190098\nsouthcentralus\n1b944a9b-fdae-4f97-aeb1-b7eea0beac53\n"
        }
      ],
      "execution_count": 2,
      "metadata": {
        "gather": {
          "logged": 1648381465736
        },
        "jupyter": {
          "outputs_hidden": false,
          "source_hidden": false
        },
        "nteract": {
          "transient": {
            "deleting": false
          }
        }
      }
    },
    {
      "cell_type": "markdown",
      "source": [
        "TODO: In this markdown cell, give an overview of the dataset you are using. Also mention the task you will be performing."
      ],
      "metadata": {}
    },
    {
      "cell_type": "markdown",
      "source": [
        "## Creating an AML Experiment"
      ],
      "metadata": {
        "nteract": {
          "transient": {
            "deleting": false
          }
        }
      }
    },
    {
      "cell_type": "code",
      "source": [
        "# choose a name for experiment\n",
        "experiment_name = 'automl-heart-failure'\n",
        "experiment = Experiment(ws, experiment_name)\n",
        "run = experiment.start_logging()\n",
        "\n",
        "experiment"
      ],
      "outputs": [
        {
          "output_type": "execute_result",
          "execution_count": 3,
          "data": {
            "text/plain": "Experiment(Name: automl-heart-failure,\nWorkspace: quick-starts-ws-190098)",
            "text/html": "<table style=\"width:100%\"><tr><th>Name</th><th>Workspace</th><th>Report Page</th><th>Docs Page</th></tr><tr><td>automl-heart-failure</td><td>quick-starts-ws-190098</td><td><a href=\"https://ml.azure.com/experiments/id/bf250683-e5c0-4e02-abb2-0be596699b18?wsid=/subscriptions/1b944a9b-fdae-4f97-aeb1-b7eea0beac53/resourcegroups/aml-quickstarts-190098/workspaces/quick-starts-ws-190098&amp;tid=660b3398-b80e-49d2-bc5b-ac1dc93b5254\" target=\"_blank\" rel=\"noopener\">Link to Azure Machine Learning studio</a></td><td><a href=\"https://docs.microsoft.com/en-us/python/api/azureml-core/azureml.core.experiment.Experiment?view=azure-ml-py\" target=\"_blank\" rel=\"noopener\">Link to Documentation</a></td></tr></table>"
          },
          "metadata": {}
        }
      ],
      "execution_count": 3,
      "metadata": {
        "gather": {
          "logged": 1648381469504
        },
        "jupyter": {
          "outputs_hidden": false,
          "source_hidden": false
        },
        "nteract": {
          "transient": {
            "deleting": false
          }
        }
      }
    },
    {
      "cell_type": "markdown",
      "source": [
        "## Creating a Compute Cluster"
      ],
      "metadata": {
        "nteract": {
          "transient": {
            "deleting": false
          }
        }
      }
    },
    {
      "cell_type": "code",
      "source": [
        "amlcompute_cluster_name = \"hf-compute\"\n",
        "\n",
        "try:\n",
        "    compute_target = ComputeTarget(workspace = ws, name = amlcompute_cluster_name)\n",
        "    print('Found existing cluster, use it.')\n",
        "except ComputeTargetException:\n",
        "    compute_config = AmlCompute.provisioning_configuration(vm_size = 'STANDARD_DS3_V2', max_nodes=4)\n",
        "    compute_target = ComputeTarget.create(ws, amlcompute_cluster_name, compute_config)\n",
        "\n",
        "compute_target.wait_for_completion(show_output=True, min_node_count = 1, timeout_in_minutes = 10)"
      ],
      "outputs": [
        {
          "output_type": "stream",
          "name": "stdout",
          "text": "Found existing cluster, use it.\nSucceeded......................................................................................................................\nAmlCompute wait for completion finished\n\nWait timeout has been reached\nCurrent provisioning state of AmlCompute is \"Succeeded\" and current node count is \"0\"\n"
        }
      ],
      "execution_count": 4,
      "metadata": {
        "gather": {
          "logged": 1648382073111
        },
        "jupyter": {
          "outputs_hidden": false,
          "source_hidden": false
        },
        "nteract": {
          "transient": {
            "deleting": false
          }
        }
      }
    },
    {
      "cell_type": "markdown",
      "source": [
        "## Data Wrangling"
      ],
      "metadata": {}
    },
    {
      "cell_type": "markdown",
      "source": [
        "## Data Gathering\n",
        "\n",
        "### Overview\n",
        "In this project, the Heart Failure Prediction dataset from Kaggle is used. The description of the dataset is provided below.\n",
        "\n",
        "**The dataset has the following features:**  \n",
        "* age: Age (numeric)\n",
        "* anaemia: Decrease of red blood cells or hemoglobin (boolean)\n",
        "* creatinine_phosphokinase: Level of the CPK enzyme in the blood (mcg/L)\n",
        "* diabetes: If the patient has diabetes (boolean)\n",
        "* ejection_fraction: Percentage of blood leaving the heart at each contraction (percentage)\n",
        "* high_blood_pressure: If the patient has hypertension (boolean)\n",
        "* platelets: Platelets in the blood (kiloplatelets/mL)\n",
        "* serum_creatinine: Level of serum creatinine in the blood (mg/dL)\n",
        "* serum_sodium: Level of serum sodium in the blood (mEq/L)\n",
        "* sex: Woman or man (binary)\n",
        "\n",
        "**The task:**  \n",
        "Developing a ML model to predict death events using 12 clinical features."
      ],
      "metadata": {}
    },
    {
      "cell_type": "markdown",
      "source": [
        "TODO: Get data. In the cell below, write code to access the data you will be using in this project. Remember that the dataset needs to be external."
      ],
      "metadata": {}
    },
    {
      "cell_type": "code",
      "source": [
        "### Gathering the Dataset\n",
        "data_path = \"https://raw.githubusercontent.com/ugururesin/Azure-ML-Capstone-Project/main/dataset/heart_failure_clinical_records_dataset.csv\"\n",
        "\n",
        "\n",
        "exist = False\n",
        "key = \"heart-failure\"\n",
        "description_text = \"heart failure dataset for binary classification\"\n",
        "\n",
        "if key in ws.datasets.keys(): \n",
        "        exist = True\n",
        "        dataset = ws.datasets[key] \n",
        "        \n",
        "\n",
        "if not exist:\n",
        "        #Creating automl dataset and registering it into the workspace\n",
        "        dataset = Dataset.Tabular.from_delimited_files(data_path)        \n",
        "        \n",
        "        #Register Dataset in Workspace\n",
        "        dataset = dataset.register(workspace=ws,\n",
        "                                   name=key,\n",
        "                                   description=description_text)"
      ],
      "outputs": [],
      "execution_count": 5,
      "metadata": {
        "gather": {
          "logged": 1648382073446
        }
      }
    },
    {
      "cell_type": "markdown",
      "source": [
        "## Data Assesing"
      ],
      "metadata": {}
    },
    {
      "cell_type": "code",
      "source": [
        "df = dataset.to_pandas_dataframe()\n",
        "df.head()"
      ],
      "outputs": [
        {
          "output_type": "execute_result",
          "execution_count": 6,
          "data": {
            "text/plain": "    age  anaemia  creatinine_phosphokinase  diabetes  ejection_fraction  \\\n0  75.0        0                       582         0                 20   \n1  55.0        0                      7861         0                 38   \n2  65.0        0                       146         0                 20   \n3  50.0        1                       111         0                 20   \n4  65.0        1                       160         1                 20   \n\n   high_blood_pressure  platelets  serum_creatinine  serum_sodium  sex  \\\n0                    1  265000.00               1.9           130    1   \n1                    0  263358.03               1.1           136    1   \n2                    0  162000.00               1.3           129    1   \n3                    0  210000.00               1.9           137    1   \n4                    0  327000.00               2.7           116    0   \n\n   smoking  time  DEATH_EVENT  \n0        0     4            1  \n1        0     6            1  \n2        1     7            1  \n3        0     7            1  \n4        0     8            1  ",
            "text/html": "<div>\n<style scoped>\n    .dataframe tbody tr th:only-of-type {\n        vertical-align: middle;\n    }\n\n    .dataframe tbody tr th {\n        vertical-align: top;\n    }\n\n    .dataframe thead th {\n        text-align: right;\n    }\n</style>\n<table border=\"1\" class=\"dataframe\">\n  <thead>\n    <tr style=\"text-align: right;\">\n      <th></th>\n      <th>age</th>\n      <th>anaemia</th>\n      <th>creatinine_phosphokinase</th>\n      <th>diabetes</th>\n      <th>ejection_fraction</th>\n      <th>high_blood_pressure</th>\n      <th>platelets</th>\n      <th>serum_creatinine</th>\n      <th>serum_sodium</th>\n      <th>sex</th>\n      <th>smoking</th>\n      <th>time</th>\n      <th>DEATH_EVENT</th>\n    </tr>\n  </thead>\n  <tbody>\n    <tr>\n      <th>0</th>\n      <td>75.0</td>\n      <td>0</td>\n      <td>582</td>\n      <td>0</td>\n      <td>20</td>\n      <td>1</td>\n      <td>265000.00</td>\n      <td>1.9</td>\n      <td>130</td>\n      <td>1</td>\n      <td>0</td>\n      <td>4</td>\n      <td>1</td>\n    </tr>\n    <tr>\n      <th>1</th>\n      <td>55.0</td>\n      <td>0</td>\n      <td>7861</td>\n      <td>0</td>\n      <td>38</td>\n      <td>0</td>\n      <td>263358.03</td>\n      <td>1.1</td>\n      <td>136</td>\n      <td>1</td>\n      <td>0</td>\n      <td>6</td>\n      <td>1</td>\n    </tr>\n    <tr>\n      <th>2</th>\n      <td>65.0</td>\n      <td>0</td>\n      <td>146</td>\n      <td>0</td>\n      <td>20</td>\n      <td>0</td>\n      <td>162000.00</td>\n      <td>1.3</td>\n      <td>129</td>\n      <td>1</td>\n      <td>1</td>\n      <td>7</td>\n      <td>1</td>\n    </tr>\n    <tr>\n      <th>3</th>\n      <td>50.0</td>\n      <td>1</td>\n      <td>111</td>\n      <td>0</td>\n      <td>20</td>\n      <td>0</td>\n      <td>210000.00</td>\n      <td>1.9</td>\n      <td>137</td>\n      <td>1</td>\n      <td>0</td>\n      <td>7</td>\n      <td>1</td>\n    </tr>\n    <tr>\n      <th>4</th>\n      <td>65.0</td>\n      <td>1</td>\n      <td>160</td>\n      <td>1</td>\n      <td>20</td>\n      <td>0</td>\n      <td>327000.00</td>\n      <td>2.7</td>\n      <td>116</td>\n      <td>0</td>\n      <td>0</td>\n      <td>8</td>\n      <td>1</td>\n    </tr>\n  </tbody>\n</table>\n</div>"
          },
          "metadata": {}
        }
      ],
      "execution_count": 6,
      "metadata": {
        "gather": {
          "logged": 1648382082781
        }
      }
    },
    {
      "cell_type": "code",
      "source": [
        "#Creating training and testing datasets\n",
        "x = df.drop('DEATH_EVENT', axis=1)\n",
        "y = df['DEATH_EVENT']\n",
        "\n",
        "x_train, x_test, y_train, y_test = train_test_split(x, y, test_size = 0.2)\n",
        "\n",
        "train_df = pd.concat([x_train, y_train], axis=1)\n",
        "test_df = pd.concat([x_test, y_test], axis=1)\n",
        "\n",
        "train_df.head()"
      ],
      "outputs": [
        {
          "output_type": "execute_result",
          "execution_count": 7,
          "data": {
            "text/plain": "      age  anaemia  creatinine_phosphokinase  diabetes  ejection_fraction  \\\n52   60.0        0                      3964         1                 62   \n270  44.0        0                       582         1                 30   \n260  55.0        0                        66         0                 40   \n125  43.0        1                       358         0                 50   \n15   82.0        1                       379         0                 50   \n\n     high_blood_pressure  platelets  serum_creatinine  serum_sodium  sex  \\\n52                     0  263358.03               6.8           146    0   \n270                    1  263358.03               1.6           130    1   \n260                    0  203000.00               1.0           138    1   \n125                    0  237000.00               1.3           135    0   \n15                     0   47000.00               1.3           136    1   \n\n     smoking  time  DEATH_EVENT  \n52         0    43            1  \n270        1   244            0  \n260        0   233            0  \n125        0    97            0  \n15         0    13            1  ",
            "text/html": "<div>\n<style scoped>\n    .dataframe tbody tr th:only-of-type {\n        vertical-align: middle;\n    }\n\n    .dataframe tbody tr th {\n        vertical-align: top;\n    }\n\n    .dataframe thead th {\n        text-align: right;\n    }\n</style>\n<table border=\"1\" class=\"dataframe\">\n  <thead>\n    <tr style=\"text-align: right;\">\n      <th></th>\n      <th>age</th>\n      <th>anaemia</th>\n      <th>creatinine_phosphokinase</th>\n      <th>diabetes</th>\n      <th>ejection_fraction</th>\n      <th>high_blood_pressure</th>\n      <th>platelets</th>\n      <th>serum_creatinine</th>\n      <th>serum_sodium</th>\n      <th>sex</th>\n      <th>smoking</th>\n      <th>time</th>\n      <th>DEATH_EVENT</th>\n    </tr>\n  </thead>\n  <tbody>\n    <tr>\n      <th>52</th>\n      <td>60.0</td>\n      <td>0</td>\n      <td>3964</td>\n      <td>1</td>\n      <td>62</td>\n      <td>0</td>\n      <td>263358.03</td>\n      <td>6.8</td>\n      <td>146</td>\n      <td>0</td>\n      <td>0</td>\n      <td>43</td>\n      <td>1</td>\n    </tr>\n    <tr>\n      <th>270</th>\n      <td>44.0</td>\n      <td>0</td>\n      <td>582</td>\n      <td>1</td>\n      <td>30</td>\n      <td>1</td>\n      <td>263358.03</td>\n      <td>1.6</td>\n      <td>130</td>\n      <td>1</td>\n      <td>1</td>\n      <td>244</td>\n      <td>0</td>\n    </tr>\n    <tr>\n      <th>260</th>\n      <td>55.0</td>\n      <td>0</td>\n      <td>66</td>\n      <td>0</td>\n      <td>40</td>\n      <td>0</td>\n      <td>203000.00</td>\n      <td>1.0</td>\n      <td>138</td>\n      <td>1</td>\n      <td>0</td>\n      <td>233</td>\n      <td>0</td>\n    </tr>\n    <tr>\n      <th>125</th>\n      <td>43.0</td>\n      <td>1</td>\n      <td>358</td>\n      <td>0</td>\n      <td>50</td>\n      <td>0</td>\n      <td>237000.00</td>\n      <td>1.3</td>\n      <td>135</td>\n      <td>0</td>\n      <td>0</td>\n      <td>97</td>\n      <td>0</td>\n    </tr>\n    <tr>\n      <th>15</th>\n      <td>82.0</td>\n      <td>1</td>\n      <td>379</td>\n      <td>0</td>\n      <td>50</td>\n      <td>0</td>\n      <td>47000.00</td>\n      <td>1.3</td>\n      <td>136</td>\n      <td>1</td>\n      <td>0</td>\n      <td>13</td>\n      <td>1</td>\n    </tr>\n  </tbody>\n</table>\n</div>"
          },
          "metadata": {}
        }
      ],
      "execution_count": 7,
      "metadata": {
        "gather": {
          "logged": 1648382083135
        }
      }
    },
    {
      "cell_type": "code",
      "source": [
        "#Since pandas dataframe is not supported, the dataset needs to be converted to tabular dataset\n",
        "if not os.path.isdir('dataset'):\n",
        "    os.mkdir('dataset')\n",
        "\n",
        "pd.DataFrame(train_df).to_csv(\"dataset/train_data.csv\", index=False)\n",
        "pd.DataFrame(test_df).to_csv(\"dataset/test_data.csv\", index=False)\n",
        "\n",
        "ds = ws.get_default_datastore()\n",
        "ds.upload(src_dir = './dataset', target_path = 'heart-failure-dataset/train_data.csv')\n",
        "\n",
        "train_data = Dataset.Tabular.from_delimited_files(path = ds.path('heart-failure-dataset/train_data.csv'))"
      ],
      "outputs": [
        {
          "output_type": "stream",
          "name": "stderr",
          "text": "\"Datastore.upload\" is deprecated after version 1.0.69. Please use \"Dataset.File.upload_directory\" to upload your files             from a local directory and create FileDataset in single method call. See Dataset API change notice at https://aka.ms/dataset-deprecation.\n"
        }
      ],
      "execution_count": 8,
      "metadata": {
        "gather": {
          "logged": 1648382085934
        },
        "jupyter": {
          "outputs_hidden": false,
          "source_hidden": false
        },
        "nteract": {
          "transient": {
            "deleting": false
          }
        }
      }
    },
    {
      "cell_type": "code",
      "source": [
        "train_data"
      ],
      "outputs": [
        {
          "output_type": "execute_result",
          "execution_count": 9,
          "data": {
            "text/plain": "{\n  \"source\": [\n    \"('workspaceblobstore', 'heart-failure-dataset/train_data.csv')\"\n  ],\n  \"definition\": [\n    \"GetDatastoreFiles\",\n    \"ParseDelimited\",\n    \"DropColumns\",\n    \"SetColumnTypes\"\n  ]\n}"
          },
          "metadata": {}
        }
      ],
      "execution_count": 9,
      "metadata": {
        "gather": {
          "logged": 1648382086337
        },
        "jupyter": {
          "outputs_hidden": false,
          "source_hidden": false
        },
        "nteract": {
          "transient": {
            "deleting": false
          }
        }
      }
    },
    {
      "cell_type": "markdown",
      "source": [
        "### Checking the target feature"
      ],
      "metadata": {
        "nteract": {
          "transient": {
            "deleting": false
          }
        }
      }
    },
    {
      "cell_type": "code",
      "source": [
        "df['DEATH_EVENT'].value_counts()"
      ],
      "outputs": [
        {
          "output_type": "execute_result",
          "execution_count": 10,
          "data": {
            "text/plain": "0    203\n1     96\nName: DEATH_EVENT, dtype: int64"
          },
          "metadata": {}
        }
      ],
      "execution_count": 10,
      "metadata": {
        "gather": {
          "logged": 1648382086702
        },
        "jupyter": {
          "outputs_hidden": false,
          "source_hidden": false
        },
        "nteract": {
          "transient": {
            "deleting": false
          }
        }
      }
    },
    {
      "cell_type": "code",
      "source": [
        "get_primary_metrics(\"classification\")"
      ],
      "outputs": [
        {
          "output_type": "execute_result",
          "execution_count": 11,
          "data": {
            "text/plain": "['AUC_weighted',\n 'norm_macro_recall',\n 'precision_score_weighted',\n 'accuracy',\n 'average_precision_score_weighted']"
          },
          "metadata": {}
        }
      ],
      "execution_count": 11,
      "metadata": {
        "gather": {
          "logged": 1648382087023
        },
        "jupyter": {
          "outputs_hidden": false,
          "source_hidden": false
        },
        "nteract": {
          "transient": {
            "deleting": false
          }
        }
      }
    },
    {
      "cell_type": "markdown",
      "source": [
        "## AutoML Configuration\n",
        "\n",
        "TODO: Explain why you chose the automl settings and cofiguration you used below.\n",
        "\n",
        "* **experiment_timeout_minutes**: 15 minutes is set since the dataset is small.\n",
        "\n",
        "* **iterations**: 50 is set since the dataset is small.  \n",
        "\n",
        "* **max_concurrent_iterations**: Represents the maximum number of iterations that would be executed in parallel.\n",
        "\n",
        "* **n_cross_validations**: To avoid overfitting and ensure randomness.\n",
        "\n",
        "* **primary_metric**: Since the target response is imbalanced, accuracy is not a good evaluation metric. So, auc is selected.  \n",
        "\n",
        "* **task**: Classification is selected since the response variable is binary (0 or 1).  \n",
        "\n",
        "* **enable_early_stopping**: Activated to avoid overfitting."
      ],
      "metadata": {}
    },
    {
      "cell_type": "code",
      "source": [
        "# TODO: Put your automl settings here\n",
        "automl_settings = {\n",
        "    \"experiment_timeout_minutes\": 15,\n",
        "    \"iterations\": 50,\n",
        "    \"max_concurrent_iterations\": 3,\n",
        "    \"n_cross_validations\": 3,\n",
        "    \"primary_metric\" : 'AUC_weighted',\n",
        "    \"featurization\" : 'auto',\n",
        "    \"verbosity\": logging.INFO\n",
        "}\n",
        "\n",
        "# TODO: Put your automl config here\n",
        "automl_config = AutoMLConfig(\n",
        "    task = \"classification\", \n",
        "    training_data = train_data,\n",
        "    label_column_name=\"DEATH_EVENT\",\n",
        "    enable_early_stopping= True,\n",
        "    debug_log = \"automl_errors.log\",\n",
        "    compute_target = compute_target,\n",
        "    **automl_settings\n",
        ")\n",
        "                             "
      ],
      "outputs": [],
      "execution_count": 12,
      "metadata": {
        "gather": {
          "logged": 1648382087299
        },
        "jupyter": {
          "outputs_hidden": false,
          "source_hidden": false
        },
        "nteract": {
          "transient": {
            "deleting": false
          }
        }
      }
    },
    {
      "cell_type": "code",
      "source": [
        "# TODO: Submit your experiment\n",
        "remote_run = experiment.submit(automl_config, show_output=True)\n",
        "remote_run.wait_for_completion(show_output=True)"
      ],
      "outputs": [
        {
          "output_type": "stream",
          "name": "stdout",
          "text": "Submitting remote run.\nNo run_configuration provided, running on hf-compute with default configuration\nRunning on remote compute: hf-compute\n"
        },
        {
          "output_type": "display_data",
          "data": {
            "text/plain": "<IPython.core.display.HTML object>",
            "text/html": "<table style=\"width:100%\"><tr><th>Experiment</th><th>Id</th><th>Type</th><th>Status</th><th>Details Page</th><th>Docs Page</th></tr><tr><td>automl-heart-failure</td><td>AutoML_bf1ec23c-5e81-4353-acba-4ed7d22c1a01</td><td>automl</td><td>NotStarted</td><td><a href=\"https://ml.azure.com/runs/AutoML_bf1ec23c-5e81-4353-acba-4ed7d22c1a01?wsid=/subscriptions/1b944a9b-fdae-4f97-aeb1-b7eea0beac53/resourcegroups/aml-quickstarts-190098/workspaces/quick-starts-ws-190098&amp;tid=660b3398-b80e-49d2-bc5b-ac1dc93b5254\" target=\"_blank\" rel=\"noopener\">Link to Azure Machine Learning studio</a></td><td><a href=\"https://docs.microsoft.com/en-us/python/api/overview/azure/ml/intro?view=azure-ml-py\" target=\"_blank\" rel=\"noopener\">Link to Documentation</a></td></tr></table>"
          },
          "metadata": {}
        },
        {
          "output_type": "stream",
          "name": "stdout",
          "text": "\nCurrent status: FeaturesGeneration. Generating features for the dataset.\nCurrent status: DatasetCrossValidationSplit. Generating individually featurized CV splits.\nCurrent status: ModelSelection. Beginning model selection.\n\n********************************************************************************************\nDATA GUARDRAILS: \n\nTYPE:         Class balancing detection\nSTATUS:       PASSED\nDESCRIPTION:  Your inputs were analyzed, and all classes are balanced in your training data.\n              Learn more about imbalanced data: https://aka.ms/AutomatedMLImbalancedData\n\n********************************************************************************************\n\nTYPE:         Missing feature values imputation\nSTATUS:       PASSED\nDESCRIPTION:  No feature missing values were detected in the training data.\n              Learn more about missing value imputation: https://aka.ms/AutomatedMLFeaturization\n\n********************************************************************************************\n\nTYPE:         High cardinality feature detection\nSTATUS:       PASSED\nDESCRIPTION:  Your inputs were analyzed, and no high cardinality features were detected.\n              Learn more about high cardinality feature handling: https://aka.ms/AutomatedMLFeaturization\n\n********************************************************************************************\n\n********************************************************************************************\nITER: The iteration being evaluated.\nPIPELINE: A summary description of the pipeline being evaluated.\nDURATION: Time taken for the current iteration.\nMETRIC: The result of computing score on the fitted pipeline.\nBEST: The best observed score thus far.\n********************************************************************************************\n\n ITER   PIPELINE                                       DURATION            METRIC      BEST\n    0   MaxAbsScaler LightGBM                          0:00:09             0.9802    0.9802\n    1   MaxAbsScaler XGBoostClassifier                 0:00:08             0.9759    0.9802\n    2   MaxAbsScaler ExtremeRandomTrees                0:00:08             0.9288    0.9802\n    3   MaxAbsScaler RandomForest                      0:00:08             0.9465    0.9802\n    4   StandardScalerWrapper LightGBM                 0:00:08             0.9315    0.9802\n    5   SparseNormalizer XGBoostClassifier             0:00:08             0.9573    0.9802\n    6   SparseNormalizer RandomForest                  0:00:09             0.9647    0.9802\n    7   StandardScalerWrapper XGBoostClassifier        0:00:08             0.9622    0.9802\n    8   SparseNormalizer XGBoostClassifier             0:00:08             0.9558    0.9802\n   10   SparseNormalizer LightGBM                      0:00:08             0.9251    0.9802\n    9   MaxAbsScaler RandomForest                      0:00:08             0.9118    0.9802\n   11   MaxAbsScaler ExtremeRandomTrees                0:00:11             0.9395    0.9802\n   12   StandardScalerWrapper XGBoostClassifier        0:00:08             0.9595    0.9802\n   13   StandardScalerWrapper ExtremeRandomTrees       0:00:08             0.9047    0.9802\n   14   StandardScalerWrapper RandomForest             0:00:09             0.9867    0.9867\n   15   MaxAbsScaler LightGBM                          0:00:08             0.9469    0.9867\n   16   MaxAbsScaler LogisticRegression                0:00:08             0.9111    0.9867\n   17   StandardScalerWrapper ExtremeRandomTrees       0:00:09             0.9609    0.9867\n   18   StandardScalerWrapper XGBoostClassifier        0:00:08             0.9362    0.9867\n   19   MaxAbsScaler ExtremeRandomTrees                0:00:08             0.9063    0.9867\n   20   MaxAbsScaler LogisticRegression                0:00:04             0.9096    0.9867\n   22   StandardScalerWrapper XGBoostClassifier        0:00:04             0.9729    0.9867\n   23   MaxAbsScaler RandomForest                      0:00:04             0.9303    0.9867\n   21   StandardScalerWrapper XGBoostClassifier        0:00:04             0.9373    0.9867\n   24   StandardScalerWrapper LightGBM                 0:00:04             0.9234    0.9867\n   25   StandardScalerWrapper RandomForest             0:00:04             0.7520    0.9867\n   26   StandardScalerWrapper LogisticRegression       0:00:04             0.9110    0.9867\n   28   StandardScalerWrapper LightGBM                 0:00:04             0.9595    0.9867\n   27   StandardScalerWrapper LightGBM                 0:00:04             0.9375    0.9867\n   29   StandardScalerWrapper XGBoostClassifier        0:00:04             0.9771    0.9867\n   30   SparseNormalizer RandomForest                  0:00:04             0.8202    0.9867\n   31   StandardScalerWrapper XGBoostClassifier        0:00:04             0.9814    0.9867\n   32                                                  0:00:00                nan    0.9867\n   33                                                  0:00:01                nan    0.9867\n   34    VotingEnsemble                                0:00:04             0.9899    0.9899\n   35    StackEnsemble                                 0:00:04             0.9852    0.9899\n"
        },
        {
          "output_type": "display_data",
          "data": {
            "text/plain": "<IPython.core.display.HTML object>",
            "text/html": "<table style=\"width:100%\"><tr><th>Experiment</th><th>Id</th><th>Type</th><th>Status</th><th>Details Page</th><th>Docs Page</th></tr><tr><td>automl-heart-failure</td><td>AutoML_bf1ec23c-5e81-4353-acba-4ed7d22c1a01</td><td>automl</td><td>Completed</td><td><a href=\"https://ml.azure.com/runs/AutoML_bf1ec23c-5e81-4353-acba-4ed7d22c1a01?wsid=/subscriptions/1b944a9b-fdae-4f97-aeb1-b7eea0beac53/resourcegroups/aml-quickstarts-190098/workspaces/quick-starts-ws-190098&amp;tid=660b3398-b80e-49d2-bc5b-ac1dc93b5254\" target=\"_blank\" rel=\"noopener\">Link to Azure Machine Learning studio</a></td><td><a href=\"https://docs.microsoft.com/en-us/python/api/overview/azure/ml/intro?view=azure-ml-py\" target=\"_blank\" rel=\"noopener\">Link to Documentation</a></td></tr></table>"
          },
          "metadata": {}
        },
        {
          "output_type": "stream",
          "name": "stdout",
          "text": "\n\n********************************************************************************************\nDATA GUARDRAILS: \n\nTYPE:         Class balancing detection\nSTATUS:       PASSED\nDESCRIPTION:  Your inputs were analyzed, and all classes are balanced in your training data.\n              Learn more about imbalanced data: https://aka.ms/AutomatedMLImbalancedData\n\n********************************************************************************************\n\nTYPE:         Missing feature values imputation\nSTATUS:       PASSED\nDESCRIPTION:  No feature missing values were detected in the training data.\n              Learn more about missing value imputation: https://aka.ms/AutomatedMLFeaturization\n\n********************************************************************************************\n\nTYPE:         High cardinality feature detection\nSTATUS:       PASSED\nDESCRIPTION:  Your inputs were analyzed, and no high cardinality features were detected.\n              Learn more about high cardinality feature handling: https://aka.ms/AutomatedMLFeaturization\n\n********************************************************************************************\n\n********************************************************************************************\nITER: The iteration being evaluated.\nPIPELINE: A summary description of the pipeline being evaluated.\nDURATION: Time taken for the current iteration.\nMETRIC: The result of computing score on the fitted pipeline.\nBEST: The best observed score thus far.\n********************************************************************************************\n\n ITER   PIPELINE                                       DURATION            METRIC      BEST\n    0   MaxAbsScaler LightGBM                          0:00:09             0.9802    0.9802\n    1   MaxAbsScaler XGBoostClassifier                 0:00:08             0.9759    0.9802\n    2   MaxAbsScaler ExtremeRandomTrees                0:00:08             0.9288    0.9802\n    3   MaxAbsScaler RandomForest                      0:00:08             0.9465    0.9802\n    4   StandardScalerWrapper LightGBM                 0:00:08             0.9315    0.9802\n    5   SparseNormalizer XGBoostClassifier             0:00:08             0.9573    0.9802\n    6   SparseNormalizer RandomForest                  0:00:09             0.9647    0.9802\n    7   StandardScalerWrapper XGBoostClassifier        0:00:08             0.9622    0.9802\n    8   SparseNormalizer XGBoostClassifier             0:00:08             0.9558    0.9802\n   10   SparseNormalizer LightGBM                      0:00:08             0.9251    0.9802\n   11   MaxAbsScaler ExtremeRandomTrees                0:00:11             0.9395    0.9802\n    9   MaxAbsScaler RandomForest                      0:00:08             0.9118    0.9802\n   12   StandardScalerWrapper XGBoostClassifier        0:00:08             0.9595    0.9802\n   13   StandardScalerWrapper ExtremeRandomTrees       0:00:08             0.9047    0.9802\n   14   StandardScalerWrapper RandomForest             0:00:09             0.9867    0.9867\n   15   MaxAbsScaler LightGBM                          0:00:08             0.9469    0.9867\n   16   MaxAbsScaler LogisticRegression                0:00:08             0.9111    0.9867\n   17   StandardScalerWrapper ExtremeRandomTrees       0:00:09             0.9609    0.9867\n   18   StandardScalerWrapper XGBoostClassifier        0:00:08             0.9362    0.9867\n   19   MaxAbsScaler ExtremeRandomTrees                0:00:08             0.9063    0.9867\n   20   MaxAbsScaler LogisticRegression                0:00:04             0.9096    0.9867\n   21   StandardScalerWrapper XGBoostClassifier        0:00:04             0.9373    0.9867\n   22   StandardScalerWrapper XGBoostClassifier        0:00:04             0.9729    0.9867\n   23   MaxAbsScaler RandomForest                      0:00:04             0.9303    0.9867\n   24   StandardScalerWrapper LightGBM                 0:00:04             0.9234    0.9867\n   25   StandardScalerWrapper RandomForest             0:00:04             0.7520    0.9867\n   26   StandardScalerWrapper LogisticRegression       0:00:04             0.9110    0.9867\n   27   StandardScalerWrapper LightGBM                 0:00:04             0.9375    0.9867\n   28   StandardScalerWrapper LightGBM                 0:00:04             0.9595    0.9867\n   29   StandardScalerWrapper XGBoostClassifier        0:00:04             0.9771    0.9867\n   30   SparseNormalizer RandomForest                  0:00:04             0.8202    0.9867\n   31   StandardScalerWrapper XGBoostClassifier        0:00:04             0.9814    0.9867\n   32                                                  0:00:00                nan    0.9867\n   33                                                  0:00:01                nan    0.9867\n   34    VotingEnsemble                                0:00:04             0.9899    0.9899\n   35    StackEnsemble                                 0:00:04             0.9852    0.9899\n"
        },
        {
          "output_type": "execute_result",
          "execution_count": 13,
          "data": {
            "text/plain": "{'runId': 'AutoML_bf1ec23c-5e81-4353-acba-4ed7d22c1a01',\n 'target': 'hf-compute',\n 'status': 'Completed',\n 'startTimeUtc': '2022-03-27T11:55:04.68859Z',\n 'endTimeUtc': '2022-03-27T12:09:59.111454Z',\n 'services': {},\n 'warnings': [{'source': 'JasmineService',\n   'message': 'No scores improved over last 20 iterations, so experiment stopped early. This early stopping behavior can be disabled by setting enable_early_stopping = False in AutoMLConfig for notebook/python SDK runs.'}],\n 'properties': {'num_iterations': '50',\n  'training_type': 'TrainFull',\n  'acquisition_function': 'EI',\n  'primary_metric': 'AUC_weighted',\n  'train_split': '0',\n  'acquisition_parameter': '0',\n  'num_cross_validation': '3',\n  'target': 'hf-compute',\n  'AMLSettingsJsonString': '{\"path\":null,\"name\":\"automl-heart-failure\",\"subscription_id\":\"1b944a9b-fdae-4f97-aeb1-b7eea0beac53\",\"resource_group\":\"aml-quickstarts-190098\",\"workspace_name\":\"quick-starts-ws-190098\",\"region\":\"southcentralus\",\"compute_target\":\"hf-compute\",\"spark_service\":null,\"azure_service\":\"remote\",\"many_models\":false,\"pipeline_fetch_max_batch_size\":1,\"enable_batch_run\":true,\"enable_run_restructure\":false,\"start_auxiliary_runs_before_parent_complete\":false,\"enable_code_generation\":false,\"iterations\":50,\"primary_metric\":\"AUC_weighted\",\"task_type\":\"classification\",\"positive_label\":null,\"data_script\":null,\"test_size\":0.0,\"test_include_predictions_only\":false,\"validation_size\":0.0,\"n_cross_validations\":3,\"y_min\":null,\"y_max\":null,\"num_classes\":null,\"featurization\":\"auto\",\"_ignore_package_version_incompatibilities\":false,\"is_timeseries\":false,\"max_cores_per_iteration\":1,\"max_concurrent_iterations\":3,\"iteration_timeout_minutes\":null,\"mem_in_mb\":null,\"enforce_time_on_windows\":false,\"experiment_timeout_minutes\":15,\"experiment_exit_score\":null,\"whitelist_models\":null,\"blacklist_algos\":[\"TensorFlowLinearClassifier\",\"TensorFlowDNN\"],\"supported_models\":[\"TensorFlowLinearClassifier\",\"AveragedPerceptronClassifier\",\"RandomForest\",\"MultinomialNaiveBayes\",\"LightGBM\",\"DecisionTree\",\"LinearSVM\",\"TabnetClassifier\",\"LogisticRegression\",\"KNN\",\"SGD\",\"SVM\",\"ExtremeRandomTrees\",\"GradientBoosting\",\"TensorFlowDNN\",\"BernoulliNaiveBayes\",\"XGBoostClassifier\"],\"private_models\":[],\"auto_blacklist\":true,\"blacklist_samples_reached\":false,\"exclude_nan_labels\":true,\"verbosity\":20,\"_debug_log\":\"azureml_automl.log\",\"show_warnings\":false,\"model_explainability\":true,\"service_url\":null,\"sdk_url\":null,\"sdk_packages\":null,\"enable_onnx_compatible_models\":false,\"enable_split_onnx_featurizer_estimator_models\":false,\"vm_type\":\"STANDARD_DS3_V2\",\"telemetry_verbosity\":20,\"send_telemetry\":true,\"enable_dnn\":false,\"scenario\":\"SDK-1.13.0\",\"environment_label\":null,\"save_mlflow\":false,\"enable_categorical_indicators\":false,\"force_text_dnn\":false,\"enable_feature_sweeping\":true,\"enable_early_stopping\":true,\"early_stopping_n_iters\":10,\"arguments\":null,\"dataset_id\":\"9b2d5b8f-9113-48a7-95fc-c8e5736270ad\",\"hyperdrive_config\":null,\"validation_dataset_id\":null,\"run_source\":null,\"metrics\":null,\"enable_metric_confidence\":false,\"enable_ensembling\":true,\"enable_stack_ensembling\":true,\"ensemble_iterations\":15,\"enable_tf\":false,\"enable_subsampling\":false,\"subsample_seed\":null,\"enable_nimbusml\":false,\"enable_streaming\":false,\"force_streaming\":false,\"track_child_runs\":true,\"allowed_private_models\":[],\"label_column_name\":\"DEATH_EVENT\",\"weight_column_name\":null,\"cv_split_column_names\":null,\"enable_local_managed\":false,\"_local_managed_run_id\":null,\"cost_mode\":1,\"lag_length\":0,\"metric_operation\":\"maximize\",\"preprocess\":true}',\n  'DataPrepJsonString': '{\\\\\"training_data\\\\\": {\\\\\"datasetId\\\\\": \\\\\"9b2d5b8f-9113-48a7-95fc-c8e5736270ad\\\\\"}, \\\\\"datasets\\\\\": 0}',\n  'EnableSubsampling': 'False',\n  'runTemplate': 'AutoML',\n  'azureml.runsource': 'automl',\n  'display_task_type': 'classification',\n  'dependencies_versions': '{\"azureml-widgets\": \"1.38.0\", \"azureml-train\": \"1.38.0\", \"azureml-train-restclients-hyperdrive\": \"1.38.0\", \"azureml-train-core\": \"1.38.0\", \"azureml-train-automl-client\": \"1.38.0\", \"azureml-tensorboard\": \"1.38.0\", \"azureml-telemetry\": \"1.38.0\", \"azureml-sdk\": \"1.38.0\", \"azureml-samples\": \"0+unknown\", \"azureml-responsibleai\": \"1.38.0\", \"azureml-pipeline\": \"1.38.0\", \"azureml-pipeline-steps\": \"1.38.0\", \"azureml-pipeline-core\": \"1.38.0\", \"azureml-opendatasets\": \"1.38.0\", \"azureml-mlflow\": \"1.38.0\", \"azureml-interpret\": \"1.38.0\", \"azureml-inference-server-http\": \"0.4.2\", \"azureml-explain-model\": \"1.38.0\", \"azureml-defaults\": \"1.38.0\", \"azureml-dataset-runtime\": \"1.38.0\", \"azureml-dataprep\": \"2.26.0\", \"azureml-dataprep-rslex\": \"2.2.0\", \"azureml-dataprep-native\": \"38.0.0\", \"azureml-datadrift\": \"1.38.0\", \"azureml-core\": \"1.38.0\", \"azureml-contrib-services\": \"1.38.0\", \"azureml-contrib-server\": \"1.38.0\", \"azureml-contrib-reinforcementlearning\": \"1.38.0\", \"azureml-contrib-pipeline-steps\": \"1.38.0\", \"azureml-contrib-notebook\": \"1.38.0\", \"azureml-contrib-fairness\": \"1.38.0\", \"azureml-contrib-dataset\": \"1.38.0\", \"azureml-cli-common\": \"1.38.0\", \"azureml-automl-core\": \"1.38.0\", \"azureml-accel-models\": \"1.38.0\"}',\n  '_aml_system_scenario_identification': 'Remote.Parent',\n  'ClientType': 'SDK',\n  'environment_cpu_name': 'AzureML-AutoML',\n  'environment_cpu_label': 'py36',\n  'environment_gpu_name': 'AzureML-AutoML-GPU',\n  'environment_gpu_label': 'py36',\n  'root_attribution': 'automl',\n  'attribution': 'AutoML',\n  'Orchestrator': 'AutoML',\n  'CancelUri': 'https://southcentralus.api.azureml.ms/jasmine/v1.0/subscriptions/1b944a9b-fdae-4f97-aeb1-b7eea0beac53/resourceGroups/aml-quickstarts-190098/providers/Microsoft.MachineLearningServices/workspaces/quick-starts-ws-190098/experimentids/bf250683-e5c0-4e02-abb2-0be596699b18/cancel/AutoML_bf1ec23c-5e81-4353-acba-4ed7d22c1a01',\n  'ClientSdkVersion': '1.38.0',\n  'snapshotId': '00000000-0000-0000-0000-000000000000',\n  'SetupRunId': 'AutoML_bf1ec23c-5e81-4353-acba-4ed7d22c1a01_setup',\n  'SetupRunContainerId': 'dcid.AutoML_bf1ec23c-5e81-4353-acba-4ed7d22c1a01_setup',\n  'FeaturizationRunJsonPath': 'featurizer_container.json',\n  'FeaturizationRunId': 'AutoML_bf1ec23c-5e81-4353-acba-4ed7d22c1a01_featurize',\n  'ProblemInfoJsonString': '{\"dataset_num_categorical\": 0, \"is_sparse\": true, \"subsampling\": false, \"has_extra_col\": true, \"dataset_classes\": 2, \"dataset_features\": 54, \"dataset_samples\": 598, \"single_frequency_class_detected\": false}',\n  'ModelExplainRunId': 'AutoML_bf1ec23c-5e81-4353-acba-4ed7d22c1a01_ModelExplain'},\n 'inputDatasets': [{'dataset': {'id': '9b2d5b8f-9113-48a7-95fc-c8e5736270ad'}, 'consumptionDetails': {'type': 'RunInput', 'inputName': 'training_data', 'mechanism': 'Direct'}}],\n 'outputDatasets': [],\n 'logFiles': {},\n 'submittedBy': 'ODL_User 190098'}"
          },
          "metadata": {}
        }
      ],
      "execution_count": 13,
      "metadata": {
        "gather": {
          "logged": 1648383259670
        },
        "jupyter": {
          "outputs_hidden": false,
          "source_hidden": false
        },
        "nteract": {
          "transient": {
            "deleting": false
          }
        }
      }
    },
    {
      "cell_type": "markdown",
      "source": [
        "## Run Details\n",
        "\n",
        "OPTIONAL: Write about the different models trained and their performance. Why do you think some models did better than others?\n",
        "\n",
        "TODO: In the cell below, use the `RunDetails` widget to show the different experiments."
      ],
      "metadata": {}
    },
    {
      "cell_type": "code",
      "source": [
        "RunDetails(remote_run).show()"
      ],
      "outputs": [
        {
          "output_type": "display_data",
          "data": {
            "text/plain": "_AutoMLWidget(widget_settings={'childWidgetDisplay': 'popup', 'send_telemetry': False, 'log_level': 'INFO', 's…",
            "application/vnd.jupyter.widget-view+json": {
              "version_major": 2,
              "version_minor": 0,
              "model_id": "3e973c580b5947089fe4c205d89a29e4"
            }
          },
          "metadata": {}
        },
        {
          "output_type": "display_data",
          "data": {
            "application/aml.mini.widget.v1": "{\"status\": \"Completed\", \"workbench_run_details_uri\": \"https://ml.azure.com/runs/AutoML_bf1ec23c-5e81-4353-acba-4ed7d22c1a01?wsid=/subscriptions/1b944a9b-fdae-4f97-aeb1-b7eea0beac53/resourcegroups/aml-quickstarts-190098/workspaces/quick-starts-ws-190098&tid=660b3398-b80e-49d2-bc5b-ac1dc93b5254\", \"run_id\": \"AutoML_bf1ec23c-5e81-4353-acba-4ed7d22c1a01\", \"run_properties\": {\"run_id\": \"AutoML_bf1ec23c-5e81-4353-acba-4ed7d22c1a01\", \"created_utc\": \"2022-03-27T11:54:50.996468Z\", \"properties\": {\"num_iterations\": \"50\", \"training_type\": \"TrainFull\", \"acquisition_function\": \"EI\", \"primary_metric\": \"AUC_weighted\", \"train_split\": \"0\", \"acquisition_parameter\": \"0\", \"num_cross_validation\": \"3\", \"target\": \"hf-compute\", \"AMLSettingsJsonString\": \"{\\\"path\\\":null,\\\"name\\\":\\\"automl-heart-failure\\\",\\\"subscription_id\\\":\\\"1b944a9b-fdae-4f97-aeb1-b7eea0beac53\\\",\\\"resource_group\\\":\\\"aml-quickstarts-190098\\\",\\\"workspace_name\\\":\\\"quick-starts-ws-190098\\\",\\\"region\\\":\\\"southcentralus\\\",\\\"compute_target\\\":\\\"hf-compute\\\",\\\"spark_service\\\":null,\\\"azure_service\\\":\\\"remote\\\",\\\"many_models\\\":false,\\\"pipeline_fetch_max_batch_size\\\":1,\\\"enable_batch_run\\\":true,\\\"enable_run_restructure\\\":false,\\\"start_auxiliary_runs_before_parent_complete\\\":false,\\\"enable_code_generation\\\":false,\\\"iterations\\\":50,\\\"primary_metric\\\":\\\"AUC_weighted\\\",\\\"task_type\\\":\\\"classification\\\",\\\"positive_label\\\":null,\\\"data_script\\\":null,\\\"test_size\\\":0.0,\\\"test_include_predictions_only\\\":false,\\\"validation_size\\\":0.0,\\\"n_cross_validations\\\":3,\\\"y_min\\\":null,\\\"y_max\\\":null,\\\"num_classes\\\":null,\\\"featurization\\\":\\\"auto\\\",\\\"_ignore_package_version_incompatibilities\\\":false,\\\"is_timeseries\\\":false,\\\"max_cores_per_iteration\\\":1,\\\"max_concurrent_iterations\\\":3,\\\"iteration_timeout_minutes\\\":null,\\\"mem_in_mb\\\":null,\\\"enforce_time_on_windows\\\":false,\\\"experiment_timeout_minutes\\\":15,\\\"experiment_exit_score\\\":null,\\\"whitelist_models\\\":null,\\\"blacklist_algos\\\":[\\\"TensorFlowLinearClassifier\\\",\\\"TensorFlowDNN\\\"],\\\"supported_models\\\":[\\\"TensorFlowLinearClassifier\\\",\\\"AveragedPerceptronClassifier\\\",\\\"RandomForest\\\",\\\"MultinomialNaiveBayes\\\",\\\"LightGBM\\\",\\\"DecisionTree\\\",\\\"LinearSVM\\\",\\\"TabnetClassifier\\\",\\\"LogisticRegression\\\",\\\"KNN\\\",\\\"SGD\\\",\\\"SVM\\\",\\\"ExtremeRandomTrees\\\",\\\"GradientBoosting\\\",\\\"TensorFlowDNN\\\",\\\"BernoulliNaiveBayes\\\",\\\"XGBoostClassifier\\\"],\\\"private_models\\\":[],\\\"auto_blacklist\\\":true,\\\"blacklist_samples_reached\\\":false,\\\"exclude_nan_labels\\\":true,\\\"verbosity\\\":20,\\\"_debug_log\\\":\\\"azureml_automl.log\\\",\\\"show_warnings\\\":false,\\\"model_explainability\\\":true,\\\"service_url\\\":null,\\\"sdk_url\\\":null,\\\"sdk_packages\\\":null,\\\"enable_onnx_compatible_models\\\":false,\\\"enable_split_onnx_featurizer_estimator_models\\\":false,\\\"vm_type\\\":\\\"STANDARD_DS3_V2\\\",\\\"telemetry_verbosity\\\":20,\\\"send_telemetry\\\":true,\\\"enable_dnn\\\":false,\\\"scenario\\\":\\\"SDK-1.13.0\\\",\\\"environment_label\\\":null,\\\"save_mlflow\\\":false,\\\"enable_categorical_indicators\\\":false,\\\"force_text_dnn\\\":false,\\\"enable_feature_sweeping\\\":true,\\\"enable_early_stopping\\\":true,\\\"early_stopping_n_iters\\\":10,\\\"arguments\\\":null,\\\"dataset_id\\\":\\\"9b2d5b8f-9113-48a7-95fc-c8e5736270ad\\\",\\\"hyperdrive_config\\\":null,\\\"validation_dataset_id\\\":null,\\\"run_source\\\":null,\\\"metrics\\\":null,\\\"enable_metric_confidence\\\":false,\\\"enable_ensembling\\\":true,\\\"enable_stack_ensembling\\\":true,\\\"ensemble_iterations\\\":15,\\\"enable_tf\\\":false,\\\"enable_subsampling\\\":false,\\\"subsample_seed\\\":null,\\\"enable_nimbusml\\\":false,\\\"enable_streaming\\\":false,\\\"force_streaming\\\":false,\\\"track_child_runs\\\":true,\\\"allowed_private_models\\\":[],\\\"label_column_name\\\":\\\"DEATH_EVENT\\\",\\\"weight_column_name\\\":null,\\\"cv_split_column_names\\\":null,\\\"enable_local_managed\\\":false,\\\"_local_managed_run_id\\\":null,\\\"cost_mode\\\":1,\\\"lag_length\\\":0,\\\"metric_operation\\\":\\\"maximize\\\",\\\"preprocess\\\":true}\", \"DataPrepJsonString\": \"{\\\\\\\"training_data\\\\\\\": {\\\\\\\"datasetId\\\\\\\": \\\\\\\"9b2d5b8f-9113-48a7-95fc-c8e5736270ad\\\\\\\"}, \\\\\\\"datasets\\\\\\\": 0}\", \"EnableSubsampling\": \"False\", \"runTemplate\": \"AutoML\", \"azureml.runsource\": \"automl\", \"display_task_type\": \"classification\", \"dependencies_versions\": \"{\\\"azureml-widgets\\\": \\\"1.38.0\\\", \\\"azureml-train\\\": \\\"1.38.0\\\", \\\"azureml-train-restclients-hyperdrive\\\": \\\"1.38.0\\\", \\\"azureml-train-core\\\": \\\"1.38.0\\\", \\\"azureml-train-automl-client\\\": \\\"1.38.0\\\", \\\"azureml-tensorboard\\\": \\\"1.38.0\\\", \\\"azureml-telemetry\\\": \\\"1.38.0\\\", \\\"azureml-sdk\\\": \\\"1.38.0\\\", \\\"azureml-samples\\\": \\\"0+unknown\\\", \\\"azureml-responsibleai\\\": \\\"1.38.0\\\", \\\"azureml-pipeline\\\": \\\"1.38.0\\\", \\\"azureml-pipeline-steps\\\": \\\"1.38.0\\\", \\\"azureml-pipeline-core\\\": \\\"1.38.0\\\", \\\"azureml-opendatasets\\\": \\\"1.38.0\\\", \\\"azureml-mlflow\\\": \\\"1.38.0\\\", \\\"azureml-interpret\\\": \\\"1.38.0\\\", \\\"azureml-inference-server-http\\\": \\\"0.4.2\\\", \\\"azureml-explain-model\\\": \\\"1.38.0\\\", \\\"azureml-defaults\\\": \\\"1.38.0\\\", \\\"azureml-dataset-runtime\\\": \\\"1.38.0\\\", \\\"azureml-dataprep\\\": \\\"2.26.0\\\", \\\"azureml-dataprep-rslex\\\": \\\"2.2.0\\\", \\\"azureml-dataprep-native\\\": \\\"38.0.0\\\", \\\"azureml-datadrift\\\": \\\"1.38.0\\\", \\\"azureml-core\\\": \\\"1.38.0\\\", \\\"azureml-contrib-services\\\": \\\"1.38.0\\\", \\\"azureml-contrib-server\\\": \\\"1.38.0\\\", \\\"azureml-contrib-reinforcementlearning\\\": \\\"1.38.0\\\", \\\"azureml-contrib-pipeline-steps\\\": \\\"1.38.0\\\", \\\"azureml-contrib-notebook\\\": \\\"1.38.0\\\", \\\"azureml-contrib-fairness\\\": \\\"1.38.0\\\", \\\"azureml-contrib-dataset\\\": \\\"1.38.0\\\", \\\"azureml-cli-common\\\": \\\"1.38.0\\\", \\\"azureml-automl-core\\\": \\\"1.38.0\\\", \\\"azureml-accel-models\\\": \\\"1.38.0\\\"}\", \"_aml_system_scenario_identification\": \"Remote.Parent\", \"ClientType\": \"SDK\", \"environment_cpu_name\": \"AzureML-AutoML\", \"environment_cpu_label\": \"py36\", \"environment_gpu_name\": \"AzureML-AutoML-GPU\", \"environment_gpu_label\": \"py36\", \"root_attribution\": \"automl\", \"attribution\": \"AutoML\", \"Orchestrator\": \"AutoML\", \"CancelUri\": \"https://southcentralus.api.azureml.ms/jasmine/v1.0/subscriptions/1b944a9b-fdae-4f97-aeb1-b7eea0beac53/resourceGroups/aml-quickstarts-190098/providers/Microsoft.MachineLearningServices/workspaces/quick-starts-ws-190098/experimentids/bf250683-e5c0-4e02-abb2-0be596699b18/cancel/AutoML_bf1ec23c-5e81-4353-acba-4ed7d22c1a01\", \"ClientSdkVersion\": \"1.38.0\", \"snapshotId\": \"00000000-0000-0000-0000-000000000000\", \"SetupRunId\": \"AutoML_bf1ec23c-5e81-4353-acba-4ed7d22c1a01_setup\", \"SetupRunContainerId\": \"dcid.AutoML_bf1ec23c-5e81-4353-acba-4ed7d22c1a01_setup\", \"FeaturizationRunJsonPath\": \"featurizer_container.json\", \"FeaturizationRunId\": \"AutoML_bf1ec23c-5e81-4353-acba-4ed7d22c1a01_featurize\", \"ProblemInfoJsonString\": \"{\\\"dataset_num_categorical\\\": 0, \\\"is_sparse\\\": true, \\\"subsampling\\\": false, \\\"has_extra_col\\\": true, \\\"dataset_classes\\\": 2, \\\"dataset_features\\\": 54, \\\"dataset_samples\\\": 598, \\\"single_frequency_class_detected\\\": false}\", \"ModelExplainRunId\": \"AutoML_bf1ec23c-5e81-4353-acba-4ed7d22c1a01_ModelExplain\"}, \"tags\": {\"model_explain_run\": \"best_run\", \"_aml_system_automl_run_workspace_id\": \"d96ceb55-8630-468f-a1d4-11d4099cddc2\", \"_aml_system_azureml.automlComponent\": \"AutoML\", \"pipeline_id\": \"\", \"score\": \"\", \"predicted_cost\": \"\", \"fit_time\": \"\", \"training_percent\": \"\", \"iteration\": \"\", \"run_preprocessor\": \"\", \"run_algorithm\": \"\", \"dynamic_whitelisting_iterations\": \"<25>;<30>;\", \"_aml_system_azureml.automl_early_exit_message\": \"No scores improved over last 20 iterations, so experiment stopped early. This early stopping behavior can be disabled by setting enable_early_stopping = False in AutoMLConfig for notebook/python SDK runs.\", \"automl_best_child_run_id\": \"AutoML_bf1ec23c-5e81-4353-acba-4ed7d22c1a01_34\", \"model_explain_best_run_child_id\": \"AutoML_bf1ec23c-5e81-4353-acba-4ed7d22c1a01_34\"}, \"end_time_utc\": \"2022-03-27T12:09:59.111454Z\", \"status\": \"Completed\", \"log_files\": {}, \"log_groups\": [], \"run_duration\": \"0:15:08\", \"run_number\": \"1648382091\", \"run_queued_details\": {\"status\": \"Completed\", \"details\": null}}, \"child_runs\": [{\"run_id\": \"AutoML_bf1ec23c-5e81-4353-acba-4ed7d22c1a01_setup\", \"run_number\": 1648382103, \"metric\": null, \"status\": \"Completed\", \"run_type\": \"azureml.scriptrun\", \"training_percent\": null, \"start_time\": \"2022-03-27T11:58:27.92454Z\", \"end_time\": \"2022-03-27T11:58:31.542042Z\", \"created_time\": \"2022-03-27T11:55:03.441935Z\", \"created_time_dt\": \"2022-03-27T11:55:03.441935Z\", \"duration\": \"0:03:28\", \"iteration\": null, \"goal\": null, \"run_name\": \"Completed\", \"run_properties\": null}, {\"run_id\": \"AutoML_bf1ec23c-5e81-4353-acba-4ed7d22c1a01_featurize\", \"run_number\": 1648382311, \"metric\": null, \"status\": \"Completed\", \"run_type\": \"automl.featurization\", \"training_percent\": null, \"start_time\": \"2022-03-27T11:58:32.247877Z\", \"end_time\": \"2022-03-27T11:59:33.561599Z\", \"created_time\": \"2022-03-27T11:58:31.880149Z\", \"created_time_dt\": \"2022-03-27T11:58:31.880149Z\", \"duration\": \"0:01:01\", \"iteration\": null, \"goal\": null, \"run_name\": \"Completed\", \"run_properties\": null}, {\"run_id\": \"AutoML_bf1ec23c-5e81-4353-acba-4ed7d22c1a01_0\", \"run_number\": 1648382374, \"metric\": null, \"status\": \"Completed\", \"run_type\": null, \"training_percent\": \"100\", \"start_time\": \"2022-03-27T11:59:49.344017Z\", \"end_time\": \"2022-03-27T11:59:57.88148Z\", \"created_time\": \"2022-03-27T11:59:34.675734Z\", \"created_time_dt\": \"2022-03-27T11:59:34.675734Z\", \"duration\": \"0:00:23\", \"iteration\": \"0\", \"goal\": \"AUC_weighted_max\", \"run_name\": \"MaxAbsScaler, LightGBM\", \"run_properties\": \"copy=True\", \"primary_metric\": 0.9802099, \"best_metric\": 0.9802099}, {\"run_id\": \"AutoML_bf1ec23c-5e81-4353-acba-4ed7d22c1a01_1\", \"run_number\": 1648382375, \"metric\": null, \"status\": \"Completed\", \"run_type\": null, \"training_percent\": \"100\", \"start_time\": \"2022-03-27T11:59:58.079584Z\", \"end_time\": \"2022-03-27T12:00:06.236374Z\", \"created_time\": \"2022-03-27T11:59:35.030452Z\", \"created_time_dt\": \"2022-03-27T11:59:35.030452Z\", \"duration\": \"0:00:31\", \"iteration\": \"1\", \"goal\": \"AUC_weighted_max\", \"run_name\": \"MaxAbsScaler, XGBoostClassifier\", \"run_properties\": \"copy=True\", \"primary_metric\": 0.97588471, \"best_metric\": 0.9802099}, {\"run_id\": \"AutoML_bf1ec23c-5e81-4353-acba-4ed7d22c1a01_4\", \"run_number\": 1648382376, \"metric\": null, \"status\": \"Completed\", \"run_type\": null, \"training_percent\": \"100\", \"start_time\": \"2022-03-27T12:00:22.828689Z\", \"end_time\": \"2022-03-27T12:00:30.684261Z\", \"created_time\": \"2022-03-27T11:59:36.233949Z\", \"created_time_dt\": \"2022-03-27T11:59:36.233949Z\", \"duration\": \"0:00:54\", \"iteration\": \"4\", \"goal\": \"AUC_weighted_max\", \"run_name\": \"StandardScalerWrapper, LightGBM\", \"run_properties\": \"\\n    copy=True,\\n    with_mean=False,\\n    with_std=True\\n\", \"primary_metric\": 0.93153985, \"best_metric\": 0.9802099}, {\"run_id\": \"AutoML_bf1ec23c-5e81-4353-acba-4ed7d22c1a01_worker_0\", \"run_number\": 1648382377, \"metric\": null, \"status\": \"Completed\", \"run_type\": \"azureml.scriptrun\", \"training_percent\": null, \"start_time\": \"2022-03-27T12:00:49.42455Z\", \"end_time\": \"2022-03-27T12:00:53.077765Z\", \"created_time\": \"2022-03-27T11:59:37.115712Z\", \"created_time_dt\": \"2022-03-27T11:59:37.115712Z\", \"duration\": \"0:01:15\", \"iteration\": null, \"goal\": null, \"run_name\": \"Completed\", \"run_properties\": null}, {\"run_id\": \"AutoML_bf1ec23c-5e81-4353-acba-4ed7d22c1a01_10\", \"run_number\": 1648382378, \"metric\": null, \"status\": \"Completed\", \"run_type\": null, \"training_percent\": \"100\", \"start_time\": \"2022-03-27T12:01:30.121334Z\", \"end_time\": \"2022-03-27T12:01:37.919428Z\", \"created_time\": \"2022-03-27T11:59:38.305926Z\", \"created_time_dt\": \"2022-03-27T11:59:38.305926Z\", \"duration\": \"0:01:59\", \"iteration\": \"10\", \"goal\": \"AUC_weighted_max\", \"run_name\": \"SparseNormalizer, LightGBM\", \"run_properties\": \"copy=True, norm='l1'\", \"primary_metric\": 0.92507348, \"best_metric\": 0.9802099}, {\"run_id\": \"AutoML_bf1ec23c-5e81-4353-acba-4ed7d22c1a01_worker_1\", \"run_number\": 1648382379, \"metric\": null, \"status\": \"Completed\", \"run_type\": \"azureml.scriptrun\", \"training_percent\": null, \"start_time\": \"2022-03-27T12:01:43.806013Z\", \"end_time\": \"2022-03-27T12:02:10.455884Z\", \"created_time\": \"2022-03-27T11:59:39.517952Z\", \"created_time_dt\": \"2022-03-27T11:59:39.517952Z\", \"duration\": \"0:02:30\", \"iteration\": null, \"goal\": null, \"run_name\": \"Completed\", \"run_properties\": null}, {\"run_id\": \"AutoML_bf1ec23c-5e81-4353-acba-4ed7d22c1a01_16\", \"run_number\": 1648382380, \"metric\": null, \"status\": \"Completed\", \"run_type\": null, \"training_percent\": \"100\", \"start_time\": \"2022-03-27T12:02:45.527931Z\", \"end_time\": \"2022-03-27T12:02:53.481375Z\", \"created_time\": \"2022-03-27T11:59:40.332356Z\", \"created_time_dt\": \"2022-03-27T11:59:40.332356Z\", \"duration\": \"0:03:13\", \"iteration\": \"16\", \"goal\": \"AUC_weighted_max\", \"run_name\": \"MaxAbsScaler, LogisticRegression\", \"run_properties\": \"copy=True\", \"primary_metric\": 0.91111932, \"best_metric\": 0.9802099}, {\"run_id\": \"AutoML_bf1ec23c-5e81-4353-acba-4ed7d22c1a01_worker_2\", \"run_number\": 1648382381, \"metric\": null, \"status\": \"Completed\", \"run_type\": \"azureml.scriptrun\", \"training_percent\": null, \"start_time\": \"2022-03-27T12:01:44.595625Z\", \"end_time\": \"2022-03-27T12:03:25.132919Z\", \"created_time\": \"2022-03-27T11:59:41.579594Z\", \"created_time_dt\": \"2022-03-27T11:59:41.579594Z\", \"duration\": \"0:03:43\", \"iteration\": null, \"goal\": null, \"run_name\": \"Completed\", \"run_properties\": null}, {\"run_id\": \"AutoML_bf1ec23c-5e81-4353-acba-4ed7d22c1a01_20\", \"run_number\": 1648382585, \"metric\": null, \"status\": \"Completed\", \"run_type\": \"azureml.scriptrun\", \"training_percent\": \"100\", \"start_time\": \"2022-03-27T12:03:26.702729Z\", \"end_time\": \"2022-03-27T12:03:30.339648Z\", \"created_time\": \"2022-03-27T12:03:05.564194Z\", \"created_time_dt\": \"2022-03-27T12:03:05.564194Z\", \"duration\": \"0:00:24\", \"iteration\": \"20\", \"goal\": \"AUC_weighted_max\", \"run_name\": \"MaxAbsScaler, LogisticRegression\", \"run_properties\": \"copy=True\", \"primary_metric\": 0.90962766, \"best_metric\": 0.9802099}, {\"run_id\": \"AutoML_bf1ec23c-5e81-4353-acba-4ed7d22c1a01_22\", \"run_number\": 1648382612, \"metric\": null, \"status\": \"Completed\", \"run_type\": \"azureml.scriptrun\", \"training_percent\": \"100\", \"start_time\": \"2022-03-27T12:04:02.184504Z\", \"end_time\": \"2022-03-27T12:04:05.782176Z\", \"created_time\": \"2022-03-27T12:03:32.391868Z\", \"created_time_dt\": \"2022-03-27T12:03:32.391868Z\", \"duration\": \"0:00:33\", \"iteration\": \"22\", \"goal\": \"AUC_weighted_max\", \"run_name\": \"StandardScalerWrapper, XGBoostClassifier\", \"run_properties\": \"\\n    copy=True,\\n    with_mean=False,\\n    with_std=False\\n\", \"primary_metric\": 0.97292212, \"best_metric\": 0.9802099}, {\"run_id\": \"AutoML_bf1ec23c-5e81-4353-acba-4ed7d22c1a01_24\", \"run_number\": 1648382647, \"metric\": null, \"status\": \"Completed\", \"run_type\": \"azureml.scriptrun\", \"training_percent\": \"100\", \"start_time\": \"2022-03-27T12:05:36.336725Z\", \"end_time\": \"2022-03-27T12:05:39.992007Z\", \"created_time\": \"2022-03-27T12:04:07.503735Z\", \"created_time_dt\": \"2022-03-27T12:04:07.503735Z\", \"duration\": \"0:01:32\", \"iteration\": \"24\", \"goal\": \"AUC_weighted_max\", \"run_name\": \"StandardScalerWrapper, LightGBM\", \"run_properties\": \"\\n    copy=True,\\n    with_mean=False,\\n    with_std=False\\n\", \"primary_metric\": 0.92343988, \"best_metric\": 0.9802099}, {\"run_id\": \"AutoML_bf1ec23c-5e81-4353-acba-4ed7d22c1a01_25\", \"run_number\": 1648382650, \"metric\": null, \"status\": \"Completed\", \"run_type\": \"azureml.scriptrun\", \"training_percent\": \"100\", \"start_time\": \"2022-03-27T12:05:36.554986Z\", \"end_time\": \"2022-03-27T12:05:40.144201Z\", \"created_time\": \"2022-03-27T12:04:10.771566Z\", \"created_time_dt\": \"2022-03-27T12:04:10.771566Z\", \"duration\": \"0:01:29\", \"iteration\": \"25\", \"goal\": \"AUC_weighted_max\", \"run_name\": \"StandardScalerWrapper, RandomForest\", \"run_properties\": \"\\n    copy=True,\\n    with_mean=False,\\n    with_std=False\\n\", \"primary_metric\": 0.75204349, \"best_metric\": 0.9802099}, {\"run_id\": \"AutoML_bf1ec23c-5e81-4353-acba-4ed7d22c1a01_26\", \"run_number\": 1648382666, \"metric\": null, \"status\": \"Completed\", \"run_type\": \"azureml.scriptrun\", \"training_percent\": \"100\", \"start_time\": \"2022-03-27T12:06:05.937968Z\", \"end_time\": \"2022-03-27T12:06:09.993832Z\", \"created_time\": \"2022-03-27T12:04:26.195087Z\", \"created_time_dt\": \"2022-03-27T12:04:26.195087Z\", \"duration\": \"0:01:43\", \"iteration\": \"26\", \"goal\": \"AUC_weighted_max\", \"run_name\": \"StandardScalerWrapper, LogisticRegression\", \"run_properties\": \"\\n    copy=True,\\n    with_mean=False,\\n    with_std=True\\n\", \"primary_metric\": 0.91104976, \"best_metric\": 0.9802099}, {\"run_id\": \"AutoML_bf1ec23c-5e81-4353-acba-4ed7d22c1a01_28\", \"run_number\": 1648382741, \"metric\": null, \"status\": \"Completed\", \"run_type\": \"azureml.scriptrun\", \"training_percent\": \"100\", \"start_time\": \"2022-03-27T12:06:05.896951Z\", \"end_time\": \"2022-03-27T12:06:09.627936Z\", \"created_time\": \"2022-03-27T12:05:41.756717Z\", \"created_time_dt\": \"2022-03-27T12:05:41.756717Z\", \"duration\": \"0:00:27\", \"iteration\": \"28\", \"goal\": \"AUC_weighted_max\", \"run_name\": \"StandardScalerWrapper, LightGBM\", \"run_properties\": \"\\n    copy=True,\\n    with_mean=False,\\n    with_std=False\\n\", \"primary_metric\": 0.95948913, \"best_metric\": 0.9802099}, {\"run_id\": \"AutoML_bf1ec23c-5e81-4353-acba-4ed7d22c1a01_29\", \"run_number\": 1648382771, \"metric\": null, \"status\": \"Completed\", \"run_type\": \"azureml.scriptrun\", \"training_percent\": \"100\", \"start_time\": \"2022-03-27T12:07:33.134754Z\", \"end_time\": \"2022-03-27T12:07:36.754235Z\", \"created_time\": \"2022-03-27T12:06:11.169471Z\", \"created_time_dt\": \"2022-03-27T12:06:11.169471Z\", \"duration\": \"0:01:25\", \"iteration\": \"29\", \"goal\": \"AUC_weighted_max\", \"run_name\": \"StandardScalerWrapper, XGBoostClassifier\", \"run_properties\": \"\\n    copy=True,\\n    with_mean=False,\\n    with_std=False\\n\", \"primary_metric\": 0.97710154, \"best_metric\": 0.9802099}, {\"run_id\": \"AutoML_bf1ec23c-5e81-4353-acba-4ed7d22c1a01_30\", \"run_number\": 1648382774, \"metric\": null, \"status\": \"Completed\", \"run_type\": \"azureml.scriptrun\", \"training_percent\": \"100\", \"start_time\": \"2022-03-27T12:08:08.615889Z\", \"end_time\": \"2022-03-27T12:08:12.226086Z\", \"created_time\": \"2022-03-27T12:06:14.246232Z\", \"created_time_dt\": \"2022-03-27T12:06:14.246232Z\", \"duration\": \"0:01:57\", \"iteration\": \"30\", \"goal\": \"AUC_weighted_max\", \"run_name\": \"SparseNormalizer, RandomForest\", \"run_properties\": \"copy=True, norm='max'\", \"primary_metric\": 0.82016077, \"best_metric\": 0.9802099}, {\"run_id\": \"AutoML_bf1ec23c-5e81-4353-acba-4ed7d22c1a01_31\", \"run_number\": 1648382858, \"metric\": null, \"status\": \"Completed\", \"run_type\": \"azureml.scriptrun\", \"training_percent\": \"100\", \"start_time\": \"2022-03-27T12:08:07.931585Z\", \"end_time\": \"2022-03-27T12:08:11.542973Z\", \"created_time\": \"2022-03-27T12:07:38.547583Z\", \"created_time_dt\": \"2022-03-27T12:07:38.547583Z\", \"duration\": \"0:00:32\", \"iteration\": \"31\", \"goal\": \"AUC_weighted_max\", \"run_name\": \"StandardScalerWrapper, XGBoostClassifier\", \"run_properties\": \"\\n    copy=True,\\n    with_mean=False,\\n    with_std=False\\n\", \"primary_metric\": 0.9814326, \"best_metric\": 0.9814326}, {\"run_id\": \"AutoML_bf1ec23c-5e81-4353-acba-4ed7d22c1a01_32\", \"run_number\": 1648382860, \"metric\": null, \"status\": \"Canceled\", \"run_type\": \"azureml.scriptrun\", \"training_percent\": \"100\", \"start_time\": \"2022-03-27T12:08:14.719975Z\", \"end_time\": \"2022-03-27T12:08:15.090139Z\", \"created_time\": \"2022-03-27T12:07:40.743293Z\", \"created_time_dt\": \"2022-03-27T12:07:40.743293Z\", \"duration\": \"0:00:34\", \"iteration\": \"32\", \"goal\": null, \"run_name\": \"Canceled\", \"run_properties\": null}, {\"run_id\": \"AutoML_bf1ec23c-5e81-4353-acba-4ed7d22c1a01_33\", \"run_number\": 1648382893, \"metric\": null, \"status\": \"Canceled\", \"run_type\": \"azureml.scriptrun\", \"training_percent\": \"100\", \"start_time\": \"2022-03-27T12:08:14.591776Z\", \"end_time\": \"2022-03-27T12:08:15.734769Z\", \"created_time\": \"2022-03-27T12:08:13.350451Z\", \"created_time_dt\": \"2022-03-27T12:08:13.350451Z\", \"duration\": \"0:00:02\", \"iteration\": \"33\", \"goal\": null, \"run_name\": \"Canceled\", \"run_properties\": null}, {\"run_id\": \"AutoML_bf1ec23c-5e81-4353-acba-4ed7d22c1a01_34\", \"run_number\": 1648382896, \"metric\": null, \"status\": \"Completed\", \"run_type\": \"azureml.scriptrun\", \"training_percent\": \"100\", \"start_time\": \"2022-03-27T12:09:53.269802Z\", \"end_time\": \"2022-03-27T12:09:56.907184Z\", \"created_time\": \"2022-03-27T12:08:16.324291Z\", \"created_time_dt\": \"2022-03-27T12:08:16.324291Z\", \"duration\": \"0:01:40\", \"iteration\": \"34\", \"goal\": \"AUC_weighted_max\", \"run_name\": \"VotingEnsemble\", \"run_properties\": \"\\n    estimators=[('14', Pipeline(\\n        memory=None,\\n        steps=[('standardscalerwrapper', StandardScalerWrapper(\\n            copy=True,\\n            with_mean=False,\\n            with_std=False\\n        \", \"primary_metric\": 0.9899111, \"best_metric\": 0.9899111}], \"children_metrics\": {\"categories\": [0], \"series\": {\"recall_score_macro\": [{\"categories\": [\"0\", \"1\", \"4\", \"10\", \"16\", \"20\", \"22\", \"24\", \"25\", \"26\", \"28\", \"29\", \"30\", \"31\", \"34\"], \"mode\": \"markers\", \"name\": \"recall_score_macro\", \"stepped\": false, \"type\": \"scatter\", \"data\": [0.9384528519686084, 0.9304259738201166, 0.7802420823783329, 0.823106650482373, 0.8255633868948138, 0.8027579006268818, 0.8839637478738572, 0.6596096137557801, 0.5, 0.8015141195323544, 0.8811709288761019, 0.9098126410994466, 0.6304326619644313, 0.9058337980904708, 0.9528447184157903]}, {\"categories\": [\"0\", \"1\", \"4\", \"10\", \"16\", \"20\", \"22\", \"24\", \"25\", \"26\", \"28\", \"29\", \"30\", \"31\", \"34\"], \"mode\": \"lines\", \"name\": \"recall_score_macro_max\", \"stepped\": true, \"type\": \"scatter\", \"data\": [0.9384528519686084, 0.9384528519686084, 0.9384528519686084, 0.9384528519686084, 0.9384528519686084, 0.9384528519686084, 0.9384528519686084, 0.9384528519686084, 0.9384528519686084, 0.9384528519686084, 0.9384528519686084, 0.9384528519686084, 0.9384528519686084, 0.9384528519686084, 0.9528447184157903]}], \"log_loss\": [{\"categories\": [\"0\", \"1\", \"4\", \"10\", \"16\", \"20\", \"22\", \"24\", \"25\", \"26\", \"28\", \"29\", \"30\", \"31\", \"34\"], \"mode\": \"markers\", \"name\": \"log_loss\", \"stepped\": false, \"type\": \"scatter\", \"data\": [0.1649964056955616, 0.20311507756417801, 0.38325422429508754, 0.35741891146662624, 0.4052385441701552, 0.3757268702410736, 0.22171038601430973, 0.47910187403227006, 0.6226301359110368, 0.36456319325697367, 0.25034379471281104, 0.20393564026458197, 0.5346112451850918, 0.19130285970557062, 0.17661062409477676]}, {\"categories\": [\"0\", \"1\", \"4\", \"10\", \"16\", \"20\", \"22\", \"24\", \"25\", \"26\", \"28\", \"29\", \"30\", \"31\", \"34\"], \"mode\": \"lines\", \"name\": \"log_loss_min\", \"stepped\": true, \"type\": \"scatter\", \"data\": [0.1649964056955616, 0.1649964056955616, 0.1649964056955616, 0.1649964056955616, 0.1649964056955616, 0.1649964056955616, 0.1649964056955616, 0.1649964056955616, 0.1649964056955616, 0.1649964056955616, 0.1649964056955616, 0.1649964056955616, 0.1649964056955616, 0.1649964056955616, 0.1649964056955616]}], \"matthews_correlation\": [{\"categories\": [\"0\", \"1\", \"4\", \"10\", \"16\", \"20\", \"22\", \"24\", \"25\", \"26\", \"28\", \"29\", \"30\", \"31\", \"34\"], \"mode\": \"markers\", \"name\": \"matthews_correlation\", \"stepped\": false, \"type\": \"scatter\", \"data\": [0.8770623945429442, 0.875477703577508, 0.618894049199939, 0.6884523048301568, 0.6302215725880579, 0.6172517652219424, 0.7851743258081979, 0.4647963111982685, 0.0, 0.6140000943587732, 0.768366147702379, 0.8326628810085418, 0.30333513255850136, 0.829139186591747, 0.9065485189384197]}, {\"categories\": [\"0\", \"1\", \"4\", \"10\", \"16\", \"20\", \"22\", \"24\", \"25\", \"26\", \"28\", \"29\", \"30\", \"31\", \"34\"], \"mode\": \"lines\", \"name\": \"matthews_correlation_max\", \"stepped\": true, \"type\": \"scatter\", \"data\": [0.8770623945429442, 0.8770623945429442, 0.8770623945429442, 0.8770623945429442, 0.8770623945429442, 0.8770623945429442, 0.8770623945429442, 0.8770623945429442, 0.8770623945429442, 0.8770623945429442, 0.8770623945429442, 0.8770623945429442, 0.8770623945429442, 0.8770623945429442, 0.9065485189384197]}], \"average_precision_score_weighted\": [{\"categories\": [\"0\", \"1\", \"4\", \"10\", \"16\", \"20\", \"22\", \"24\", \"25\", \"26\", \"28\", \"29\", \"30\", \"31\", \"34\"], \"mode\": \"markers\", \"name\": \"average_precision_score_weighted\", \"stepped\": false, \"type\": \"scatter\", \"data\": [0.9763060986373243, 0.9725773681630931, 0.9336167062753414, 0.9308436821771129, 0.9174115366978738, 0.918968926634138, 0.9726370931052681, 0.9308403484198854, 0.7310748690463234, 0.9214512547412866, 0.9594073921139389, 0.9728919506786621, 0.8326075731196069, 0.9783631640948572, 0.9878255687168603]}, {\"categories\": [\"0\", \"1\", \"4\", \"10\", \"16\", \"20\", \"22\", \"24\", \"25\", \"26\", \"28\", \"29\", \"30\", \"31\", \"34\"], \"mode\": \"lines\", \"name\": \"average_precision_score_weighted_max\", \"stepped\": true, \"type\": \"scatter\", \"data\": [0.9763060986373243, 0.9763060986373243, 0.9763060986373243, 0.9763060986373243, 0.9763060986373243, 0.9763060986373243, 0.9763060986373243, 0.9763060986373243, 0.9763060986373243, 0.9763060986373243, 0.9763060986373243, 0.9763060986373243, 0.9763060986373243, 0.9783631640948572, 0.9878255687168603]}], \"AUC_weighted\": [{\"categories\": [\"0\", \"1\", \"4\", \"10\", \"16\", \"20\", \"22\", \"24\", \"25\", \"26\", \"28\", \"29\", \"30\", \"31\", \"34\"], \"mode\": \"markers\", \"name\": \"AUC_weighted\", \"stepped\": false, \"type\": \"scatter\", \"data\": [0.9802099042111787, 0.9758847091495513, 0.9315398486512687, 0.9250734771922912, 0.9111193198698269, 0.9096276577514674, 0.9729221212984114, 0.923439879861711, 0.7520434886398372, 0.9110497557342402, 0.9594891311263996, 0.9771015387343601, 0.8201607724864464, 0.9814326007546509, 0.9899110970702777]}, {\"categories\": [\"0\", \"1\", \"4\", \"10\", \"16\", \"20\", \"22\", \"24\", \"25\", \"26\", \"28\", \"29\", \"30\", \"31\", \"34\"], \"mode\": \"lines\", \"name\": \"AUC_weighted_max\", \"stepped\": true, \"type\": \"scatter\", \"data\": [0.9802099042111787, 0.9802099042111787, 0.9802099042111787, 0.9802099042111787, 0.9802099042111787, 0.9802099042111787, 0.9802099042111787, 0.9802099042111787, 0.9802099042111787, 0.9802099042111787, 0.9802099042111787, 0.9802099042111787, 0.9802099042111787, 0.9814326007546509, 0.9899110970702777]}], \"precision_score_macro\": [{\"categories\": [\"0\", \"1\", \"4\", \"10\", \"16\", \"20\", \"22\", \"24\", \"25\", \"26\", \"28\", \"29\", \"30\", \"31\", \"34\"], \"mode\": \"markers\", \"name\": \"precision_score_macro\", \"stepped\": false, \"type\": \"scatter\", \"data\": [0.9386735988473696, 0.9452491294566677, 0.8430492145263445, 0.8675432582212244, 0.8051170914225666, 0.8151500063546971, 0.9015854650774853, 0.8433937412945799, 0.33943886097152426, 0.8131493975550681, 0.887361524872914, 0.9230589742660958, 0.6231339188080881, 0.9238067759426483, 0.953823966463235]}, {\"categories\": [\"0\", \"1\", \"4\", \"10\", \"16\", \"20\", \"22\", \"24\", \"25\", \"26\", \"28\", \"29\", \"30\", \"31\", \"34\"], \"mode\": \"lines\", \"name\": \"precision_score_macro_max\", \"stepped\": true, \"type\": \"scatter\", \"data\": [0.9386735988473696, 0.9452491294566677, 0.9452491294566677, 0.9452491294566677, 0.9452491294566677, 0.9452491294566677, 0.9452491294566677, 0.9452491294566677, 0.9452491294566677, 0.9452491294566677, 0.9452491294566677, 0.9452491294566677, 0.9452491294566677, 0.9452491294566677, 0.953823966463235]}], \"precision_score_weighted\": [{\"categories\": [\"0\", \"1\", \"4\", \"10\", \"16\", \"20\", \"22\", \"24\", \"25\", \"26\", \"28\", \"29\", \"30\", \"31\", \"34\"], \"mode\": \"markers\", \"name\": \"precision_score_weighted\", \"stepped\": false, \"type\": \"scatter\", \"data\": [0.9471636829939701, 0.9473811283390899, 0.8444290342733721, 0.8703423690515931, 0.8412427188864284, 0.8356273989707361, 0.9090648906877085, 0.8147074876326433, 0.46142659781318657, 0.8342268940876538, 0.9006164566572403, 0.9289948152115527, 0.66758011700561, 0.9282477328913369, 0.9607936122419382]}, {\"categories\": [\"0\", \"1\", \"4\", \"10\", \"16\", \"20\", \"22\", \"24\", \"25\", \"26\", \"28\", \"29\", \"30\", \"31\", \"34\"], \"mode\": \"lines\", \"name\": \"precision_score_weighted_max\", \"stepped\": true, \"type\": \"scatter\", \"data\": [0.9471636829939701, 0.9473811283390899, 0.9473811283390899, 0.9473811283390899, 0.9473811283390899, 0.9473811283390899, 0.9473811283390899, 0.9473811283390899, 0.9473811283390899, 0.9473811283390899, 0.9473811283390899, 0.9473811283390899, 0.9473811283390899, 0.9473811283390899, 0.9607936122419382]}], \"f1_score_micro\": [{\"categories\": [\"0\", \"1\", \"4\", \"10\", \"16\", \"20\", \"22\", \"24\", \"25\", \"26\", \"28\", \"29\", \"30\", \"31\", \"34\"], \"mode\": \"markers\", \"name\": \"f1_score_micro\", \"stepped\": false, \"type\": \"scatter\", \"data\": [0.946499162479062, 0.946532663316583, 0.8361557788944723, 0.8662311557788945, 0.8311222780569514, 0.8344556113902848, 0.9080988274706868, 0.7741792294807371, 0.6788777219430487, 0.832780569514238, 0.8996984924623116, 0.928140703517588, 0.744070351758794, 0.9264740368509212, 0.9599162479061977]}, {\"categories\": [\"0\", \"1\", \"4\", \"10\", \"16\", \"20\", \"22\", \"24\", \"25\", \"26\", \"28\", \"29\", \"30\", \"31\", \"34\"], \"mode\": \"lines\", \"name\": \"f1_score_micro_max\", \"stepped\": true, \"type\": \"scatter\", \"data\": [0.946499162479062, 0.946532663316583, 0.946532663316583, 0.946532663316583, 0.946532663316583, 0.946532663316583, 0.946532663316583, 0.946532663316583, 0.946532663316583, 0.946532663316583, 0.946532663316583, 0.946532663316583, 0.946532663316583, 0.946532663316583, 0.9599162479061977]}], \"average_precision_score_macro\": [{\"categories\": [\"0\", \"1\", \"4\", \"10\", \"16\", \"20\", \"22\", \"24\", \"25\", \"26\", \"28\", \"29\", \"30\", \"31\", \"34\"], \"mode\": \"markers\", \"name\": \"average_precision_score_macro\", \"stepped\": false, \"type\": \"scatter\", \"data\": [0.9666465740673322, 0.9612716151329807, 0.9121024844777755, 0.9104319176607015, 0.8946522252824957, 0.8992108740453073, 0.9620536928868121, 0.9116043685548555, 0.6809453368254661, 0.902330131999216, 0.9452453404527194, 0.9605149204883379, 0.7960679332666308, 0.968467725954259, 0.981880481677751]}, {\"categories\": [\"0\", \"1\", \"4\", \"10\", \"16\", \"20\", \"22\", \"24\", \"25\", \"26\", \"28\", \"29\", \"30\", \"31\", \"34\"], \"mode\": \"lines\", \"name\": \"average_precision_score_macro_max\", \"stepped\": true, \"type\": \"scatter\", \"data\": [0.9666465740673322, 0.9666465740673322, 0.9666465740673322, 0.9666465740673322, 0.9666465740673322, 0.9666465740673322, 0.9666465740673322, 0.9666465740673322, 0.9666465740673322, 0.9666465740673322, 0.9666465740673322, 0.9666465740673322, 0.9666465740673322, 0.968467725954259, 0.981880481677751]}], \"f1_score_weighted\": [{\"categories\": [\"0\", \"1\", \"4\", \"10\", \"16\", \"20\", \"22\", \"24\", \"25\", \"26\", \"28\", \"29\", \"30\", \"31\", \"34\"], \"mode\": \"markers\", \"name\": \"f1_score_weighted\", \"stepped\": false, \"type\": \"scatter\", \"data\": [0.9465484061343957, 0.9462061784612201, 0.8288394739647712, 0.8621202302069487, 0.8338977763733094, 0.8326072875760451, 0.9072145026635369, 0.7343421520832568, 0.5492595379657792, 0.8310321813610563, 0.8995167488985457, 0.9277706549150714, 0.6894431607225083, 0.9256424245573784, 0.9598505284759061]}, {\"categories\": [\"0\", \"1\", \"4\", \"10\", \"16\", \"20\", \"22\", \"24\", \"25\", \"26\", \"28\", \"29\", \"30\", \"31\", \"34\"], \"mode\": \"lines\", \"name\": \"f1_score_weighted_max\", \"stepped\": true, \"type\": \"scatter\", \"data\": [0.9465484061343957, 0.9465484061343957, 0.9465484061343957, 0.9465484061343957, 0.9465484061343957, 0.9465484061343957, 0.9465484061343957, 0.9465484061343957, 0.9465484061343957, 0.9465484061343957, 0.9465484061343957, 0.9465484061343957, 0.9465484061343957, 0.9465484061343957, 0.9598505284759061]}], \"accuracy\": [{\"categories\": [\"0\", \"1\", \"4\", \"10\", \"16\", \"20\", \"22\", \"24\", \"25\", \"26\", \"28\", \"29\", \"30\", \"31\", \"34\"], \"mode\": \"markers\", \"name\": \"accuracy\", \"stepped\": false, \"type\": \"scatter\", \"data\": [0.946499162479062, 0.946532663316583, 0.8361557788944723, 0.8662311557788945, 0.8311222780569514, 0.8344556113902848, 0.9080988274706868, 0.7741792294807371, 0.6788777219430485, 0.832780569514238, 0.8996984924623116, 0.928140703517588, 0.744070351758794, 0.9264740368509212, 0.9599162479061977]}, {\"categories\": [\"0\", \"1\", \"4\", \"10\", \"16\", \"20\", \"22\", \"24\", \"25\", \"26\", \"28\", \"29\", \"30\", \"31\", \"34\"], \"mode\": \"lines\", \"name\": \"accuracy_max\", \"stepped\": true, \"type\": \"scatter\", \"data\": [0.946499162479062, 0.946532663316583, 0.946532663316583, 0.946532663316583, 0.946532663316583, 0.946532663316583, 0.946532663316583, 0.946532663316583, 0.946532663316583, 0.946532663316583, 0.946532663316583, 0.946532663316583, 0.946532663316583, 0.946532663316583, 0.9599162479061977]}], \"recall_score_micro\": [{\"categories\": [\"0\", \"1\", \"4\", \"10\", \"16\", \"20\", \"22\", \"24\", \"25\", \"26\", \"28\", \"29\", \"30\", \"31\", \"34\"], \"mode\": \"markers\", \"name\": \"recall_score_micro\", \"stepped\": false, \"type\": \"scatter\", \"data\": [0.946499162479062, 0.946532663316583, 0.8361557788944723, 0.8662311557788945, 0.8311222780569514, 0.8344556113902848, 0.9080988274706868, 0.7741792294807371, 0.6788777219430485, 0.832780569514238, 0.8996984924623116, 0.928140703517588, 0.744070351758794, 0.9264740368509212, 0.9599162479061977]}, {\"categories\": [\"0\", \"1\", \"4\", \"10\", \"16\", \"20\", \"22\", \"24\", \"25\", \"26\", \"28\", \"29\", \"30\", \"31\", \"34\"], \"mode\": \"lines\", \"name\": \"recall_score_micro_max\", \"stepped\": true, \"type\": \"scatter\", \"data\": [0.946499162479062, 0.946532663316583, 0.946532663316583, 0.946532663316583, 0.946532663316583, 0.946532663316583, 0.946532663316583, 0.946532663316583, 0.946532663316583, 0.946532663316583, 0.946532663316583, 0.946532663316583, 0.946532663316583, 0.946532663316583, 0.9599162479061977]}], \"norm_macro_recall\": [{\"categories\": [\"0\", \"1\", \"4\", \"10\", \"16\", \"20\", \"22\", \"24\", \"25\", \"26\", \"28\", \"29\", \"30\", \"31\", \"34\"], \"mode\": \"markers\", \"name\": \"norm_macro_recall\", \"stepped\": false, \"type\": \"scatter\", \"data\": [0.8769057039372167, 0.8608519476402331, 0.5604841647566657, 0.6462133009647458, 0.6511267737896277, 0.6055158012537637, 0.7679274957477144, 0.3192192275115602, 0.0, 0.6030282390647089, 0.7623418577522038, 0.8196252821988934, 0.2608653239288625, 0.8116675961809418, 0.9056894368315808]}, {\"categories\": [\"0\", \"1\", \"4\", \"10\", \"16\", \"20\", \"22\", \"24\", \"25\", \"26\", \"28\", \"29\", \"30\", \"31\", \"34\"], \"mode\": \"lines\", \"name\": \"norm_macro_recall_max\", \"stepped\": true, \"type\": \"scatter\", \"data\": [0.8769057039372167, 0.8769057039372167, 0.8769057039372167, 0.8769057039372167, 0.8769057039372167, 0.8769057039372167, 0.8769057039372167, 0.8769057039372167, 0.8769057039372167, 0.8769057039372167, 0.8769057039372167, 0.8769057039372167, 0.8769057039372167, 0.8769057039372167, 0.9056894368315808]}], \"weighted_accuracy\": [{\"categories\": [\"0\", \"1\", \"4\", \"10\", \"16\", \"20\", \"22\", \"24\", \"25\", \"26\", \"28\", \"29\", \"30\", \"31\", \"34\"], \"mode\": \"markers\", \"name\": \"weighted_accuracy\", \"stepped\": false, \"type\": \"scatter\", \"data\": [0.9526099047279866, 0.9589491010372511, 0.8797858711769903, 0.8995888934340889, 0.8356113985338283, 0.85913330700552, 0.9265699064944206, 0.8626446571704114, 0.8155823791124535, 0.8571195715262059, 0.9140903832249707, 0.9422117122931524, 0.8307405009476083, 0.9422400510035285, 0.9650258704544408]}, {\"categories\": [\"0\", \"1\", \"4\", \"10\", \"16\", \"20\", \"22\", \"24\", \"25\", \"26\", \"28\", \"29\", \"30\", \"31\", \"34\"], \"mode\": \"lines\", \"name\": \"weighted_accuracy_max\", \"stepped\": true, \"type\": \"scatter\", \"data\": [0.9526099047279866, 0.9589491010372511, 0.9589491010372511, 0.9589491010372511, 0.9589491010372511, 0.9589491010372511, 0.9589491010372511, 0.9589491010372511, 0.9589491010372511, 0.9589491010372511, 0.9589491010372511, 0.9589491010372511, 0.9589491010372511, 0.9589491010372511, 0.9650258704544408]}], \"balanced_accuracy\": [{\"categories\": [\"0\", \"1\", \"4\", \"10\", \"16\", \"20\", \"22\", \"24\", \"25\", \"26\", \"28\", \"29\", \"30\", \"31\", \"34\"], \"mode\": \"markers\", \"name\": \"balanced_accuracy\", \"stepped\": false, \"type\": \"scatter\", \"data\": [0.9384528519686084, 0.9304259738201166, 0.7802420823783329, 0.823106650482373, 0.8255633868948138, 0.8027579006268818, 0.8839637478738572, 0.6596096137557801, 0.5, 0.8015141195323544, 0.8811709288761019, 0.9098126410994466, 0.6304326619644313, 0.9058337980904708, 0.9528447184157903]}, {\"categories\": [\"0\", \"1\", \"4\", \"10\", \"16\", \"20\", \"22\", \"24\", \"25\", \"26\", \"28\", \"29\", \"30\", \"31\", \"34\"], \"mode\": \"lines\", \"name\": \"balanced_accuracy_max\", \"stepped\": true, \"type\": \"scatter\", \"data\": [0.9384528519686084, 0.9384528519686084, 0.9384528519686084, 0.9384528519686084, 0.9384528519686084, 0.9384528519686084, 0.9384528519686084, 0.9384528519686084, 0.9384528519686084, 0.9384528519686084, 0.9384528519686084, 0.9384528519686084, 0.9384528519686084, 0.9384528519686084, 0.9528447184157903]}], \"AUC_macro\": [{\"categories\": [\"0\", \"1\", \"4\", \"10\", \"16\", \"20\", \"22\", \"24\", \"25\", \"26\", \"28\", \"29\", \"30\", \"31\", \"34\"], \"mode\": \"markers\", \"name\": \"AUC_macro\", \"stepped\": false, \"type\": \"scatter\", \"data\": [0.9802099042111787, 0.9758847091495513, 0.9315398486512688, 0.9250734771922912, 0.9111193198698269, 0.9096276577514674, 0.9729221212984114, 0.923439879861711, 0.7520434886398372, 0.9110497557342403, 0.9594891311263996, 0.9771015387343601, 0.8201607724864464, 0.9814326007546509, 0.9899110970702777]}, {\"categories\": [\"0\", \"1\", \"4\", \"10\", \"16\", \"20\", \"22\", \"24\", \"25\", \"26\", \"28\", \"29\", \"30\", \"31\", \"34\"], \"mode\": \"lines\", \"name\": \"AUC_macro_max\", \"stepped\": true, \"type\": \"scatter\", \"data\": [0.9802099042111787, 0.9802099042111787, 0.9802099042111787, 0.9802099042111787, 0.9802099042111787, 0.9802099042111787, 0.9802099042111787, 0.9802099042111787, 0.9802099042111787, 0.9802099042111787, 0.9802099042111787, 0.9802099042111787, 0.9802099042111787, 0.9814326007546509, 0.9899110970702777]}], \"average_precision_score_micro\": [{\"categories\": [\"0\", \"1\", \"4\", \"10\", \"16\", \"20\", \"22\", \"24\", \"25\", \"26\", \"28\", \"29\", \"30\", \"31\", \"34\"], \"mode\": \"markers\", \"name\": \"average_precision_score_micro\", \"stepped\": false, \"type\": \"scatter\", \"data\": [0.9764312176221234, 0.9731663997125265, 0.9294469006472502, 0.9360593043493686, 0.907965139496708, 0.9204538005186066, 0.9748047181527638, 0.8960622858793427, 0.7529132831345285, 0.9261155283239196, 0.9613335631121478, 0.9714316250970523, 0.8324892741912567, 0.979697946655547, 0.9892696970870007]}, {\"categories\": [\"0\", \"1\", \"4\", \"10\", \"16\", \"20\", \"22\", \"24\", \"25\", \"26\", \"28\", \"29\", \"30\", \"31\", \"34\"], \"mode\": \"lines\", \"name\": \"average_precision_score_micro_max\", \"stepped\": true, \"type\": \"scatter\", \"data\": [0.9764312176221234, 0.9764312176221234, 0.9764312176221234, 0.9764312176221234, 0.9764312176221234, 0.9764312176221234, 0.9764312176221234, 0.9764312176221234, 0.9764312176221234, 0.9764312176221234, 0.9764312176221234, 0.9764312176221234, 0.9764312176221234, 0.979697946655547, 0.9892696970870007]}], \"f1_score_macro\": [{\"categories\": [\"0\", \"1\", \"4\", \"10\", \"16\", \"20\", \"22\", \"24\", \"25\", \"26\", \"28\", \"29\", \"30\", \"31\", \"34\"], \"mode\": \"markers\", \"name\": \"f1_score_macro\", \"stepped\": false, \"type\": \"scatter\", \"data\": [0.9382144826517186, 0.9369063168905272, 0.7967956433632774, 0.8374525699666044, 0.8124371295047098, 0.8059387266287276, 0.8910797413931247, 0.6686241568043831, 0.40424795296015903, 0.8042705338483204, 0.8834595027657519, 0.9154520214837225, 0.6082001409870262, 0.912669658664842, 0.9527035436112196]}, {\"categories\": [\"0\", \"1\", \"4\", \"10\", \"16\", \"20\", \"22\", \"24\", \"25\", \"26\", \"28\", \"29\", \"30\", \"31\", \"34\"], \"mode\": \"lines\", \"name\": \"f1_score_macro_max\", \"stepped\": true, \"type\": \"scatter\", \"data\": [0.9382144826517186, 0.9382144826517186, 0.9382144826517186, 0.9382144826517186, 0.9382144826517186, 0.9382144826517186, 0.9382144826517186, 0.9382144826517186, 0.9382144826517186, 0.9382144826517186, 0.9382144826517186, 0.9382144826517186, 0.9382144826517186, 0.9382144826517186, 0.9527035436112196]}], \"AUC_micro\": [{\"categories\": [\"0\", \"1\", \"4\", \"10\", \"16\", \"20\", \"22\", \"24\", \"25\", \"26\", \"28\", \"29\", \"30\", \"31\", \"34\"], \"mode\": \"markers\", \"name\": \"AUC_micro\", \"stepped\": false, \"type\": \"scatter\", \"data\": [0.9804833758406774, 0.975918430511014, 0.9258601624117236, 0.9344644438692625, 0.9086517040815467, 0.920973911854078, 0.9742050594261088, 0.8898041398365361, 0.7887625825947157, 0.923389843690816, 0.962942947989529, 0.9759562346910432, 0.834373034140552, 0.9803086485610631, 0.9892081445754736]}, {\"categories\": [\"0\", \"1\", \"4\", \"10\", \"16\", \"20\", \"22\", \"24\", \"25\", \"26\", \"28\", \"29\", \"30\", \"31\", \"34\"], \"mode\": \"lines\", \"name\": \"AUC_micro_max\", \"stepped\": true, \"type\": \"scatter\", \"data\": [0.9804833758406774, 0.9804833758406774, 0.9804833758406774, 0.9804833758406774, 0.9804833758406774, 0.9804833758406774, 0.9804833758406774, 0.9804833758406774, 0.9804833758406774, 0.9804833758406774, 0.9804833758406774, 0.9804833758406774, 0.9804833758406774, 0.9804833758406774, 0.9892081445754736]}], \"precision_score_micro\": [{\"categories\": [\"0\", \"1\", \"4\", \"10\", \"16\", \"20\", \"22\", \"24\", \"25\", \"26\", \"28\", \"29\", \"30\", \"31\", \"34\"], \"mode\": \"markers\", \"name\": \"precision_score_micro\", \"stepped\": false, \"type\": \"scatter\", \"data\": [0.946499162479062, 0.946532663316583, 0.8361557788944723, 0.8662311557788945, 0.8311222780569514, 0.8344556113902848, 0.9080988274706868, 0.7741792294807371, 0.6788777219430485, 0.832780569514238, 0.8996984924623116, 0.928140703517588, 0.744070351758794, 0.9264740368509212, 0.9599162479061977]}, {\"categories\": [\"0\", \"1\", \"4\", \"10\", \"16\", \"20\", \"22\", \"24\", \"25\", \"26\", \"28\", \"29\", \"30\", \"31\", \"34\"], \"mode\": \"lines\", \"name\": \"precision_score_micro_max\", \"stepped\": true, \"type\": \"scatter\", \"data\": [0.946499162479062, 0.946532663316583, 0.946532663316583, 0.946532663316583, 0.946532663316583, 0.946532663316583, 0.946532663316583, 0.946532663316583, 0.946532663316583, 0.946532663316583, 0.946532663316583, 0.946532663316583, 0.946532663316583, 0.946532663316583, 0.9599162479061977]}], \"recall_score_weighted\": [{\"categories\": [\"0\", \"1\", \"4\", \"10\", \"16\", \"20\", \"22\", \"24\", \"25\", \"26\", \"28\", \"29\", \"30\", \"31\", \"34\"], \"mode\": \"markers\", \"name\": \"recall_score_weighted\", \"stepped\": false, \"type\": \"scatter\", \"data\": [0.946499162479062, 0.946532663316583, 0.8361557788944723, 0.8662311557788945, 0.8311222780569514, 0.8344556113902848, 0.9080988274706868, 0.7741792294807371, 0.6788777219430485, 0.832780569514238, 0.8996984924623116, 0.928140703517588, 0.744070351758794, 0.9264740368509212, 0.9599162479061977]}, {\"categories\": [\"0\", \"1\", \"4\", \"10\", \"16\", \"20\", \"22\", \"24\", \"25\", \"26\", \"28\", \"29\", \"30\", \"31\", \"34\"], \"mode\": \"lines\", \"name\": \"recall_score_weighted_max\", \"stepped\": true, \"type\": \"scatter\", \"data\": [0.946499162479062, 0.946532663316583, 0.946532663316583, 0.946532663316583, 0.946532663316583, 0.946532663316583, 0.946532663316583, 0.946532663316583, 0.946532663316583, 0.946532663316583, 0.946532663316583, 0.946532663316583, 0.946532663316583, 0.946532663316583, 0.9599162479061977]}]}, \"metricName\": null, \"primaryMetricName\": \"AUC_weighted\", \"showLegend\": false}, \"run_metrics\": [{\"name\": \"experiment_status\", \"run_id\": \"AutoML_bf1ec23c-5e81-4353-acba-4ed7d22c1a01\", \"categories\": [0, 1, 2, 3, 4, 5, 6, 7, 8, 9, 10, 11, 12, 13], \"series\": [{\"data\": [\"DatasetEvaluation\", \"FeaturesGeneration\", \"DatasetFeaturization\", \"DatasetFeaturizationCompleted\", \"DatasetCrossValidationSplit\", \"ModelSelection\", \"BestRunExplainModel\", \"ModelExplanationDataSetSetup\", \"PickSurrogateModel\", \"EngineeredFeatureExplanations\", \"EngineeredFeatureExplanations\", \"RawFeaturesExplanations\", \"RawFeaturesExplanations\", \"BestRunExplainModel\"]}]}, {\"name\": \"experiment_status_description\", \"run_id\": \"AutoML_bf1ec23c-5e81-4353-acba-4ed7d22c1a01\", \"categories\": [0, 1, 2, 3, 4, 5, 6, 7, 8, 9, 10, 11, 12, 13], \"series\": [{\"data\": [\"Gathering dataset statistics.\", \"Generating features for the dataset.\", \"Beginning to fit featurizers and featurize the dataset.\", \"Completed fit featurizers and featurizing the dataset.\", \"Generating individually featurized CV splits.\", \"Beginning model selection.\", \"Best run model explanations started\", \"Model explanations data setup completed\", \"Choosing LightGBM as the surrogate model for explanations\", \"Computation of engineered features started\", \"Computation of engineered features completed\", \"Computation of raw features started\", \"Computation of raw features completed\", \"Best run model explanations completed\"]}]}, {\"name\": \"matthews_correlation\", \"run_id\": \"AutoML_bf1ec23c-5e81-4353-acba-4ed7d22c1a01\", \"categories\": [0], \"series\": [{\"data\": [0.9065485189384197]}]}, {\"name\": \"f1_score_macro\", \"run_id\": \"AutoML_bf1ec23c-5e81-4353-acba-4ed7d22c1a01\", \"categories\": [0], \"series\": [{\"data\": [0.9527035436112196]}]}, {\"name\": \"balanced_accuracy\", \"run_id\": \"AutoML_bf1ec23c-5e81-4353-acba-4ed7d22c1a01\", \"categories\": [0], \"series\": [{\"data\": [0.9528447184157903]}]}, {\"name\": \"log_loss\", \"run_id\": \"AutoML_bf1ec23c-5e81-4353-acba-4ed7d22c1a01\", \"categories\": [0], \"series\": [{\"data\": [0.17661062409477676]}]}, {\"name\": \"recall_score_macro\", \"run_id\": \"AutoML_bf1ec23c-5e81-4353-acba-4ed7d22c1a01\", \"categories\": [0], \"series\": [{\"data\": [0.9528447184157903]}]}, {\"name\": \"recall_score_weighted\", \"run_id\": \"AutoML_bf1ec23c-5e81-4353-acba-4ed7d22c1a01\", \"categories\": [0], \"series\": [{\"data\": [0.9599162479061977]}]}, {\"name\": \"average_precision_score_macro\", \"run_id\": \"AutoML_bf1ec23c-5e81-4353-acba-4ed7d22c1a01\", \"categories\": [0], \"series\": [{\"data\": [0.981880481677751]}]}, {\"name\": \"recall_score_micro\", \"run_id\": \"AutoML_bf1ec23c-5e81-4353-acba-4ed7d22c1a01\", \"categories\": [0], \"series\": [{\"data\": [0.9599162479061977]}]}, {\"name\": \"AUC_weighted\", \"run_id\": \"AutoML_bf1ec23c-5e81-4353-acba-4ed7d22c1a01\", \"categories\": [0], \"series\": [{\"data\": [0.9899110970702777]}]}, {\"name\": \"precision_score_macro\", \"run_id\": \"AutoML_bf1ec23c-5e81-4353-acba-4ed7d22c1a01\", \"categories\": [0], \"series\": [{\"data\": [0.953823966463235]}]}, {\"name\": \"weighted_accuracy\", \"run_id\": \"AutoML_bf1ec23c-5e81-4353-acba-4ed7d22c1a01\", \"categories\": [0], \"series\": [{\"data\": [0.9650258704544408]}]}, {\"name\": \"AUC_micro\", \"run_id\": \"AutoML_bf1ec23c-5e81-4353-acba-4ed7d22c1a01\", \"categories\": [0], \"series\": [{\"data\": [0.9892081445754736]}]}, {\"name\": \"accuracy\", \"run_id\": \"AutoML_bf1ec23c-5e81-4353-acba-4ed7d22c1a01\", \"categories\": [0], \"series\": [{\"data\": [0.9599162479061977]}]}, {\"name\": \"f1_score_micro\", \"run_id\": \"AutoML_bf1ec23c-5e81-4353-acba-4ed7d22c1a01\", \"categories\": [0], \"series\": [{\"data\": [0.9599162479061977]}]}, {\"name\": \"norm_macro_recall\", \"run_id\": \"AutoML_bf1ec23c-5e81-4353-acba-4ed7d22c1a01\", \"categories\": [0], \"series\": [{\"data\": [0.9056894368315808]}]}, {\"name\": \"AUC_macro\", \"run_id\": \"AutoML_bf1ec23c-5e81-4353-acba-4ed7d22c1a01\", \"categories\": [0], \"series\": [{\"data\": [0.9899110970702777]}]}, {\"name\": \"precision_score_micro\", \"run_id\": \"AutoML_bf1ec23c-5e81-4353-acba-4ed7d22c1a01\", \"categories\": [0], \"series\": [{\"data\": [0.9599162479061977]}]}, {\"name\": \"precision_score_weighted\", \"run_id\": \"AutoML_bf1ec23c-5e81-4353-acba-4ed7d22c1a01\", \"categories\": [0], \"series\": [{\"data\": [0.9607936122419382]}]}, {\"name\": \"average_precision_score_micro\", \"run_id\": \"AutoML_bf1ec23c-5e81-4353-acba-4ed7d22c1a01\", \"categories\": [0], \"series\": [{\"data\": [0.9892696970870007]}]}, {\"name\": \"average_precision_score_weighted\", \"run_id\": \"AutoML_bf1ec23c-5e81-4353-acba-4ed7d22c1a01\", \"categories\": [0], \"series\": [{\"data\": [0.9878255687168603]}]}, {\"name\": \"f1_score_weighted\", \"run_id\": \"AutoML_bf1ec23c-5e81-4353-acba-4ed7d22c1a01\", \"categories\": [0], \"series\": [{\"data\": [0.9598505284759061]}]}], \"run_logs\": \"\\nRun is completed.\", \"graph\": {}, \"widget_settings\": {\"childWidgetDisplay\": \"popup\", \"send_telemetry\": false, \"log_level\": \"INFO\", \"sdk_version\": \"1.38.0\"}, \"loading\": false}"
          },
          "metadata": {}
        }
      ],
      "execution_count": 14,
      "metadata": {
        "gather": {
          "logged": 1648383260262
        },
        "jupyter": {
          "outputs_hidden": false,
          "source_hidden": false
        },
        "nteract": {
          "transient": {
            "deleting": false
          }
        }
      }
    },
    {
      "cell_type": "markdown",
      "source": [
        "## Best Model\n",
        "\n",
        "TODO: In the cell below, get the best model from the automl experiments and display all the properties of the model.\n",
        "\n"
      ],
      "metadata": {}
    },
    {
      "cell_type": "code",
      "source": [
        "best_run, fitted_model = remote_run.get_output()"
      ],
      "outputs": [
        {
          "output_type": "stream",
          "name": "stderr",
          "text": "WARNING:root:The model you attempted to retrieve requires 'azureml-train-automl-runtime' to be installed at '==1.38.0'. Please install 'azureml-train-automl-runtime==1.38.0' (e.g. `pip install azureml-train-automl-runtime==1.38.0`) and then rerun the previous command.\n"
        }
      ],
      "execution_count": 15,
      "metadata": {
        "gather": {
          "logged": 1648383267715
        },
        "jupyter": {
          "outputs_hidden": false,
          "source_hidden": false
        },
        "nteract": {
          "transient": {
            "deleting": false
          }
        }
      }
    },
    {
      "cell_type": "code",
      "source": [
        "best_metrics = best_run.get_metrics()\n",
        "\n",
        "print(\"Best run id : {}\".format(best_run.id), \n",
        "      \"AUC : {}\".format(best_metrics['accuracy']), \n",
        "      \"Best metrics : {}\".format(best_metrics), \n",
        "      \"Best model : {}\".format(fitted_model), sep = '\\n')"
      ],
      "outputs": [
        {
          "output_type": "stream",
          "name": "stdout",
          "text": "Best run id : AutoML_bf1ec23c-5e81-4353-acba-4ed7d22c1a01_34\nAUC : 0.9599162479061977\nBest metrics : {'f1_score_weighted': 0.9598505284759061, 'norm_macro_recall': 0.9056894368315808, 'average_precision_score_micro': 0.9892696970870007, 'f1_score_micro': 0.9599162479061977, 'average_precision_score_weighted': 0.9878255687168603, 'precision_score_micro': 0.9599162479061977, 'recall_score_micro': 0.9599162479061977, 'average_precision_score_macro': 0.981880481677751, 'precision_score_weighted': 0.9607936122419382, 'AUC_micro': 0.9892081445754736, 'AUC_weighted': 0.9899110970702777, 'balanced_accuracy': 0.9528447184157903, 'f1_score_macro': 0.9527035436112196, 'accuracy': 0.9599162479061977, 'recall_score_weighted': 0.9599162479061977, 'AUC_macro': 0.9899110970702777, 'log_loss': 0.17661062409477676, 'weighted_accuracy': 0.9650258704544408, 'recall_score_macro': 0.9528447184157903, 'precision_score_macro': 0.953823966463235, 'matthews_correlation': 0.9065485189384197, 'confusion_matrix': 'aml://artifactId/ExperimentRun/dcid.AutoML_bf1ec23c-5e81-4353-acba-4ed7d22c1a01_34/confusion_matrix', 'accuracy_table': 'aml://artifactId/ExperimentRun/dcid.AutoML_bf1ec23c-5e81-4353-acba-4ed7d22c1a01_34/accuracy_table'}\nBest model : None\n"
        }
      ],
      "execution_count": 16,
      "metadata": {
        "gather": {
          "logged": 1648383272097
        },
        "jupyter": {
          "outputs_hidden": false,
          "source_hidden": false
        },
        "nteract": {
          "transient": {
            "deleting": false
          }
        }
      }
    },
    {
      "cell_type": "code",
      "source": [
        "#the fitted model\n",
        "_, fitted_model = remote_run.get_output()\n",
        "print(fitted_model)"
      ],
      "outputs": [
        {
          "output_type": "stream",
          "name": "stderr",
          "text": "WARNING:root:The model you attempted to retrieve requires 'azureml-train-automl-runtime' to be installed at '==1.38.0'. Please install 'azureml-train-automl-runtime==1.38.0' (e.g. `pip install azureml-train-automl-runtime==1.38.0`) and then rerun the previous command.\n"
        }
      ],
      "execution_count": 17,
      "metadata": {
        "gather": {
          "logged": 1648383273713
        }
      }
    },
    {
      "cell_type": "code",
      "source": [
        "#TODO: Save the best model\n",
        "best_run.register_model(model_name = 'automl_best_model.pkl', model_path = './outputs/')\n",
        "joblib.dump(fitted_model, filename= \"outputs/automl_model.pkl\")"
      ],
      "outputs": [
        {
          "output_type": "execute_result",
          "execution_count": 18,
          "data": {
            "text/plain": "['outputs/automl_model.pkl']"
          },
          "metadata": {}
        }
      ],
      "execution_count": 18,
      "metadata": {
        "gather": {
          "logged": 1648383275327
        }
      }
    },
    {
      "cell_type": "markdown",
      "source": [
        "## Model Deployment\n",
        "\n",
        "Remember you have to deploy only one of the two models you trained but you still need to register both the models. Perform the steps in the rest of this notebook only if you wish to deploy this model.\n",
        "\n",
        "TODO: In the cell below, register the model, create an inference config and deploy the model as a web service."
      ],
      "metadata": {}
    },
    {
      "cell_type": "code",
      "source": [
        "# downloading score.py and env file\n",
        "best_run.download_file('outputs/scoring_file_v_1_0_0.py', 'inference/score.py')"
      ],
      "outputs": [],
      "execution_count": 19,
      "metadata": {
        "gather": {
          "logged": 1648383275792
        },
        "jupyter": {
          "outputs_hidden": false,
          "source_hidden": false
        },
        "nteract": {
          "transient": {
            "deleting": false
          }
        }
      }
    },
    {
      "cell_type": "markdown",
      "source": [
        "TODO: In the cell below, send a request to the web service you deployed to test it."
      ],
      "metadata": {
        "collapsed": true,
        "gather": {
          "logged": 1598431657736
        },
        "jupyter": {
          "outputs_hidden": false,
          "source_hidden": false
        },
        "nteract": {
          "transient": {
            "deleting": false
          }
        }
      }
    },
    {
      "cell_type": "code",
      "source": [
        "# registering the model\n",
        "model_name = best_run.properties['model_name']\n",
        "description = 'AutoML model trained on heart failure data so as to predict whether death event occurs based on the clinical values'\n",
        "tags = None\n",
        "model = remote_run.register_model(model_name = model_name, description = description, tags = tags)\n",
        "\n",
        "print(remote_run.model_id) # This will be written to the script file later in the notebook."
      ],
      "outputs": [
        {
          "output_type": "stream",
          "name": "stdout",
          "text": "AutoMLbf1ec23c534\n"
        }
      ],
      "execution_count": 20,
      "metadata": {
        "gather": {
          "logged": 1648383277357
        },
        "jupyter": {
          "outputs_hidden": false,
          "source_hidden": false
        },
        "nteract": {
          "transient": {
            "deleting": false
          }
        }
      }
    },
    {
      "cell_type": "code",
      "source": [
        "#Donwloading the scoring file\n",
        "environment_name = 'heart-failure-ws'\n",
        "environment = Environment.from_conda_specification(name=environment_name, file_path='conda_dependencies.yml')\n",
        "best_run.download_file('outputs/scoring_file_v_1_0_0.py', 'score.py')\n",
        "\n",
        "#Inference configuration\n",
        "inference_config = InferenceConfig(entry_script = 'score.py', environment = environment)\n",
        "\n",
        "aci_config = AciWebservice.deploy_configuration(cpu_cores = 1, \n",
        "                                                    memory_gb = 1, \n",
        "                                                    auth_enabled= True, \n",
        "                                                    enable_app_insights= True)\n",
        "\n",
        "service = Model.deploy(\n",
        "    workspace = ws,\n",
        "    name='heart-failure-ws',\n",
        "    models=[model],\n",
        "    inference_config=inference_config,\n",
        "    deployment_config=aci_config,\n",
        "    overwrite=True)\n",
        "\n",
        "service.wait_for_deployment(show_output = True)"
      ],
      "outputs": [
        {
          "output_type": "stream",
          "name": "stdout",
          "text": "Tips: You can try get_logs(): https://aka.ms/debugimage#dockerlog or local deployment: https://aka.ms/debugimage#debug-locally to debug if deployment takes longer than 10 minutes.\nRunning\n2022-03-27 12:46:56+00:00 Creating Container Registry if not exists.\n2022-03-27 12:46:56+00:00 Registering the environment.\n2022-03-27 12:46:57+00:00 Use the existing image.\n2022-03-27 12:46:58+00:00 Generating deployment configuration.\n2022-03-27 12:46:58+00:00 Submitting deployment to compute.\n2022-03-27 12:47:05+00:00 Checking the status of deployment heart-failure-ws..\n2022-03-27 12:50:18+00:00 Checking the status of inference endpoint heart-failure-ws.\nFailed\n"
        },
        {
          "output_type": "stream",
          "name": "stderr",
          "text": "ERROR:azureml.core.webservice.webservice:Service deployment polling reached non-successful terminal state, current service state: Failed\nOperation ID: 0511d211-1f83-46e2-b7d8-d8a32c5551cd\nMore information can be found using '.get_logs()'\nError:\n{\n  \"code\": \"AciDeploymentFailed\",\n  \"statusCode\": 400,\n  \"message\": \"Aci Deployment failed with exception: Your container application crashed. This may be caused by errors in your scoring file's init() function.\n\t1. Please check the logs for your container instance: heart-failure-ws. From the AML SDK, you can run print(service.get_logs()) if you have service object to fetch the logs.\n\t2. You can interactively debug your scoring file locally. Please refer to https://docs.microsoft.com/azure/machine-learning/how-to-debug-visual-studio-code#debug-and-troubleshoot-deployments for more information.\n\t3. You can also try to run image d96ceb558630468fa1d411d4099cddc2.azurecr.io/azureml/azureml_458ecd79cd67b35abd40504d66eb2a07 locally. Please refer to https://aka.ms/debugimage#service-launch-fails for more information.\",\n  \"details\": [\n    {\n      \"code\": \"CrashLoopBackOff\",\n      \"message\": \"Your container application crashed. This may be caused by errors in your scoring file's init() function.\n\t1. Please check the logs for your container instance: heart-failure-ws. From the AML SDK, you can run print(service.get_logs()) if you have service object to fetch the logs.\n\t2. You can interactively debug your scoring file locally. Please refer to https://docs.microsoft.com/azure/machine-learning/how-to-debug-visual-studio-code#debug-and-troubleshoot-deployments for more information.\n\t3. You can also try to run image d96ceb558630468fa1d411d4099cddc2.azurecr.io/azureml/azureml_458ecd79cd67b35abd40504d66eb2a07 locally. Please refer to https://aka.ms/debugimage#service-launch-fails for more information.\"\n    },\n    {\n      \"code\": \"AciDeploymentFailed\",\n      \"message\": \"Your container application crashed. Please follow the steps to debug:\n\t1. From the AML SDK, you can run print(service.get_logs()) if you have service object to fetch the logs. Please refer to https://aka.ms/debugimage#dockerlog for more information.\n\t2. If your container application crashed. This may be caused by errors in your scoring file's init() function. You can try debugging locally first. Please refer to https://aka.ms/debugimage#debug-locally for more information.\n\t3. You can also interactively debug your scoring file locally. Please refer to https://docs.microsoft.com/azure/machine-learning/how-to-debug-visual-studio-code#debug-and-troubleshoot-deployments for more information.\n\t4. View the diagnostic events to check status of container, it may help you to debug the issue.\n\"RestartCount\": 3\n\"CurrentState\": {\"state\":\"Waiting\",\"startTime\":null,\"exitCode\":null,\"finishTime\":null,\"detailStatus\":\"CrashLoopBackOff: Back-off restarting failed\"}\n\"PreviousState\": {\"state\":\"Terminated\",\"startTime\":\"2022-03-27T12:51:28.244Z\",\"exitCode\":111,\"finishTime\":\"2022-03-27T12:51:32.626Z\",\"detailStatus\":\"Error\"}\n\"Events\": null\n\"\n    }\n  ]\n}\n\n"
        },
        {
          "output_type": "error",
          "ename": "WebserviceException",
          "evalue": "WebserviceException:\n\tMessage: Service deployment polling reached non-successful terminal state, current service state: Failed\nOperation ID: 0511d211-1f83-46e2-b7d8-d8a32c5551cd\nMore information can be found using '.get_logs()'\nError:\n{\n  \"code\": \"AciDeploymentFailed\",\n  \"statusCode\": 400,\n  \"message\": \"Aci Deployment failed with exception: Your container application crashed. This may be caused by errors in your scoring file's init() function.\n\t1. Please check the logs for your container instance: heart-failure-ws. From the AML SDK, you can run print(service.get_logs()) if you have service object to fetch the logs.\n\t2. You can interactively debug your scoring file locally. Please refer to https://docs.microsoft.com/azure/machine-learning/how-to-debug-visual-studio-code#debug-and-troubleshoot-deployments for more information.\n\t3. You can also try to run image d96ceb558630468fa1d411d4099cddc2.azurecr.io/azureml/azureml_458ecd79cd67b35abd40504d66eb2a07 locally. Please refer to https://aka.ms/debugimage#service-launch-fails for more information.\",\n  \"details\": [\n    {\n      \"code\": \"CrashLoopBackOff\",\n      \"message\": \"Your container application crashed. This may be caused by errors in your scoring file's init() function.\n\t1. Please check the logs for your container instance: heart-failure-ws. From the AML SDK, you can run print(service.get_logs()) if you have service object to fetch the logs.\n\t2. You can interactively debug your scoring file locally. Please refer to https://docs.microsoft.com/azure/machine-learning/how-to-debug-visual-studio-code#debug-and-troubleshoot-deployments for more information.\n\t3. You can also try to run image d96ceb558630468fa1d411d4099cddc2.azurecr.io/azureml/azureml_458ecd79cd67b35abd40504d66eb2a07 locally. Please refer to https://aka.ms/debugimage#service-launch-fails for more information.\"\n    },\n    {\n      \"code\": \"AciDeploymentFailed\",\n      \"message\": \"Your container application crashed. Please follow the steps to debug:\n\t1. From the AML SDK, you can run print(service.get_logs()) if you have service object to fetch the logs. Please refer to https://aka.ms/debugimage#dockerlog for more information.\n\t2. If your container application crashed. This may be caused by errors in your scoring file's init() function. You can try debugging locally first. Please refer to https://aka.ms/debugimage#debug-locally for more information.\n\t3. You can also interactively debug your scoring file locally. Please refer to https://docs.microsoft.com/azure/machine-learning/how-to-debug-visual-studio-code#debug-and-troubleshoot-deployments for more information.\n\t4. View the diagnostic events to check status of container, it may help you to debug the issue.\n\"RestartCount\": 3\n\"CurrentState\": {\"state\":\"Waiting\",\"startTime\":null,\"exitCode\":null,\"finishTime\":null,\"detailStatus\":\"CrashLoopBackOff: Back-off restarting failed\"}\n\"PreviousState\": {\"state\":\"Terminated\",\"startTime\":\"2022-03-27T12:51:28.244Z\",\"exitCode\":111,\"finishTime\":\"2022-03-27T12:51:32.626Z\",\"detailStatus\":\"Error\"}\n\"Events\": null\n\"\n    }\n  ]\n}\n\tInnerException None\n\tErrorResponse \n{\n    \"error\": {\n        \"message\": \"Service deployment polling reached non-successful terminal state, current service state: Failed\\nOperation ID: 0511d211-1f83-46e2-b7d8-d8a32c5551cd\\nMore information can be found using '.get_logs()'\\nError:\\n{\\n  \\\"code\\\": \\\"AciDeploymentFailed\\\",\\n  \\\"statusCode\\\": 400,\\n  \\\"message\\\": \\\"Aci Deployment failed with exception: Your container application crashed. This may be caused by errors in your scoring file's init() function.\\n\\t1. Please check the logs for your container instance: heart-failure-ws. From the AML SDK, you can run print(service.get_logs()) if you have service object to fetch the logs.\\n\\t2. You can interactively debug your scoring file locally. Please refer to https://docs.microsoft.com/azure/machine-learning/how-to-debug-visual-studio-code#debug-and-troubleshoot-deployments for more information.\\n\\t3. You can also try to run image d96ceb558630468fa1d411d4099cddc2.azurecr.io/azureml/azureml_458ecd79cd67b35abd40504d66eb2a07 locally. Please refer to https://aka.ms/debugimage#service-launch-fails for more information.\\\",\\n  \\\"details\\\": [\\n    {\\n      \\\"code\\\": \\\"CrashLoopBackOff\\\",\\n      \\\"message\\\": \\\"Your container application crashed. This may be caused by errors in your scoring file's init() function.\\n\\t1. Please check the logs for your container instance: heart-failure-ws. From the AML SDK, you can run print(service.get_logs()) if you have service object to fetch the logs.\\n\\t2. You can interactively debug your scoring file locally. Please refer to https://docs.microsoft.com/azure/machine-learning/how-to-debug-visual-studio-code#debug-and-troubleshoot-deployments for more information.\\n\\t3. You can also try to run image d96ceb558630468fa1d411d4099cddc2.azurecr.io/azureml/azureml_458ecd79cd67b35abd40504d66eb2a07 locally. Please refer to https://aka.ms/debugimage#service-launch-fails for more information.\\\"\\n    },\\n    {\\n      \\\"code\\\": \\\"AciDeploymentFailed\\\",\\n      \\\"message\\\": \\\"Your container application crashed. Please follow the steps to debug:\\n\\t1. From the AML SDK, you can run print(service.get_logs()) if you have service object to fetch the logs. Please refer to https://aka.ms/debugimage#dockerlog for more information.\\n\\t2. If your container application crashed. This may be caused by errors in your scoring file's init() function. You can try debugging locally first. Please refer to https://aka.ms/debugimage#debug-locally for more information.\\n\\t3. You can also interactively debug your scoring file locally. Please refer to https://docs.microsoft.com/azure/machine-learning/how-to-debug-visual-studio-code#debug-and-troubleshoot-deployments for more information.\\n\\t4. View the diagnostic events to check status of container, it may help you to debug the issue.\\n\\\"RestartCount\\\": 3\\n\\\"CurrentState\\\": {\\\"state\\\":\\\"Waiting\\\",\\\"startTime\\\":null,\\\"exitCode\\\":null,\\\"finishTime\\\":null,\\\"detailStatus\\\":\\\"CrashLoopBackOff: Back-off restarting failed\\\"}\\n\\\"PreviousState\\\": {\\\"state\\\":\\\"Terminated\\\",\\\"startTime\\\":\\\"2022-03-27T12:51:28.244Z\\\",\\\"exitCode\\\":111,\\\"finishTime\\\":\\\"2022-03-27T12:51:32.626Z\\\",\\\"detailStatus\\\":\\\"Error\\\"}\\n\\\"Events\\\": null\\n\\\"\\n    }\\n  ]\\n}\"\n    }\n}",
          "traceback": [
            "\u001b[0;31m---------------------------------------------------------------------------\u001b[0m",
            "\u001b[0;31mWebserviceException\u001b[0m                       Traceback (most recent call last)",
            "Input \u001b[0;32mIn [22]\u001b[0m, in \u001b[0;36m<module>\u001b[0;34m\u001b[0m\n\u001b[1;32m      9\u001b[0m aci_config \u001b[38;5;241m=\u001b[39m AciWebservice\u001b[38;5;241m.\u001b[39mdeploy_configuration(cpu_cores \u001b[38;5;241m=\u001b[39m \u001b[38;5;241m1\u001b[39m, \n\u001b[1;32m     10\u001b[0m                                                     memory_gb \u001b[38;5;241m=\u001b[39m \u001b[38;5;241m1\u001b[39m, \n\u001b[1;32m     11\u001b[0m                                                     auth_enabled\u001b[38;5;241m=\u001b[39m \u001b[38;5;28;01mTrue\u001b[39;00m, \n\u001b[1;32m     12\u001b[0m                                                     enable_app_insights\u001b[38;5;241m=\u001b[39m \u001b[38;5;28;01mTrue\u001b[39;00m)\n\u001b[1;32m     14\u001b[0m service \u001b[38;5;241m=\u001b[39m Model\u001b[38;5;241m.\u001b[39mdeploy(\n\u001b[1;32m     15\u001b[0m     workspace \u001b[38;5;241m=\u001b[39m ws,\n\u001b[1;32m     16\u001b[0m     name\u001b[38;5;241m=\u001b[39m\u001b[38;5;124m'\u001b[39m\u001b[38;5;124mheart-failure-ws\u001b[39m\u001b[38;5;124m'\u001b[39m,\n\u001b[0;32m   (...)\u001b[0m\n\u001b[1;32m     19\u001b[0m     deployment_config\u001b[38;5;241m=\u001b[39maci_config,\n\u001b[1;32m     20\u001b[0m     overwrite\u001b[38;5;241m=\u001b[39m\u001b[38;5;28;01mTrue\u001b[39;00m)\n\u001b[0;32m---> 22\u001b[0m \u001b[43mservice\u001b[49m\u001b[38;5;241;43m.\u001b[39;49m\u001b[43mwait_for_deployment\u001b[49m\u001b[43m(\u001b[49m\u001b[43mshow_output\u001b[49m\u001b[43m \u001b[49m\u001b[38;5;241;43m=\u001b[39;49m\u001b[43m \u001b[49m\u001b[38;5;28;43;01mTrue\u001b[39;49;00m\u001b[43m)\u001b[49m\n",
            "File \u001b[0;32m/anaconda/envs/azureml_py38/lib/python3.8/site-packages/azureml/core/webservice/webservice.py:919\u001b[0m, in \u001b[0;36mWebservice.wait_for_deployment\u001b[0;34m(self, show_output, timeout_sec)\u001b[0m\n\u001b[1;32m    916\u001b[0m         \u001b[38;5;28;01mif\u001b[39;00m \u001b[38;5;129;01mnot\u001b[39;00m logs_response:\n\u001b[1;32m    917\u001b[0m             logs_response \u001b[38;5;241m=\u001b[39m \u001b[38;5;124m'\u001b[39m\u001b[38;5;124mCurrent sub-operation type not known, more logs unavailable.\u001b[39m\u001b[38;5;124m'\u001b[39m\n\u001b[0;32m--> 919\u001b[0m         \u001b[38;5;28;01mraise\u001b[39;00m WebserviceException(\u001b[38;5;124m'\u001b[39m\u001b[38;5;124mService deployment polling reached non-successful terminal state, current \u001b[39m\u001b[38;5;124m'\u001b[39m\n\u001b[1;32m    920\u001b[0m                                   \u001b[38;5;124m'\u001b[39m\u001b[38;5;124mservice state: \u001b[39m\u001b[38;5;132;01m{}\u001b[39;00m\u001b[38;5;130;01m\\n\u001b[39;00m\u001b[38;5;124m'\u001b[39m\n\u001b[1;32m    921\u001b[0m                                   \u001b[38;5;124m'\u001b[39m\u001b[38;5;124mOperation ID: \u001b[39m\u001b[38;5;132;01m{}\u001b[39;00m\u001b[38;5;130;01m\\n\u001b[39;00m\u001b[38;5;124m'\u001b[39m\n\u001b[1;32m    922\u001b[0m                                   \u001b[38;5;124m'\u001b[39m\u001b[38;5;132;01m{}\u001b[39;00m\u001b[38;5;130;01m\\n\u001b[39;00m\u001b[38;5;124m'\u001b[39m\n\u001b[1;32m    923\u001b[0m                                   \u001b[38;5;124m'\u001b[39m\u001b[38;5;124mError:\u001b[39m\u001b[38;5;130;01m\\n\u001b[39;00m\u001b[38;5;124m'\u001b[39m\n\u001b[1;32m    924\u001b[0m                                   \u001b[38;5;124m'\u001b[39m\u001b[38;5;132;01m{}\u001b[39;00m\u001b[38;5;124m'\u001b[39m\u001b[38;5;241m.\u001b[39mformat(\u001b[38;5;28mself\u001b[39m\u001b[38;5;241m.\u001b[39mstate, \u001b[38;5;28mself\u001b[39m\u001b[38;5;241m.\u001b[39m_operation_endpoint\u001b[38;5;241m.\u001b[39msplit(\u001b[38;5;124m'\u001b[39m\u001b[38;5;124m/\u001b[39m\u001b[38;5;124m'\u001b[39m)[\u001b[38;5;241m-\u001b[39m\u001b[38;5;241m1\u001b[39m],\n\u001b[1;32m    925\u001b[0m                                               logs_response, format_error_response), logger\u001b[38;5;241m=\u001b[39mmodule_logger)\n\u001b[1;32m    926\u001b[0m     \u001b[38;5;28mprint\u001b[39m(\u001b[38;5;124m'\u001b[39m\u001b[38;5;132;01m{}\u001b[39;00m\u001b[38;5;124m service creation operation finished, operation \u001b[39m\u001b[38;5;124m\"\u001b[39m\u001b[38;5;132;01m{}\u001b[39;00m\u001b[38;5;124m\"\u001b[39m\u001b[38;5;124m'\u001b[39m\u001b[38;5;241m.\u001b[39mformat(\u001b[38;5;28mself\u001b[39m\u001b[38;5;241m.\u001b[39m_webservice_type,\n\u001b[1;32m    927\u001b[0m                                                                           operation_state))\n\u001b[1;32m    928\u001b[0m \u001b[38;5;28;01mexcept\u001b[39;00m WebserviceException \u001b[38;5;28;01mas\u001b[39;00m e:\n",
            "\u001b[0;31mWebserviceException\u001b[0m: WebserviceException:\n\tMessage: Service deployment polling reached non-successful terminal state, current service state: Failed\nOperation ID: 0511d211-1f83-46e2-b7d8-d8a32c5551cd\nMore information can be found using '.get_logs()'\nError:\n{\n  \"code\": \"AciDeploymentFailed\",\n  \"statusCode\": 400,\n  \"message\": \"Aci Deployment failed with exception: Your container application crashed. This may be caused by errors in your scoring file's init() function.\n\t1. Please check the logs for your container instance: heart-failure-ws. From the AML SDK, you can run print(service.get_logs()) if you have service object to fetch the logs.\n\t2. You can interactively debug your scoring file locally. Please refer to https://docs.microsoft.com/azure/machine-learning/how-to-debug-visual-studio-code#debug-and-troubleshoot-deployments for more information.\n\t3. You can also try to run image d96ceb558630468fa1d411d4099cddc2.azurecr.io/azureml/azureml_458ecd79cd67b35abd40504d66eb2a07 locally. Please refer to https://aka.ms/debugimage#service-launch-fails for more information.\",\n  \"details\": [\n    {\n      \"code\": \"CrashLoopBackOff\",\n      \"message\": \"Your container application crashed. This may be caused by errors in your scoring file's init() function.\n\t1. Please check the logs for your container instance: heart-failure-ws. From the AML SDK, you can run print(service.get_logs()) if you have service object to fetch the logs.\n\t2. You can interactively debug your scoring file locally. Please refer to https://docs.microsoft.com/azure/machine-learning/how-to-debug-visual-studio-code#debug-and-troubleshoot-deployments for more information.\n\t3. You can also try to run image d96ceb558630468fa1d411d4099cddc2.azurecr.io/azureml/azureml_458ecd79cd67b35abd40504d66eb2a07 locally. Please refer to https://aka.ms/debugimage#service-launch-fails for more information.\"\n    },\n    {\n      \"code\": \"AciDeploymentFailed\",\n      \"message\": \"Your container application crashed. Please follow the steps to debug:\n\t1. From the AML SDK, you can run print(service.get_logs()) if you have service object to fetch the logs. Please refer to https://aka.ms/debugimage#dockerlog for more information.\n\t2. If your container application crashed. This may be caused by errors in your scoring file's init() function. You can try debugging locally first. Please refer to https://aka.ms/debugimage#debug-locally for more information.\n\t3. You can also interactively debug your scoring file locally. Please refer to https://docs.microsoft.com/azure/machine-learning/how-to-debug-visual-studio-code#debug-and-troubleshoot-deployments for more information.\n\t4. View the diagnostic events to check status of container, it may help you to debug the issue.\n\"RestartCount\": 3\n\"CurrentState\": {\"state\":\"Waiting\",\"startTime\":null,\"exitCode\":null,\"finishTime\":null,\"detailStatus\":\"CrashLoopBackOff: Back-off restarting failed\"}\n\"PreviousState\": {\"state\":\"Terminated\",\"startTime\":\"2022-03-27T12:51:28.244Z\",\"exitCode\":111,\"finishTime\":\"2022-03-27T12:51:32.626Z\",\"detailStatus\":\"Error\"}\n\"Events\": null\n\"\n    }\n  ]\n}\n\tInnerException None\n\tErrorResponse \n{\n    \"error\": {\n        \"message\": \"Service deployment polling reached non-successful terminal state, current service state: Failed\\nOperation ID: 0511d211-1f83-46e2-b7d8-d8a32c5551cd\\nMore information can be found using '.get_logs()'\\nError:\\n{\\n  \\\"code\\\": \\\"AciDeploymentFailed\\\",\\n  \\\"statusCode\\\": 400,\\n  \\\"message\\\": \\\"Aci Deployment failed with exception: Your container application crashed. This may be caused by errors in your scoring file's init() function.\\n\\t1. Please check the logs for your container instance: heart-failure-ws. From the AML SDK, you can run print(service.get_logs()) if you have service object to fetch the logs.\\n\\t2. You can interactively debug your scoring file locally. Please refer to https://docs.microsoft.com/azure/machine-learning/how-to-debug-visual-studio-code#debug-and-troubleshoot-deployments for more information.\\n\\t3. You can also try to run image d96ceb558630468fa1d411d4099cddc2.azurecr.io/azureml/azureml_458ecd79cd67b35abd40504d66eb2a07 locally. Please refer to https://aka.ms/debugimage#service-launch-fails for more information.\\\",\\n  \\\"details\\\": [\\n    {\\n      \\\"code\\\": \\\"CrashLoopBackOff\\\",\\n      \\\"message\\\": \\\"Your container application crashed. This may be caused by errors in your scoring file's init() function.\\n\\t1. Please check the logs for your container instance: heart-failure-ws. From the AML SDK, you can run print(service.get_logs()) if you have service object to fetch the logs.\\n\\t2. You can interactively debug your scoring file locally. Please refer to https://docs.microsoft.com/azure/machine-learning/how-to-debug-visual-studio-code#debug-and-troubleshoot-deployments for more information.\\n\\t3. You can also try to run image d96ceb558630468fa1d411d4099cddc2.azurecr.io/azureml/azureml_458ecd79cd67b35abd40504d66eb2a07 locally. Please refer to https://aka.ms/debugimage#service-launch-fails for more information.\\\"\\n    },\\n    {\\n      \\\"code\\\": \\\"AciDeploymentFailed\\\",\\n      \\\"message\\\": \\\"Your container application crashed. Please follow the steps to debug:\\n\\t1. From the AML SDK, you can run print(service.get_logs()) if you have service object to fetch the logs. Please refer to https://aka.ms/debugimage#dockerlog for more information.\\n\\t2. If your container application crashed. This may be caused by errors in your scoring file's init() function. You can try debugging locally first. Please refer to https://aka.ms/debugimage#debug-locally for more information.\\n\\t3. You can also interactively debug your scoring file locally. Please refer to https://docs.microsoft.com/azure/machine-learning/how-to-debug-visual-studio-code#debug-and-troubleshoot-deployments for more information.\\n\\t4. View the diagnostic events to check status of container, it may help you to debug the issue.\\n\\\"RestartCount\\\": 3\\n\\\"CurrentState\\\": {\\\"state\\\":\\\"Waiting\\\",\\\"startTime\\\":null,\\\"exitCode\\\":null,\\\"finishTime\\\":null,\\\"detailStatus\\\":\\\"CrashLoopBackOff: Back-off restarting failed\\\"}\\n\\\"PreviousState\\\": {\\\"state\\\":\\\"Terminated\\\",\\\"startTime\\\":\\\"2022-03-27T12:51:28.244Z\\\",\\\"exitCode\\\":111,\\\"finishTime\\\":\\\"2022-03-27T12:51:32.626Z\\\",\\\"detailStatus\\\":\\\"Error\\\"}\\n\\\"Events\\\": null\\n\\\"\\n    }\\n  ]\\n}\"\n    }\n}"
          ]
        }
      ],
      "execution_count": 22,
      "metadata": {}
    },
    {
      "cell_type": "markdown",
      "source": [
        "### Consume the Model"
      ],
      "metadata": {
        "nteract": {
          "transient": {
            "deleting": false
          }
        }
      }
    },
    {
      "cell_type": "code",
      "source": [
        "# creating a randomly selected test data\n",
        "test_data = df.sample(10)\n",
        "test_label = test_data.pop('DEATH_EVENT')\n",
        "\n",
        "# converting the records to a json data file\n",
        "import json\n",
        "data_json = test_data.to_dict(orient='records')\n",
        "data = json.dumps({'data': data_json})"
      ],
      "outputs": [],
      "execution_count": null,
      "metadata": {}
    },
    {
      "cell_type": "code",
      "source": [
        "# getting inference\n",
        "output = webservice.run(data)\n",
        "print(output)"
      ],
      "outputs": [],
      "execution_count": null,
      "metadata": {}
    },
    {
      "cell_type": "markdown",
      "source": [
        "TODO: In the cell below, print the logs of the web service and delete the service"
      ],
      "metadata": {
        "collapsed": true,
        "gather": {
          "logged": 1598432765711
        },
        "jupyter": {
          "outputs_hidden": false,
          "source_hidden": false
        },
        "nteract": {
          "transient": {
            "deleting": false
          }
        }
      }
    },
    {
      "cell_type": "code",
      "source": [
        "webservice.get_logs()"
      ],
      "outputs": [],
      "execution_count": null,
      "metadata": {}
    },
    {
      "cell_type": "markdown",
      "source": [],
      "metadata": {
        "nteract": {
          "transient": {
            "deleting": false
          }
        }
      }
    },
    {
      "cell_type": "code",
      "source": [
        "#webservice.delete()\n",
        "#compute_target.delete()"
      ],
      "outputs": [],
      "execution_count": null,
      "metadata": {
        "jupyter": {
          "outputs_hidden": false,
          "source_hidden": false
        },
        "nteract": {
          "transient": {
            "deleting": false
          }
        }
      }
    },
    {
      "cell_type": "markdown",
      "source": [
        "**Submission Checklist**\n",
        "- I have registered the model.\n",
        "- I have deployed the model with the best accuracy as a webservice.\n",
        "- I have tested the webservice by sending a request to the model endpoint.\n",
        "- I have deleted the webservice and shutdown all the computes that I have used.\n",
        "- I have taken a screenshot showing the model endpoint as active.\n",
        "- The project includes a file containing the environment details.\n"
      ],
      "metadata": {}
    },
    {
      "cell_type": "markdown",
      "source": [],
      "metadata": {}
    }
  ],
  "metadata": {
    "kernel_info": {
      "name": "python3"
    },
    "kernelspec": {
      "name": "python3",
      "language": "python",
      "display_name": "Python 3"
    },
    "language_info": {
      "name": "python",
      "version": "3.8.1",
      "mimetype": "text/x-python",
      "codemirror_mode": {
        "name": "ipython",
        "version": 3
      },
      "pygments_lexer": "ipython3",
      "nbconvert_exporter": "python",
      "file_extension": ".py"
    },
    "microsoft": {
      "host": {
        "AzureML": {
          "notebookHasBeenCompleted": true
        }
      }
    },
    "nteract": {
      "version": "nteract-front-end@1.0.0"
    }
  },
  "nbformat": 4,
  "nbformat_minor": 2
}